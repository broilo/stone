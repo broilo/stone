{
 "cells": [
  {
   "cell_type": "markdown",
   "metadata": {},
   "source": [
    "# Cornershop's Data Science Test\n",
    "\n",
    "## Dev: Mateus Broilo\n",
    "mateus.brilo90@gmail.com\n",
    "\n",
    "* Objectives: Load Datasets and perform "
   ]
  },
  {
   "cell_type": "markdown",
   "metadata": {},
   "source": [
    " # Summary\n",
    "\n",
    "* Initials\n",
    "    * Loading Libraries and Packages\n",
    "    * Configurations\n",
    "    * Global Variables\n",
    "* Loading Datasets\n",
    "    * Sheet 1\n",
    "* Loading Datasets\n",
    "    * Sheet 1\n",
    "    * Data Handling\n",
    "        * CBK not null\n",
    "        * CBK null\n",
    "    * Concat both datasets\n",
    "* Save Corrected Dataset"
   ]
  },
  {
   "cell_type": "markdown",
   "metadata": {},
   "source": [
    "# Initials\n",
    "* Loading Libraries and Packages\n",
    "* Configuration\n",
    "* Global Variables"
   ]
  },
  {
   "cell_type": "markdown",
   "metadata": {},
   "source": [
    "## Loading Libraries and Packages "
   ]
  },
  {
   "cell_type": "code",
   "execution_count": 19,
   "metadata": {
    "ExecuteTime": {
     "end_time": "2022-05-20T19:56:28.125641Z",
     "start_time": "2022-05-20T19:56:28.114707Z"
    }
   },
   "outputs": [],
   "source": [
    "# general\n",
    "import warnings\n",
    "import time\n",
    "import gc\n",
    "\n",
    "#data\n",
    "import pandas as pd\n",
    "from datetime import (datetime, date)"
   ]
  },
  {
   "cell_type": "code",
   "execution_count": 20,
   "metadata": {
    "ExecuteTime": {
     "end_time": "2022-05-20T19:56:28.263752Z",
     "start_time": "2022-05-20T19:56:28.132514Z"
    }
   },
   "outputs": [
    {
     "name": "stdout",
     "output_type": "stream",
     "text": [
      "total 1736\r\n",
      "-rw-rw-r-- 1 broilo broilo 885777 mai 20 13:57 20220520_rawdata_original.xlsx\r\n",
      "-rw-rw-r-- 1 broilo broilo 885777 mai 20 13:57 Missão_Stone_-_Dados_de_trx.xlsx\r\n"
     ]
    }
   ],
   "source": [
    "ls -l ../raw_data/"
   ]
  },
  {
   "cell_type": "markdown",
   "metadata": {},
   "source": [
    "## Configurations"
   ]
  },
  {
   "cell_type": "code",
   "execution_count": 21,
   "metadata": {
    "ExecuteTime": {
     "end_time": "2022-05-20T19:56:28.286294Z",
     "start_time": "2022-05-20T19:56:28.273587Z"
    }
   },
   "outputs": [],
   "source": [
    "warnings.filterwarnings(\"ignore\")\n",
    "pd.set_option('display.max_columns', 10)\n",
    "pd.set_option('display.max_rows', 20)"
   ]
  },
  {
   "cell_type": "markdown",
   "metadata": {},
   "source": [
    "## Global Variables"
   ]
  },
  {
   "cell_type": "code",
   "execution_count": 22,
   "metadata": {
    "ExecuteTime": {
     "end_time": "2022-05-20T19:56:28.304721Z",
     "start_time": "2022-05-20T19:56:28.293562Z"
    }
   },
   "outputs": [],
   "source": [
    "PATH_RAWDATA = \"../raw_data/\"\n",
    "PATH_DATA = \"../data/\"\n",
    "RAWDATA = \"20220520_rawdata_original.xlsx\"\n",
    "DATE = time.strftime(\"%Y%m%d\")"
   ]
  },
  {
   "cell_type": "markdown",
   "metadata": {},
   "source": [
    "# Loading Datasets\n",
    "* Sheet 1\n",
    "* Data Handling\n",
    "    * CBK not null\n",
    "    * CBK null\n",
    "* Concat both datasets"
   ]
  },
  {
   "cell_type": "markdown",
   "metadata": {},
   "source": [
    "## Sheet 1"
   ]
  },
  {
   "cell_type": "code",
   "execution_count": 23,
   "metadata": {
    "ExecuteTime": {
     "end_time": "2022-05-20T19:56:30.209210Z",
     "start_time": "2022-05-20T19:56:28.310082Z"
    }
   },
   "outputs": [
    {
     "name": "stdout",
     "output_type": "stream",
     "text": [
      "(11128, 5)\n"
     ]
    },
    {
     "data": {
      "text/html": [
       "<div>\n",
       "<style scoped>\n",
       "    .dataframe tbody tr th:only-of-type {\n",
       "        vertical-align: middle;\n",
       "    }\n",
       "\n",
       "    .dataframe tbody tr th {\n",
       "        vertical-align: top;\n",
       "    }\n",
       "\n",
       "    .dataframe thead th {\n",
       "        text-align: right;\n",
       "    }\n",
       "</style>\n",
       "<table border=\"1\" class=\"dataframe\">\n",
       "  <thead>\n",
       "    <tr style=\"text-align: right;\">\n",
       "      <th></th>\n",
       "      <th>Dia</th>\n",
       "      <th>Hora</th>\n",
       "      <th>Valor</th>\n",
       "      <th>Cartão</th>\n",
       "      <th>CBK</th>\n",
       "    </tr>\n",
       "  </thead>\n",
       "  <tbody>\n",
       "    <tr>\n",
       "      <th>0</th>\n",
       "      <td>2015-05-01 00:00:00</td>\n",
       "      <td>00:01:54</td>\n",
       "      <td>36.54</td>\n",
       "      <td>536518******2108</td>\n",
       "      <td>Não</td>\n",
       "    </tr>\n",
       "    <tr>\n",
       "      <th>1</th>\n",
       "      <td>2015-05-01 00:00:00</td>\n",
       "      <td>00:03:46</td>\n",
       "      <td>36.54</td>\n",
       "      <td>536518******2108</td>\n",
       "      <td>Não</td>\n",
       "    </tr>\n",
       "    <tr>\n",
       "      <th>2</th>\n",
       "      <td>2015-05-01 00:00:00</td>\n",
       "      <td>00:08:50</td>\n",
       "      <td>69</td>\n",
       "      <td>453211******1239</td>\n",
       "      <td>Não</td>\n",
       "    </tr>\n",
       "    <tr>\n",
       "      <th>3</th>\n",
       "      <td>2015-05-01 00:00:00</td>\n",
       "      <td>00:27:00</td>\n",
       "      <td>193.43</td>\n",
       "      <td>548827******1705</td>\n",
       "      <td>Não</td>\n",
       "    </tr>\n",
       "    <tr>\n",
       "      <th>4</th>\n",
       "      <td>2015-05-01 00:00:00</td>\n",
       "      <td>01:32:46</td>\n",
       "      <td>132</td>\n",
       "      <td>531681******9778</td>\n",
       "      <td>Não</td>\n",
       "    </tr>\n",
       "    <tr>\n",
       "      <th>...</th>\n",
       "      <td>...</td>\n",
       "      <td>...</td>\n",
       "      <td>...</td>\n",
       "      <td>...</td>\n",
       "      <td>...</td>\n",
       "    </tr>\n",
       "    <tr>\n",
       "      <th>11123</th>\n",
       "      <td>2015-05-30 23:07:01</td>\n",
       "      <td>53</td>\n",
       "      <td>514868******7409</td>\n",
       "      <td>Não</td>\n",
       "      <td>NaN</td>\n",
       "    </tr>\n",
       "    <tr>\n",
       "      <th>11124</th>\n",
       "      <td>2015-05-30 23:08:47</td>\n",
       "      <td>15</td>\n",
       "      <td>439354******5281</td>\n",
       "      <td>Não</td>\n",
       "      <td>NaN</td>\n",
       "    </tr>\n",
       "    <tr>\n",
       "      <th>11125</th>\n",
       "      <td>2015-05-30 23:15:24</td>\n",
       "      <td>20</td>\n",
       "      <td>549167******1648</td>\n",
       "      <td>Não</td>\n",
       "      <td>NaN</td>\n",
       "    </tr>\n",
       "    <tr>\n",
       "      <th>11126</th>\n",
       "      <td>2015-05-30 23:17:41</td>\n",
       "      <td>70</td>\n",
       "      <td>518759******8384</td>\n",
       "      <td>Não</td>\n",
       "      <td>NaN</td>\n",
       "    </tr>\n",
       "    <tr>\n",
       "      <th>11127</th>\n",
       "      <td>2015-05-30 23:51:31</td>\n",
       "      <td>20</td>\n",
       "      <td>518759******0329</td>\n",
       "      <td>Não</td>\n",
       "      <td>NaN</td>\n",
       "    </tr>\n",
       "  </tbody>\n",
       "</table>\n",
       "<p>11128 rows × 5 columns</p>\n",
       "</div>"
      ],
      "text/plain": [
       "                      Dia      Hora             Valor            Cartão  CBK\n",
       "0     2015-05-01 00:00:00  00:01:54             36.54  536518******2108  Não\n",
       "1     2015-05-01 00:00:00  00:03:46             36.54  536518******2108  Não\n",
       "2     2015-05-01 00:00:00  00:08:50                69  453211******1239  Não\n",
       "3     2015-05-01 00:00:00  00:27:00            193.43  548827******1705  Não\n",
       "4     2015-05-01 00:00:00  01:32:46               132  531681******9778  Não\n",
       "...                   ...       ...               ...               ...  ...\n",
       "11123 2015-05-30 23:07:01        53  514868******7409               Não  NaN\n",
       "11124 2015-05-30 23:08:47        15  439354******5281               Não  NaN\n",
       "11125 2015-05-30 23:15:24        20  549167******1648               Não  NaN\n",
       "11126 2015-05-30 23:17:41        70  518759******8384               Não  NaN\n",
       "11127 2015-05-30 23:51:31        20  518759******0329               Não  NaN\n",
       "\n",
       "[11128 rows x 5 columns]"
      ]
     },
     "execution_count": 23,
     "metadata": {},
     "output_type": "execute_result"
    }
   ],
   "source": [
    "df = pd.read_excel(PATH_RAWDATA + RAWDATA, sheet_name='Aba 1')\n",
    "print(df.shape)\n",
    "df"
   ]
  },
  {
   "cell_type": "markdown",
   "metadata": {},
   "source": [
    "## Data Handling"
   ]
  },
  {
   "cell_type": "markdown",
   "metadata": {},
   "source": [
    "### CBK not null"
   ]
  },
  {
   "cell_type": "code",
   "execution_count": 24,
   "metadata": {
    "ExecuteTime": {
     "end_time": "2022-05-20T19:56:30.261606Z",
     "start_time": "2022-05-20T19:56:30.211779Z"
    }
   },
   "outputs": [
    {
     "name": "stdout",
     "output_type": "stream",
     "text": [
      "(11004, 5)\n"
     ]
    },
    {
     "data": {
      "text/html": [
       "<div>\n",
       "<style scoped>\n",
       "    .dataframe tbody tr th:only-of-type {\n",
       "        vertical-align: middle;\n",
       "    }\n",
       "\n",
       "    .dataframe tbody tr th {\n",
       "        vertical-align: top;\n",
       "    }\n",
       "\n",
       "    .dataframe thead th {\n",
       "        text-align: right;\n",
       "    }\n",
       "</style>\n",
       "<table border=\"1\" class=\"dataframe\">\n",
       "  <thead>\n",
       "    <tr style=\"text-align: right;\">\n",
       "      <th></th>\n",
       "      <th>Dia</th>\n",
       "      <th>Hora</th>\n",
       "      <th>Valor</th>\n",
       "      <th>Cartão</th>\n",
       "      <th>CBK</th>\n",
       "    </tr>\n",
       "  </thead>\n",
       "  <tbody>\n",
       "    <tr>\n",
       "      <th>0</th>\n",
       "      <td>2015-05-01</td>\n",
       "      <td>00:01:54</td>\n",
       "      <td>36.54</td>\n",
       "      <td>536518******2108</td>\n",
       "      <td>Não</td>\n",
       "    </tr>\n",
       "    <tr>\n",
       "      <th>1</th>\n",
       "      <td>2015-05-01</td>\n",
       "      <td>00:03:46</td>\n",
       "      <td>36.54</td>\n",
       "      <td>536518******2108</td>\n",
       "      <td>Não</td>\n",
       "    </tr>\n",
       "    <tr>\n",
       "      <th>2</th>\n",
       "      <td>2015-05-01</td>\n",
       "      <td>00:08:50</td>\n",
       "      <td>69</td>\n",
       "      <td>453211******1239</td>\n",
       "      <td>Não</td>\n",
       "    </tr>\n",
       "    <tr>\n",
       "      <th>3</th>\n",
       "      <td>2015-05-01</td>\n",
       "      <td>00:27:00</td>\n",
       "      <td>193.43</td>\n",
       "      <td>548827******1705</td>\n",
       "      <td>Não</td>\n",
       "    </tr>\n",
       "    <tr>\n",
       "      <th>4</th>\n",
       "      <td>2015-05-01</td>\n",
       "      <td>01:32:46</td>\n",
       "      <td>132</td>\n",
       "      <td>531681******9778</td>\n",
       "      <td>Não</td>\n",
       "    </tr>\n",
       "    <tr>\n",
       "      <th>...</th>\n",
       "      <td>...</td>\n",
       "      <td>...</td>\n",
       "      <td>...</td>\n",
       "      <td>...</td>\n",
       "      <td>...</td>\n",
       "    </tr>\n",
       "    <tr>\n",
       "      <th>10999</th>\n",
       "      <td>2015-05-30</td>\n",
       "      <td>23:07:01</td>\n",
       "      <td>53</td>\n",
       "      <td>514868******7409</td>\n",
       "      <td>Não</td>\n",
       "    </tr>\n",
       "    <tr>\n",
       "      <th>11000</th>\n",
       "      <td>2015-05-30</td>\n",
       "      <td>23:08:47</td>\n",
       "      <td>15</td>\n",
       "      <td>439354******5281</td>\n",
       "      <td>Não</td>\n",
       "    </tr>\n",
       "    <tr>\n",
       "      <th>11001</th>\n",
       "      <td>2015-05-30</td>\n",
       "      <td>23:15:24</td>\n",
       "      <td>20</td>\n",
       "      <td>549167******1648</td>\n",
       "      <td>Não</td>\n",
       "    </tr>\n",
       "    <tr>\n",
       "      <th>11002</th>\n",
       "      <td>2015-05-30</td>\n",
       "      <td>23:17:41</td>\n",
       "      <td>70</td>\n",
       "      <td>518759******8384</td>\n",
       "      <td>Não</td>\n",
       "    </tr>\n",
       "    <tr>\n",
       "      <th>11003</th>\n",
       "      <td>2015-05-30</td>\n",
       "      <td>23:51:31</td>\n",
       "      <td>20</td>\n",
       "      <td>518759******0329</td>\n",
       "      <td>Não</td>\n",
       "    </tr>\n",
       "  </tbody>\n",
       "</table>\n",
       "<p>11004 rows × 5 columns</p>\n",
       "</div>"
      ],
      "text/plain": [
       "             Dia      Hora   Valor            Cartão  CBK\n",
       "0     2015-05-01  00:01:54   36.54  536518******2108  Não\n",
       "1     2015-05-01  00:03:46   36.54  536518******2108  Não\n",
       "2     2015-05-01  00:08:50      69  453211******1239  Não\n",
       "3     2015-05-01  00:27:00  193.43  548827******1705  Não\n",
       "4     2015-05-01  01:32:46     132  531681******9778  Não\n",
       "...          ...       ...     ...               ...  ...\n",
       "10999 2015-05-30  23:07:01      53  514868******7409  Não\n",
       "11000 2015-05-30  23:08:47      15  439354******5281  Não\n",
       "11001 2015-05-30  23:15:24      20  549167******1648  Não\n",
       "11002 2015-05-30  23:17:41      70  518759******8384  Não\n",
       "11003 2015-05-30  23:51:31      20  518759******0329  Não\n",
       "\n",
       "[11004 rows x 5 columns]"
      ]
     },
     "execution_count": 24,
     "metadata": {},
     "output_type": "execute_result"
    }
   ],
   "source": [
    "df1 = df[df.CBK.isnull()==False].copy()\n",
    "df1['Dia'] = pd.to_datetime(df1['Dia'], format='%Y-%m-%d')\n",
    "print(df1.shape)\n",
    "df1"
   ]
  },
  {
   "cell_type": "markdown",
   "metadata": {},
   "source": [
    "### CBK null"
   ]
  },
  {
   "cell_type": "code",
   "execution_count": 25,
   "metadata": {
    "ExecuteTime": {
     "end_time": "2022-05-20T19:56:30.285053Z",
     "start_time": "2022-05-20T19:56:30.263966Z"
    }
   },
   "outputs": [
    {
     "name": "stdout",
     "output_type": "stream",
     "text": [
      "(124, 5)\n"
     ]
    },
    {
     "data": {
      "text/html": [
       "<div>\n",
       "<style scoped>\n",
       "    .dataframe tbody tr th:only-of-type {\n",
       "        vertical-align: middle;\n",
       "    }\n",
       "\n",
       "    .dataframe tbody tr th {\n",
       "        vertical-align: top;\n",
       "    }\n",
       "\n",
       "    .dataframe thead th {\n",
       "        text-align: right;\n",
       "    }\n",
       "</style>\n",
       "<table border=\"1\" class=\"dataframe\">\n",
       "  <thead>\n",
       "    <tr style=\"text-align: right;\">\n",
       "      <th></th>\n",
       "      <th>Dia</th>\n",
       "      <th>Hora</th>\n",
       "      <th>Valor</th>\n",
       "      <th>Cartão</th>\n",
       "      <th>CBK</th>\n",
       "    </tr>\n",
       "  </thead>\n",
       "  <tbody>\n",
       "    <tr>\n",
       "      <th>11004</th>\n",
       "      <td>2015-05-30 14:32:17</td>\n",
       "      <td>15</td>\n",
       "      <td>514945******7580</td>\n",
       "      <td>Não</td>\n",
       "      <td>NaN</td>\n",
       "    </tr>\n",
       "    <tr>\n",
       "      <th>11005</th>\n",
       "      <td>2015-05-30 14:32:37</td>\n",
       "      <td>96.42</td>\n",
       "      <td>498408******2729</td>\n",
       "      <td>Não</td>\n",
       "      <td>NaN</td>\n",
       "    </tr>\n",
       "    <tr>\n",
       "      <th>11006</th>\n",
       "      <td>2015-05-30 14:33:03</td>\n",
       "      <td>35</td>\n",
       "      <td>441524******8556</td>\n",
       "      <td>Não</td>\n",
       "      <td>NaN</td>\n",
       "    </tr>\n",
       "    <tr>\n",
       "      <th>11007</th>\n",
       "      <td>2015-05-30 14:35:14</td>\n",
       "      <td>99</td>\n",
       "      <td>546451******1223</td>\n",
       "      <td>Não</td>\n",
       "      <td>NaN</td>\n",
       "    </tr>\n",
       "    <tr>\n",
       "      <th>11008</th>\n",
       "      <td>2015-05-30 14:35:21</td>\n",
       "      <td>44.42</td>\n",
       "      <td>498408******2729</td>\n",
       "      <td>Não</td>\n",
       "      <td>NaN</td>\n",
       "    </tr>\n",
       "    <tr>\n",
       "      <th>...</th>\n",
       "      <td>...</td>\n",
       "      <td>...</td>\n",
       "      <td>...</td>\n",
       "      <td>...</td>\n",
       "      <td>...</td>\n",
       "    </tr>\n",
       "    <tr>\n",
       "      <th>11123</th>\n",
       "      <td>2015-05-30 23:07:01</td>\n",
       "      <td>53</td>\n",
       "      <td>514868******7409</td>\n",
       "      <td>Não</td>\n",
       "      <td>NaN</td>\n",
       "    </tr>\n",
       "    <tr>\n",
       "      <th>11124</th>\n",
       "      <td>2015-05-30 23:08:47</td>\n",
       "      <td>15</td>\n",
       "      <td>439354******5281</td>\n",
       "      <td>Não</td>\n",
       "      <td>NaN</td>\n",
       "    </tr>\n",
       "    <tr>\n",
       "      <th>11125</th>\n",
       "      <td>2015-05-30 23:15:24</td>\n",
       "      <td>20</td>\n",
       "      <td>549167******1648</td>\n",
       "      <td>Não</td>\n",
       "      <td>NaN</td>\n",
       "    </tr>\n",
       "    <tr>\n",
       "      <th>11126</th>\n",
       "      <td>2015-05-30 23:17:41</td>\n",
       "      <td>70</td>\n",
       "      <td>518759******8384</td>\n",
       "      <td>Não</td>\n",
       "      <td>NaN</td>\n",
       "    </tr>\n",
       "    <tr>\n",
       "      <th>11127</th>\n",
       "      <td>2015-05-30 23:51:31</td>\n",
       "      <td>20</td>\n",
       "      <td>518759******0329</td>\n",
       "      <td>Não</td>\n",
       "      <td>NaN</td>\n",
       "    </tr>\n",
       "  </tbody>\n",
       "</table>\n",
       "<p>124 rows × 5 columns</p>\n",
       "</div>"
      ],
      "text/plain": [
       "                      Dia   Hora             Valor Cartão  CBK\n",
       "11004 2015-05-30 14:32:17     15  514945******7580    Não  NaN\n",
       "11005 2015-05-30 14:32:37  96.42  498408******2729    Não  NaN\n",
       "11006 2015-05-30 14:33:03     35  441524******8556    Não  NaN\n",
       "11007 2015-05-30 14:35:14     99  546451******1223    Não  NaN\n",
       "11008 2015-05-30 14:35:21  44.42  498408******2729    Não  NaN\n",
       "...                   ...    ...               ...    ...  ...\n",
       "11123 2015-05-30 23:07:01     53  514868******7409    Não  NaN\n",
       "11124 2015-05-30 23:08:47     15  439354******5281    Não  NaN\n",
       "11125 2015-05-30 23:15:24     20  549167******1648    Não  NaN\n",
       "11126 2015-05-30 23:17:41     70  518759******8384    Não  NaN\n",
       "11127 2015-05-30 23:51:31     20  518759******0329    Não  NaN\n",
       "\n",
       "[124 rows x 5 columns]"
      ]
     },
     "execution_count": 25,
     "metadata": {},
     "output_type": "execute_result"
    }
   ],
   "source": [
    "df2 = df[df.CBK.isnull()==True].copy()\n",
    "print(df2.shape)\n",
    "df2"
   ]
  },
  {
   "cell_type": "code",
   "execution_count": 26,
   "metadata": {
    "ExecuteTime": {
     "end_time": "2022-05-20T19:56:30.321817Z",
     "start_time": "2022-05-20T19:56:30.291445Z"
    }
   },
   "outputs": [
    {
     "data": {
      "text/html": [
       "<div>\n",
       "<style scoped>\n",
       "    .dataframe tbody tr th:only-of-type {\n",
       "        vertical-align: middle;\n",
       "    }\n",
       "\n",
       "    .dataframe tbody tr th {\n",
       "        vertical-align: top;\n",
       "    }\n",
       "\n",
       "    .dataframe thead th {\n",
       "        text-align: right;\n",
       "    }\n",
       "</style>\n",
       "<table border=\"1\" class=\"dataframe\">\n",
       "  <thead>\n",
       "    <tr style=\"text-align: right;\">\n",
       "      <th></th>\n",
       "      <th>Dia</th>\n",
       "      <th>Hora</th>\n",
       "      <th>Valor</th>\n",
       "      <th>Cartão</th>\n",
       "      <th>CBK</th>\n",
       "    </tr>\n",
       "  </thead>\n",
       "  <tbody>\n",
       "    <tr>\n",
       "      <th>11004</th>\n",
       "      <td>2015-05-30</td>\n",
       "      <td>14:32:17</td>\n",
       "      <td>15.00</td>\n",
       "      <td>514945******7580</td>\n",
       "      <td>Não</td>\n",
       "    </tr>\n",
       "    <tr>\n",
       "      <th>11005</th>\n",
       "      <td>2015-05-30</td>\n",
       "      <td>14:32:37</td>\n",
       "      <td>96.42</td>\n",
       "      <td>498408******2729</td>\n",
       "      <td>Não</td>\n",
       "    </tr>\n",
       "    <tr>\n",
       "      <th>11006</th>\n",
       "      <td>2015-05-30</td>\n",
       "      <td>14:33:03</td>\n",
       "      <td>35.00</td>\n",
       "      <td>441524******8556</td>\n",
       "      <td>Não</td>\n",
       "    </tr>\n",
       "    <tr>\n",
       "      <th>11007</th>\n",
       "      <td>2015-05-30</td>\n",
       "      <td>14:35:14</td>\n",
       "      <td>99.00</td>\n",
       "      <td>546451******1223</td>\n",
       "      <td>Não</td>\n",
       "    </tr>\n",
       "    <tr>\n",
       "      <th>11008</th>\n",
       "      <td>2015-05-30</td>\n",
       "      <td>14:35:21</td>\n",
       "      <td>44.42</td>\n",
       "      <td>498408******2729</td>\n",
       "      <td>Não</td>\n",
       "    </tr>\n",
       "    <tr>\n",
       "      <th>...</th>\n",
       "      <td>...</td>\n",
       "      <td>...</td>\n",
       "      <td>...</td>\n",
       "      <td>...</td>\n",
       "      <td>...</td>\n",
       "    </tr>\n",
       "    <tr>\n",
       "      <th>11123</th>\n",
       "      <td>2015-05-30</td>\n",
       "      <td>23:07:01</td>\n",
       "      <td>53.00</td>\n",
       "      <td>514868******7409</td>\n",
       "      <td>Não</td>\n",
       "    </tr>\n",
       "    <tr>\n",
       "      <th>11124</th>\n",
       "      <td>2015-05-30</td>\n",
       "      <td>23:08:47</td>\n",
       "      <td>15.00</td>\n",
       "      <td>439354******5281</td>\n",
       "      <td>Não</td>\n",
       "    </tr>\n",
       "    <tr>\n",
       "      <th>11125</th>\n",
       "      <td>2015-05-30</td>\n",
       "      <td>23:15:24</td>\n",
       "      <td>20.00</td>\n",
       "      <td>549167******1648</td>\n",
       "      <td>Não</td>\n",
       "    </tr>\n",
       "    <tr>\n",
       "      <th>11126</th>\n",
       "      <td>2015-05-30</td>\n",
       "      <td>23:17:41</td>\n",
       "      <td>70.00</td>\n",
       "      <td>518759******8384</td>\n",
       "      <td>Não</td>\n",
       "    </tr>\n",
       "    <tr>\n",
       "      <th>11127</th>\n",
       "      <td>2015-05-30</td>\n",
       "      <td>23:51:31</td>\n",
       "      <td>20.00</td>\n",
       "      <td>518759******0329</td>\n",
       "      <td>Não</td>\n",
       "    </tr>\n",
       "  </tbody>\n",
       "</table>\n",
       "<p>124 rows × 5 columns</p>\n",
       "</div>"
      ],
      "text/plain": [
       "             Dia      Hora  Valor            Cartão  CBK\n",
       "11004 2015-05-30  14:32:17  15.00  514945******7580  Não\n",
       "11005 2015-05-30  14:32:37  96.42  498408******2729  Não\n",
       "11006 2015-05-30  14:33:03  35.00  441524******8556  Não\n",
       "11007 2015-05-30  14:35:14  99.00  546451******1223  Não\n",
       "11008 2015-05-30  14:35:21  44.42  498408******2729  Não\n",
       "...          ...       ...    ...               ...  ...\n",
       "11123 2015-05-30  23:07:01  53.00  514868******7409  Não\n",
       "11124 2015-05-30  23:08:47  15.00  439354******5281  Não\n",
       "11125 2015-05-30  23:15:24  20.00  549167******1648  Não\n",
       "11126 2015-05-30  23:17:41  70.00  518759******8384  Não\n",
       "11127 2015-05-30  23:51:31  20.00  518759******0329  Não\n",
       "\n",
       "[124 rows x 5 columns]"
      ]
     },
     "execution_count": 26,
     "metadata": {},
     "output_type": "execute_result"
    }
   ],
   "source": [
    "df2['CBK'] = df2['Cartão'].tolist()\n",
    "df2['Cartão'] = df2['Valor'].tolist()\n",
    "df2['Valor'] = df2['Hora'].tolist()\n",
    "df2[['Dia','Hora']] = df2['Dia'].astype(str).str.split(\" \", expand=True)\n",
    "df2['Dia'] = pd.to_datetime(df2['Dia'], format='%Y-%m-%d')\n",
    "df2"
   ]
  },
  {
   "cell_type": "markdown",
   "metadata": {},
   "source": [
    "## Concat both datasets"
   ]
  },
  {
   "cell_type": "code",
   "execution_count": 27,
   "metadata": {
    "ExecuteTime": {
     "end_time": "2022-05-20T19:56:30.354520Z",
     "start_time": "2022-05-20T19:56:30.325084Z"
    }
   },
   "outputs": [
    {
     "name": "stdout",
     "output_type": "stream",
     "text": [
      "(11128, 5)\n"
     ]
    },
    {
     "data": {
      "text/html": [
       "<div>\n",
       "<style scoped>\n",
       "    .dataframe tbody tr th:only-of-type {\n",
       "        vertical-align: middle;\n",
       "    }\n",
       "\n",
       "    .dataframe tbody tr th {\n",
       "        vertical-align: top;\n",
       "    }\n",
       "\n",
       "    .dataframe thead th {\n",
       "        text-align: right;\n",
       "    }\n",
       "</style>\n",
       "<table border=\"1\" class=\"dataframe\">\n",
       "  <thead>\n",
       "    <tr style=\"text-align: right;\">\n",
       "      <th></th>\n",
       "      <th>Dia</th>\n",
       "      <th>Hora</th>\n",
       "      <th>Valor</th>\n",
       "      <th>Cartão</th>\n",
       "      <th>CBK</th>\n",
       "    </tr>\n",
       "  </thead>\n",
       "  <tbody>\n",
       "    <tr>\n",
       "      <th>0</th>\n",
       "      <td>2015-05-01</td>\n",
       "      <td>00:01:54</td>\n",
       "      <td>36.54</td>\n",
       "      <td>536518******2108</td>\n",
       "      <td>Não</td>\n",
       "    </tr>\n",
       "    <tr>\n",
       "      <th>1</th>\n",
       "      <td>2015-05-01</td>\n",
       "      <td>00:03:46</td>\n",
       "      <td>36.54</td>\n",
       "      <td>536518******2108</td>\n",
       "      <td>Não</td>\n",
       "    </tr>\n",
       "    <tr>\n",
       "      <th>2</th>\n",
       "      <td>2015-05-01</td>\n",
       "      <td>00:08:50</td>\n",
       "      <td>69</td>\n",
       "      <td>453211******1239</td>\n",
       "      <td>Não</td>\n",
       "    </tr>\n",
       "    <tr>\n",
       "      <th>3</th>\n",
       "      <td>2015-05-01</td>\n",
       "      <td>00:27:00</td>\n",
       "      <td>193.43</td>\n",
       "      <td>548827******1705</td>\n",
       "      <td>Não</td>\n",
       "    </tr>\n",
       "    <tr>\n",
       "      <th>4</th>\n",
       "      <td>2015-05-01</td>\n",
       "      <td>01:32:46</td>\n",
       "      <td>132</td>\n",
       "      <td>531681******9778</td>\n",
       "      <td>Não</td>\n",
       "    </tr>\n",
       "    <tr>\n",
       "      <th>...</th>\n",
       "      <td>...</td>\n",
       "      <td>...</td>\n",
       "      <td>...</td>\n",
       "      <td>...</td>\n",
       "      <td>...</td>\n",
       "    </tr>\n",
       "    <tr>\n",
       "      <th>11123</th>\n",
       "      <td>2015-05-30</td>\n",
       "      <td>23:07:01</td>\n",
       "      <td>53.0</td>\n",
       "      <td>514868******7409</td>\n",
       "      <td>Não</td>\n",
       "    </tr>\n",
       "    <tr>\n",
       "      <th>11124</th>\n",
       "      <td>2015-05-30</td>\n",
       "      <td>23:08:47</td>\n",
       "      <td>15.0</td>\n",
       "      <td>439354******5281</td>\n",
       "      <td>Não</td>\n",
       "    </tr>\n",
       "    <tr>\n",
       "      <th>11125</th>\n",
       "      <td>2015-05-30</td>\n",
       "      <td>23:15:24</td>\n",
       "      <td>20.0</td>\n",
       "      <td>549167******1648</td>\n",
       "      <td>Não</td>\n",
       "    </tr>\n",
       "    <tr>\n",
       "      <th>11126</th>\n",
       "      <td>2015-05-30</td>\n",
       "      <td>23:17:41</td>\n",
       "      <td>70.0</td>\n",
       "      <td>518759******8384</td>\n",
       "      <td>Não</td>\n",
       "    </tr>\n",
       "    <tr>\n",
       "      <th>11127</th>\n",
       "      <td>2015-05-30</td>\n",
       "      <td>23:51:31</td>\n",
       "      <td>20.0</td>\n",
       "      <td>518759******0329</td>\n",
       "      <td>Não</td>\n",
       "    </tr>\n",
       "  </tbody>\n",
       "</table>\n",
       "<p>11128 rows × 5 columns</p>\n",
       "</div>"
      ],
      "text/plain": [
       "             Dia      Hora   Valor            Cartão  CBK\n",
       "0     2015-05-01  00:01:54   36.54  536518******2108  Não\n",
       "1     2015-05-01  00:03:46   36.54  536518******2108  Não\n",
       "2     2015-05-01  00:08:50      69  453211******1239  Não\n",
       "3     2015-05-01  00:27:00  193.43  548827******1705  Não\n",
       "4     2015-05-01  01:32:46     132  531681******9778  Não\n",
       "...          ...       ...     ...               ...  ...\n",
       "11123 2015-05-30  23:07:01    53.0  514868******7409  Não\n",
       "11124 2015-05-30  23:08:47    15.0  439354******5281  Não\n",
       "11125 2015-05-30  23:15:24    20.0  549167******1648  Não\n",
       "11126 2015-05-30  23:17:41    70.0  518759******8384  Não\n",
       "11127 2015-05-30  23:51:31    20.0  518759******0329  Não\n",
       "\n",
       "[11128 rows x 5 columns]"
      ]
     },
     "execution_count": 27,
     "metadata": {},
     "output_type": "execute_result"
    }
   ],
   "source": [
    "df_done = pd.concat([df1,df2], axis=0)\n",
    "print(df_done.shape)\n",
    "df_done"
   ]
  },
  {
   "cell_type": "markdown",
   "metadata": {},
   "source": [
    "# Save Corrected Dataset"
   ]
  },
  {
   "cell_type": "code",
   "execution_count": 28,
   "metadata": {
    "ExecuteTime": {
     "end_time": "2022-05-20T19:56:30.482507Z",
     "start_time": "2022-05-20T19:56:30.356749Z"
    }
   },
   "outputs": [],
   "source": [
    "df_done.to_csv(PATH_DATA + DATE + \"_corrected_sheet1.csv\", sep=',', index=False)"
   ]
  },
  {
   "cell_type": "code",
   "execution_count": null,
   "metadata": {},
   "outputs": [],
   "source": []
  }
 ],
 "metadata": {
  "hide_input": false,
  "kernelspec": {
   "display_name": "Python 3",
   "language": "python",
   "name": "python3"
  },
  "language_info": {
   "codemirror_mode": {
    "name": "ipython",
    "version": 3
   },
   "file_extension": ".py",
   "mimetype": "text/x-python",
   "name": "python",
   "nbconvert_exporter": "python",
   "pygments_lexer": "ipython3",
   "version": "3.8.3"
  },
  "varInspector": {
   "cols": {
    "lenName": 16,
    "lenType": 16,
    "lenVar": 40
   },
   "kernels_config": {
    "python": {
     "delete_cmd_postfix": "",
     "delete_cmd_prefix": "del ",
     "library": "var_list.py",
     "varRefreshCmd": "print(var_dic_list())"
    },
    "r": {
     "delete_cmd_postfix": ") ",
     "delete_cmd_prefix": "rm(",
     "library": "var_list.r",
     "varRefreshCmd": "cat(var_dic_list()) "
    }
   },
   "types_to_exclude": [
    "module",
    "function",
    "builtin_function_or_method",
    "instance",
    "_Feature"
   ],
   "window_display": false
  }
 },
 "nbformat": 4,
 "nbformat_minor": 4
}
