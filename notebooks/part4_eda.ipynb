{
 "cells": [
  {
   "cell_type": "markdown",
   "metadata": {},
   "source": [
    "# Cornershop's Data Science Test\n",
    "\n",
    "## Dev: Mateus Broilo\n",
    "mateus.brilo90@gmail.com\n",
    "\n",
    "* Objectives: Load Datasets and perform "
   ]
  },
  {
   "cell_type": "markdown",
   "metadata": {},
   "source": [
    " # Summary\n",
    "\n",
    "* Initials\n",
    "    * Loading Libraries and Packages\n",
    "    * Configurations\n",
    "    * Global Variables\n",
    "    * Function's Definition\n",
    "        * Expand dates, create day of the week column and transform time to pure number\n",
    "* Loading data\n",
    "    * Creating resources\n"
   ]
  },
  {
   "cell_type": "markdown",
   "metadata": {},
   "source": [
    "# Initials\n",
    "* Loading Libraries and Packages\n",
    "* Configuration\n",
    "* Global Variables"
   ]
  },
  {
   "cell_type": "markdown",
   "metadata": {},
   "source": [
    "## Loading Libraries and Packages "
   ]
  },
  {
   "cell_type": "code",
   "execution_count": 1,
   "metadata": {
    "ExecuteTime": {
     "end_time": "2022-05-20T19:14:36.385588Z",
     "start_time": "2022-05-20T19:14:35.081673Z"
    }
   },
   "outputs": [],
   "source": [
    "# general\n",
    "import warnings\n",
    "import time\n",
    "import gc\n",
    "\n",
    "#data\n",
    "import pandas as pd\n",
    "import numpy as np\n",
    "from datetime import (datetime, date)\n",
    "\n",
    "## visualization\n",
    "import matplotlib.pyplot as plt\n",
    "import seaborn as sns"
   ]
  },
  {
   "cell_type": "code",
   "execution_count": 2,
   "metadata": {
    "ExecuteTime": {
     "end_time": "2022-05-20T19:14:38.030625Z",
     "start_time": "2022-05-20T19:14:37.883803Z"
    }
   },
   "outputs": [
    {
     "name": "stdout",
     "output_type": "stream",
     "text": [
      "total 504\r\n",
      "-rw-rw-r-- 1 broilo broilo 514550 mai 20 15:58 20220520_corrected_sheet1.csv\r\n"
     ]
    }
   ],
   "source": [
    "ls -l ../data/"
   ]
  },
  {
   "cell_type": "markdown",
   "metadata": {},
   "source": [
    "## Configurations"
   ]
  },
  {
   "cell_type": "code",
   "execution_count": 3,
   "metadata": {
    "ExecuteTime": {
     "end_time": "2022-05-20T19:14:38.820130Z",
     "start_time": "2022-05-20T19:14:38.793424Z"
    }
   },
   "outputs": [],
   "source": [
    "warnings.filterwarnings(\"ignore\")\n",
    "pd.set_option('display.max_columns', 20)\n",
    "pd.set_option('display.max_rows', 20)\n",
    "\n",
    "rc={'font.size': 14, 'axes.labelsize': 14, 'legend.fontsize': 12, \n",
    "    'axes.titlesize': 24, 'xtick.labelsize': 14, 'ytick.labelsize': 12}\n",
    "\n",
    "sns.set(rc=rc)\n",
    "sns.set_palette(\"Set2\")\n",
    "sns.set_style(\"darkgrid\")#sns.set_style(\"whitegrid\")"
   ]
  },
  {
   "cell_type": "markdown",
   "metadata": {},
   "source": [
    "## Global Variables"
   ]
  },
  {
   "cell_type": "code",
   "execution_count": 5,
   "metadata": {
    "ExecuteTime": {
     "end_time": "2022-05-20T19:17:31.734850Z",
     "start_time": "2022-05-20T19:17:31.731752Z"
    }
   },
   "outputs": [],
   "source": [
    "PATH_DATA = \"../data/\"\n",
    "DATA = \"20220520_corrected_sheet1.csv\"\n",
    "DATE = time.strftime(\"%Y%m%d\")"
   ]
  },
  {
   "cell_type": "markdown",
   "metadata": {},
   "source": [
    "## Function's Definition"
   ]
  },
  {
   "cell_type": "markdown",
   "metadata": {},
   "source": [
    "### Expand dates, create day of the week column and transform time to pure number"
   ]
  },
  {
   "cell_type": "code",
   "execution_count": 92,
   "metadata": {
    "ExecuteTime": {
     "end_time": "2022-05-21T02:49:00.363603Z",
     "start_time": "2022-05-21T02:49:00.354033Z"
    }
   },
   "outputs": [],
   "source": [
    "def dateTimeConverter(dataset, col1, col2):\n",
    "    \"\"\"\n",
    "    Describe the function!\n",
    "    \"\"\"\n",
    "    dataset['Data'] = dataset[col1].astype(str) + ' ' + dataset[col2].astype(str)\n",
    "    day_of_week = list(pd.to_datetime(dataset['Data'], format='%Y-%m-%d').dt.dayofweek)\n",
    "    dataset['day_of_week'] = day_of_week\n",
    "    dataset[[col2+'_HH', col2+'_MIN', col2+'_SEC']] = dataset[col2].str.split(\":\", expand=True)\n",
    "    dataset['pure_time'] = dataset[col2+'_HH'].astype(int) + (dataset[col2+'_MIN'].astype(int) / 60) + (dataset[col2+'_SEC'].astype(float) / 3600)\n",
    "    \n",
    "    del dataset[col2+'_HH'], dataset[col2+'_MIN'], dataset[col2+'_SEC']\n",
    "        \n",
    "    return dataset"
   ]
  },
  {
   "cell_type": "markdown",
   "metadata": {},
   "source": [
    "# Loading Datasets\n",
    "* Creating resources"
   ]
  },
  {
   "cell_type": "code",
   "execution_count": 29,
   "metadata": {
    "ExecuteTime": {
     "end_time": "2022-05-20T19:53:23.519899Z",
     "start_time": "2022-05-20T19:53:23.470695Z"
    }
   },
   "outputs": [
    {
     "name": "stdout",
     "output_type": "stream",
     "text": [
      "(11128, 5)\n"
     ]
    },
    {
     "data": {
      "text/html": [
       "<div>\n",
       "<style scoped>\n",
       "    .dataframe tbody tr th:only-of-type {\n",
       "        vertical-align: middle;\n",
       "    }\n",
       "\n",
       "    .dataframe tbody tr th {\n",
       "        vertical-align: top;\n",
       "    }\n",
       "\n",
       "    .dataframe thead th {\n",
       "        text-align: right;\n",
       "    }\n",
       "</style>\n",
       "<table border=\"1\" class=\"dataframe\">\n",
       "  <thead>\n",
       "    <tr style=\"text-align: right;\">\n",
       "      <th></th>\n",
       "      <th>Dia</th>\n",
       "      <th>Hora</th>\n",
       "      <th>Valor</th>\n",
       "      <th>Cartão</th>\n",
       "      <th>CBK</th>\n",
       "    </tr>\n",
       "  </thead>\n",
       "  <tbody>\n",
       "    <tr>\n",
       "      <th>0</th>\n",
       "      <td>2015-05-01</td>\n",
       "      <td>00:01:54</td>\n",
       "      <td>36.54</td>\n",
       "      <td>536518******2108</td>\n",
       "      <td>Não</td>\n",
       "    </tr>\n",
       "    <tr>\n",
       "      <th>1</th>\n",
       "      <td>2015-05-01</td>\n",
       "      <td>00:03:46</td>\n",
       "      <td>36.54</td>\n",
       "      <td>536518******2108</td>\n",
       "      <td>Não</td>\n",
       "    </tr>\n",
       "    <tr>\n",
       "      <th>2</th>\n",
       "      <td>2015-05-01</td>\n",
       "      <td>00:08:50</td>\n",
       "      <td>69.00</td>\n",
       "      <td>453211******1239</td>\n",
       "      <td>Não</td>\n",
       "    </tr>\n",
       "    <tr>\n",
       "      <th>3</th>\n",
       "      <td>2015-05-01</td>\n",
       "      <td>00:27:00</td>\n",
       "      <td>193.43</td>\n",
       "      <td>548827******1705</td>\n",
       "      <td>Não</td>\n",
       "    </tr>\n",
       "    <tr>\n",
       "      <th>4</th>\n",
       "      <td>2015-05-01</td>\n",
       "      <td>01:32:46</td>\n",
       "      <td>132.00</td>\n",
       "      <td>531681******9778</td>\n",
       "      <td>Não</td>\n",
       "    </tr>\n",
       "    <tr>\n",
       "      <th>...</th>\n",
       "      <td>...</td>\n",
       "      <td>...</td>\n",
       "      <td>...</td>\n",
       "      <td>...</td>\n",
       "      <td>...</td>\n",
       "    </tr>\n",
       "    <tr>\n",
       "      <th>11123</th>\n",
       "      <td>2015-05-30</td>\n",
       "      <td>23:07:01</td>\n",
       "      <td>53.00</td>\n",
       "      <td>514868******7409</td>\n",
       "      <td>Não</td>\n",
       "    </tr>\n",
       "    <tr>\n",
       "      <th>11124</th>\n",
       "      <td>2015-05-30</td>\n",
       "      <td>23:08:47</td>\n",
       "      <td>15.00</td>\n",
       "      <td>439354******5281</td>\n",
       "      <td>Não</td>\n",
       "    </tr>\n",
       "    <tr>\n",
       "      <th>11125</th>\n",
       "      <td>2015-05-30</td>\n",
       "      <td>23:15:24</td>\n",
       "      <td>20.00</td>\n",
       "      <td>549167******1648</td>\n",
       "      <td>Não</td>\n",
       "    </tr>\n",
       "    <tr>\n",
       "      <th>11126</th>\n",
       "      <td>2015-05-30</td>\n",
       "      <td>23:17:41</td>\n",
       "      <td>70.00</td>\n",
       "      <td>518759******8384</td>\n",
       "      <td>Não</td>\n",
       "    </tr>\n",
       "    <tr>\n",
       "      <th>11127</th>\n",
       "      <td>2015-05-30</td>\n",
       "      <td>23:51:31</td>\n",
       "      <td>20.00</td>\n",
       "      <td>518759******0329</td>\n",
       "      <td>Não</td>\n",
       "    </tr>\n",
       "  </tbody>\n",
       "</table>\n",
       "<p>11128 rows × 5 columns</p>\n",
       "</div>"
      ],
      "text/plain": [
       "              Dia      Hora   Valor            Cartão  CBK\n",
       "0      2015-05-01  00:01:54   36.54  536518******2108  Não\n",
       "1      2015-05-01  00:03:46   36.54  536518******2108  Não\n",
       "2      2015-05-01  00:08:50   69.00  453211******1239  Não\n",
       "3      2015-05-01  00:27:00  193.43  548827******1705  Não\n",
       "4      2015-05-01  01:32:46  132.00  531681******9778  Não\n",
       "...           ...       ...     ...               ...  ...\n",
       "11123  2015-05-30  23:07:01   53.00  514868******7409  Não\n",
       "11124  2015-05-30  23:08:47   15.00  439354******5281  Não\n",
       "11125  2015-05-30  23:15:24   20.00  549167******1648  Não\n",
       "11126  2015-05-30  23:17:41   70.00  518759******8384  Não\n",
       "11127  2015-05-30  23:51:31   20.00  518759******0329  Não\n",
       "\n",
       "[11128 rows x 5 columns]"
      ]
     },
     "execution_count": 29,
     "metadata": {},
     "output_type": "execute_result"
    }
   ],
   "source": [
    "df = pd.read_csv(PATH_DATA + DATA, sep=',')\n",
    "print(df.shape)\n",
    "df"
   ]
  },
  {
   "cell_type": "markdown",
   "metadata": {},
   "source": [
    "## Creating resources"
   ]
  },
  {
   "cell_type": "code",
   "execution_count": 46,
   "metadata": {
    "ExecuteTime": {
     "end_time": "2022-05-20T20:02:45.249087Z",
     "start_time": "2022-05-20T20:02:45.230541Z"
    }
   },
   "outputs": [
    {
     "data": {
      "text/plain": [
       "19"
      ]
     },
     "execution_count": 46,
     "metadata": {},
     "output_type": "execute_result"
    }
   ],
   "source": [
    "df['Data'] = df.Dia.astype(str) + ' ' + df.Hora.astype(str)\n",
    "len(df.Data[0])"
   ]
  },
  {
   "cell_type": "code",
   "execution_count": 55,
   "metadata": {
    "ExecuteTime": {
     "end_time": "2022-05-20T20:07:55.372648Z",
     "start_time": "2022-05-20T20:07:55.365513Z"
    }
   },
   "outputs": [
    {
     "data": {
      "text/plain": [
       "Int64Index([0], dtype='int64')"
      ]
     },
     "execution_count": 55,
     "metadata": {},
     "output_type": "execute_result"
    }
   ],
   "source": [
    "df[df.Data == df.Data[0]].index"
   ]
  },
  {
   "cell_type": "code",
   "execution_count": 79,
   "metadata": {
    "ExecuteTime": {
     "end_time": "2022-05-21T02:38:07.916823Z",
     "start_time": "2022-05-21T02:38:07.745264Z"
    }
   },
   "outputs": [
    {
     "data": {
      "text/plain": [
       "[7779]"
      ]
     },
     "execution_count": 79,
     "metadata": {},
     "output_type": "execute_result"
    }
   ],
   "source": [
    "idx = []\n",
    "for i in range(len(df.Data)):\n",
    "    if len(df.Data[i]) > 19 or len(df.Data[i]) < 19:\n",
    "        idx.append(df[df.Data == df.Data[i]].index.values[0])\n",
    "    else:\n",
    "        None\n",
    "idx"
   ]
  },
  {
   "cell_type": "code",
   "execution_count": 80,
   "metadata": {
    "ExecuteTime": {
     "end_time": "2022-05-21T02:38:14.457390Z",
     "start_time": "2022-05-21T02:38:14.445213Z"
    }
   },
   "outputs": [],
   "source": [
    "df.drop(index=idx, axis=0, inplace=True)"
   ]
  },
  {
   "cell_type": "code",
   "execution_count": null,
   "metadata": {},
   "outputs": [],
   "source": []
  },
  {
   "cell_type": "code",
   "execution_count": 96,
   "metadata": {
    "ExecuteTime": {
     "end_time": "2022-05-21T02:52:44.100761Z",
     "start_time": "2022-05-21T02:52:44.015628Z"
    }
   },
   "outputs": [],
   "source": [
    "    col1, col2 = 'Dia', 'Hora'\n",
    "    day_of_week = list(pd.to_datetime(df[col1], format='%Y-%m-%d').dt.day_name())#.dayofweek)\n",
    "    df['day_of_week'] = day_of_week\n",
    "    df[[col1+'_Ano', col1+'_Mês', col1+'_Dia']] = df[col1].str.split(\"-\", expand=True)\n",
    "    df[[col2+'_HH', col2+'_MIN', col2+'_SEC']] = df[col2].str.split(\":\", expand=True)\n",
    "    df['pure_time'] = df[col2+'_HH'].astype(int) + (df[col2+'_MIN'].astype(int) / 60) + (df[col2+'_SEC'].astype(float) / 3600)\n",
    "    \n",
    "    del df[col1+'_Ano'], df[col1+'_Mês'], df[col2+'_HH'], df[col2+'_MIN'], df[col2+'_SEC']"
   ]
  },
  {
   "cell_type": "code",
   "execution_count": 97,
   "metadata": {
    "ExecuteTime": {
     "end_time": "2022-05-21T02:52:46.114312Z",
     "start_time": "2022-05-21T02:52:46.091190Z"
    }
   },
   "outputs": [
    {
     "data": {
      "text/html": [
       "<div>\n",
       "<style scoped>\n",
       "    .dataframe tbody tr th:only-of-type {\n",
       "        vertical-align: middle;\n",
       "    }\n",
       "\n",
       "    .dataframe tbody tr th {\n",
       "        vertical-align: top;\n",
       "    }\n",
       "\n",
       "    .dataframe thead th {\n",
       "        text-align: right;\n",
       "    }\n",
       "</style>\n",
       "<table border=\"1\" class=\"dataframe\">\n",
       "  <thead>\n",
       "    <tr style=\"text-align: right;\">\n",
       "      <th></th>\n",
       "      <th>Dia</th>\n",
       "      <th>Hora</th>\n",
       "      <th>Valor</th>\n",
       "      <th>Cartão</th>\n",
       "      <th>CBK</th>\n",
       "      <th>Data</th>\n",
       "      <th>day_of_week</th>\n",
       "      <th>pure_time</th>\n",
       "      <th>Dia_Dia</th>\n",
       "    </tr>\n",
       "  </thead>\n",
       "  <tbody>\n",
       "    <tr>\n",
       "      <th>0</th>\n",
       "      <td>2015-05-01</td>\n",
       "      <td>00:01:54</td>\n",
       "      <td>36.54</td>\n",
       "      <td>536518******2108</td>\n",
       "      <td>Não</td>\n",
       "      <td>2015-05-01 00:01:54</td>\n",
       "      <td>Friday</td>\n",
       "      <td>0.031667</td>\n",
       "      <td>01</td>\n",
       "    </tr>\n",
       "    <tr>\n",
       "      <th>1</th>\n",
       "      <td>2015-05-01</td>\n",
       "      <td>00:03:46</td>\n",
       "      <td>36.54</td>\n",
       "      <td>536518******2108</td>\n",
       "      <td>Não</td>\n",
       "      <td>2015-05-01 00:03:46</td>\n",
       "      <td>Friday</td>\n",
       "      <td>0.062778</td>\n",
       "      <td>01</td>\n",
       "    </tr>\n",
       "    <tr>\n",
       "      <th>2</th>\n",
       "      <td>2015-05-01</td>\n",
       "      <td>00:08:50</td>\n",
       "      <td>69.00</td>\n",
       "      <td>453211******1239</td>\n",
       "      <td>Não</td>\n",
       "      <td>2015-05-01 00:08:50</td>\n",
       "      <td>Friday</td>\n",
       "      <td>0.147222</td>\n",
       "      <td>01</td>\n",
       "    </tr>\n",
       "    <tr>\n",
       "      <th>3</th>\n",
       "      <td>2015-05-01</td>\n",
       "      <td>00:27:00</td>\n",
       "      <td>193.43</td>\n",
       "      <td>548827******1705</td>\n",
       "      <td>Não</td>\n",
       "      <td>2015-05-01 00:27:00</td>\n",
       "      <td>Friday</td>\n",
       "      <td>0.450000</td>\n",
       "      <td>01</td>\n",
       "    </tr>\n",
       "    <tr>\n",
       "      <th>4</th>\n",
       "      <td>2015-05-01</td>\n",
       "      <td>01:32:46</td>\n",
       "      <td>132.00</td>\n",
       "      <td>531681******9778</td>\n",
       "      <td>Não</td>\n",
       "      <td>2015-05-01 01:32:46</td>\n",
       "      <td>Friday</td>\n",
       "      <td>1.546111</td>\n",
       "      <td>01</td>\n",
       "    </tr>\n",
       "    <tr>\n",
       "      <th>...</th>\n",
       "      <td>...</td>\n",
       "      <td>...</td>\n",
       "      <td>...</td>\n",
       "      <td>...</td>\n",
       "      <td>...</td>\n",
       "      <td>...</td>\n",
       "      <td>...</td>\n",
       "      <td>...</td>\n",
       "      <td>...</td>\n",
       "    </tr>\n",
       "    <tr>\n",
       "      <th>11123</th>\n",
       "      <td>2015-05-30</td>\n",
       "      <td>23:07:01</td>\n",
       "      <td>53.00</td>\n",
       "      <td>514868******7409</td>\n",
       "      <td>Não</td>\n",
       "      <td>2015-05-30 23:07:01</td>\n",
       "      <td>Saturday</td>\n",
       "      <td>23.116944</td>\n",
       "      <td>30</td>\n",
       "    </tr>\n",
       "    <tr>\n",
       "      <th>11124</th>\n",
       "      <td>2015-05-30</td>\n",
       "      <td>23:08:47</td>\n",
       "      <td>15.00</td>\n",
       "      <td>439354******5281</td>\n",
       "      <td>Não</td>\n",
       "      <td>2015-05-30 23:08:47</td>\n",
       "      <td>Saturday</td>\n",
       "      <td>23.146389</td>\n",
       "      <td>30</td>\n",
       "    </tr>\n",
       "    <tr>\n",
       "      <th>11125</th>\n",
       "      <td>2015-05-30</td>\n",
       "      <td>23:15:24</td>\n",
       "      <td>20.00</td>\n",
       "      <td>549167******1648</td>\n",
       "      <td>Não</td>\n",
       "      <td>2015-05-30 23:15:24</td>\n",
       "      <td>Saturday</td>\n",
       "      <td>23.256667</td>\n",
       "      <td>30</td>\n",
       "    </tr>\n",
       "    <tr>\n",
       "      <th>11126</th>\n",
       "      <td>2015-05-30</td>\n",
       "      <td>23:17:41</td>\n",
       "      <td>70.00</td>\n",
       "      <td>518759******8384</td>\n",
       "      <td>Não</td>\n",
       "      <td>2015-05-30 23:17:41</td>\n",
       "      <td>Saturday</td>\n",
       "      <td>23.294722</td>\n",
       "      <td>30</td>\n",
       "    </tr>\n",
       "    <tr>\n",
       "      <th>11127</th>\n",
       "      <td>2015-05-30</td>\n",
       "      <td>23:51:31</td>\n",
       "      <td>20.00</td>\n",
       "      <td>518759******0329</td>\n",
       "      <td>Não</td>\n",
       "      <td>2015-05-30 23:51:31</td>\n",
       "      <td>Saturday</td>\n",
       "      <td>23.858611</td>\n",
       "      <td>30</td>\n",
       "    </tr>\n",
       "  </tbody>\n",
       "</table>\n",
       "<p>11127 rows × 9 columns</p>\n",
       "</div>"
      ],
      "text/plain": [
       "              Dia      Hora   Valor            Cartão  CBK  \\\n",
       "0      2015-05-01  00:01:54   36.54  536518******2108  Não   \n",
       "1      2015-05-01  00:03:46   36.54  536518******2108  Não   \n",
       "2      2015-05-01  00:08:50   69.00  453211******1239  Não   \n",
       "3      2015-05-01  00:27:00  193.43  548827******1705  Não   \n",
       "4      2015-05-01  01:32:46  132.00  531681******9778  Não   \n",
       "...           ...       ...     ...               ...  ...   \n",
       "11123  2015-05-30  23:07:01   53.00  514868******7409  Não   \n",
       "11124  2015-05-30  23:08:47   15.00  439354******5281  Não   \n",
       "11125  2015-05-30  23:15:24   20.00  549167******1648  Não   \n",
       "11126  2015-05-30  23:17:41   70.00  518759******8384  Não   \n",
       "11127  2015-05-30  23:51:31   20.00  518759******0329  Não   \n",
       "\n",
       "                      Data day_of_week  pure_time Dia_Dia  \n",
       "0      2015-05-01 00:01:54      Friday   0.031667      01  \n",
       "1      2015-05-01 00:03:46      Friday   0.062778      01  \n",
       "2      2015-05-01 00:08:50      Friday   0.147222      01  \n",
       "3      2015-05-01 00:27:00      Friday   0.450000      01  \n",
       "4      2015-05-01 01:32:46      Friday   1.546111      01  \n",
       "...                    ...         ...        ...     ...  \n",
       "11123  2015-05-30 23:07:01    Saturday  23.116944      30  \n",
       "11124  2015-05-30 23:08:47    Saturday  23.146389      30  \n",
       "11125  2015-05-30 23:15:24    Saturday  23.256667      30  \n",
       "11126  2015-05-30 23:17:41    Saturday  23.294722      30  \n",
       "11127  2015-05-30 23:51:31    Saturday  23.858611      30  \n",
       "\n",
       "[11127 rows x 9 columns]"
      ]
     },
     "execution_count": 97,
     "metadata": {},
     "output_type": "execute_result"
    }
   ],
   "source": [
    "df"
   ]
  },
  {
   "cell_type": "code",
   "execution_count": 93,
   "metadata": {
    "ExecuteTime": {
     "end_time": "2022-05-21T02:49:05.000852Z",
     "start_time": "2022-05-21T02:49:04.949099Z"
    }
   },
   "outputs": [
    {
     "name": "stdout",
     "output_type": "stream",
     "text": [
      "(11127, 8)\n"
     ]
    },
    {
     "data": {
      "text/html": [
       "<div>\n",
       "<style scoped>\n",
       "    .dataframe tbody tr th:only-of-type {\n",
       "        vertical-align: middle;\n",
       "    }\n",
       "\n",
       "    .dataframe tbody tr th {\n",
       "        vertical-align: top;\n",
       "    }\n",
       "\n",
       "    .dataframe thead th {\n",
       "        text-align: right;\n",
       "    }\n",
       "</style>\n",
       "<table border=\"1\" class=\"dataframe\">\n",
       "  <thead>\n",
       "    <tr style=\"text-align: right;\">\n",
       "      <th></th>\n",
       "      <th>Dia</th>\n",
       "      <th>Hora</th>\n",
       "      <th>Valor</th>\n",
       "      <th>Cartão</th>\n",
       "      <th>CBK</th>\n",
       "      <th>Data</th>\n",
       "      <th>day_of_week</th>\n",
       "      <th>pure_time</th>\n",
       "    </tr>\n",
       "  </thead>\n",
       "  <tbody>\n",
       "    <tr>\n",
       "      <th>0</th>\n",
       "      <td>2015-05-01</td>\n",
       "      <td>00:01:54</td>\n",
       "      <td>36.54</td>\n",
       "      <td>536518******2108</td>\n",
       "      <td>Não</td>\n",
       "      <td>2015-05-01 00:01:54</td>\n",
       "      <td>4</td>\n",
       "      <td>0.031667</td>\n",
       "    </tr>\n",
       "    <tr>\n",
       "      <th>1</th>\n",
       "      <td>2015-05-01</td>\n",
       "      <td>00:03:46</td>\n",
       "      <td>36.54</td>\n",
       "      <td>536518******2108</td>\n",
       "      <td>Não</td>\n",
       "      <td>2015-05-01 00:03:46</td>\n",
       "      <td>4</td>\n",
       "      <td>0.062778</td>\n",
       "    </tr>\n",
       "    <tr>\n",
       "      <th>2</th>\n",
       "      <td>2015-05-01</td>\n",
       "      <td>00:08:50</td>\n",
       "      <td>69.00</td>\n",
       "      <td>453211******1239</td>\n",
       "      <td>Não</td>\n",
       "      <td>2015-05-01 00:08:50</td>\n",
       "      <td>4</td>\n",
       "      <td>0.147222</td>\n",
       "    </tr>\n",
       "    <tr>\n",
       "      <th>3</th>\n",
       "      <td>2015-05-01</td>\n",
       "      <td>00:27:00</td>\n",
       "      <td>193.43</td>\n",
       "      <td>548827******1705</td>\n",
       "      <td>Não</td>\n",
       "      <td>2015-05-01 00:27:00</td>\n",
       "      <td>4</td>\n",
       "      <td>0.450000</td>\n",
       "    </tr>\n",
       "    <tr>\n",
       "      <th>4</th>\n",
       "      <td>2015-05-01</td>\n",
       "      <td>01:32:46</td>\n",
       "      <td>132.00</td>\n",
       "      <td>531681******9778</td>\n",
       "      <td>Não</td>\n",
       "      <td>2015-05-01 01:32:46</td>\n",
       "      <td>4</td>\n",
       "      <td>1.546111</td>\n",
       "    </tr>\n",
       "  </tbody>\n",
       "</table>\n",
       "</div>"
      ],
      "text/plain": [
       "          Dia      Hora   Valor            Cartão  CBK                 Data  \\\n",
       "0  2015-05-01  00:01:54   36.54  536518******2108  Não  2015-05-01 00:01:54   \n",
       "1  2015-05-01  00:03:46   36.54  536518******2108  Não  2015-05-01 00:03:46   \n",
       "2  2015-05-01  00:08:50   69.00  453211******1239  Não  2015-05-01 00:08:50   \n",
       "3  2015-05-01  00:27:00  193.43  548827******1705  Não  2015-05-01 00:27:00   \n",
       "4  2015-05-01  01:32:46  132.00  531681******9778  Não  2015-05-01 01:32:46   \n",
       "\n",
       "   day_of_week  pure_time  \n",
       "0            4   0.031667  \n",
       "1            4   0.062778  \n",
       "2            4   0.147222  \n",
       "3            4   0.450000  \n",
       "4            4   1.546111  "
      ]
     },
     "execution_count": 93,
     "metadata": {},
     "output_type": "execute_result"
    }
   ],
   "source": [
    "### Expand dates, create day of the week column and transform time to pure number\n",
    "dateTimeConverter(df, 'Dia', 'Hora')\n",
    "\n",
    "print(df.shape)\n",
    "df.head()"
   ]
  },
  {
   "cell_type": "code",
   "execution_count": null,
   "metadata": {},
   "outputs": [],
   "source": []
  }
 ],
 "metadata": {
  "hide_input": false,
  "kernelspec": {
   "display_name": "Python 3",
   "language": "python",
   "name": "python3"
  },
  "language_info": {
   "codemirror_mode": {
    "name": "ipython",
    "version": 3
   },
   "file_extension": ".py",
   "mimetype": "text/x-python",
   "name": "python",
   "nbconvert_exporter": "python",
   "pygments_lexer": "ipython3",
   "version": "3.8.3"
  },
  "varInspector": {
   "cols": {
    "lenName": 16,
    "lenType": 16,
    "lenVar": 40
   },
   "kernels_config": {
    "python": {
     "delete_cmd_postfix": "",
     "delete_cmd_prefix": "del ",
     "library": "var_list.py",
     "varRefreshCmd": "print(var_dic_list())"
    },
    "r": {
     "delete_cmd_postfix": ") ",
     "delete_cmd_prefix": "rm(",
     "library": "var_list.r",
     "varRefreshCmd": "cat(var_dic_list()) "
    }
   },
   "types_to_exclude": [
    "module",
    "function",
    "builtin_function_or_method",
    "instance",
    "_Feature"
   ],
   "window_display": false
  }
 },
 "nbformat": 4,
 "nbformat_minor": 4
}
