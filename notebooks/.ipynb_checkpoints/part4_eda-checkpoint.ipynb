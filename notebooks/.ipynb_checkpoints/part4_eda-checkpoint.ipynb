{
 "cells": [
  {
   "cell_type": "markdown",
   "metadata": {},
   "source": [
    "# Cornershop's Data Science Test\n",
    "\n",
    "## Dev: Mateus Broilo\n",
    "mateus.brilo90@gmail.com\n",
    "\n",
    "* Objectives: Load Datasets and perform "
   ]
  },
  {
   "cell_type": "markdown",
   "metadata": {},
   "source": [
    " # Summary\n",
    "\n",
    "* Initials\n",
    "    * Loading Libraries and Packages\n",
    "    * Configurations\n",
    "    * Global Variables\n",
    "* Loading data\n",
    "* Creating resources\n",
    "    * Concat Dia and Hora resources anc check its length\n",
    "    * Creating day_of_name, day_of_month and pure_time\n",
    "* Exploratory Data Analysis\n",
    "    * Hypotheses\n",
    "    * Univariate Analysis\n",
    "    \n"
   ]
  },
  {
   "cell_type": "markdown",
   "metadata": {},
   "source": [
    "# Initials\n",
    "* Loading Libraries and Packages\n",
    "* Configuration\n",
    "* Global Variables"
   ]
  },
  {
   "cell_type": "markdown",
   "metadata": {},
   "source": [
    "## Loading Libraries and Packages "
   ]
  },
  {
   "cell_type": "code",
   "execution_count": 1,
   "metadata": {
    "ExecuteTime": {
     "end_time": "2022-05-21T14:16:19.931710Z",
     "start_time": "2022-05-21T14:16:19.015566Z"
    }
   },
   "outputs": [],
   "source": [
    "# general\n",
    "import warnings\n",
    "import time\n",
    "import gc\n",
    "\n",
    "#data\n",
    "import pandas as pd\n",
    "import numpy as np\n",
    "from datetime import (datetime, date)\n",
    "\n",
    "## visualization\n",
    "import matplotlib.pyplot as plt\n",
    "import seaborn as sns"
   ]
  },
  {
   "cell_type": "code",
   "execution_count": 2,
   "metadata": {
    "ExecuteTime": {
     "end_time": "2022-05-21T14:16:22.858205Z",
     "start_time": "2022-05-21T14:16:22.718825Z"
    }
   },
   "outputs": [
    {
     "name": "stdout",
     "output_type": "stream",
     "text": [
      "total 504\r\n",
      "-rw-rw-r-- 1 broilo broilo 514550 mai 20 16:56 20220520_corrected_sheet1.csv\r\n"
     ]
    }
   ],
   "source": [
    "ls -l ../data/"
   ]
  },
  {
   "cell_type": "markdown",
   "metadata": {},
   "source": [
    "## Configurations"
   ]
  },
  {
   "cell_type": "code",
   "execution_count": 3,
   "metadata": {
    "ExecuteTime": {
     "end_time": "2022-05-21T14:16:24.579002Z",
     "start_time": "2022-05-21T14:16:24.569841Z"
    }
   },
   "outputs": [],
   "source": [
    "warnings.filterwarnings(\"ignore\")\n",
    "pd.set_option('display.max_columns', 20)\n",
    "pd.set_option('display.max_rows', 20)\n",
    "\n",
    "rc={'font.size': 14, 'axes.labelsize': 14, 'legend.fontsize': 12, \n",
    "    'axes.titlesize': 24, 'xtick.labelsize': 14, 'ytick.labelsize': 12}\n",
    "\n",
    "sns.set(rc=rc)\n",
    "sns.set_palette(\"Set2\")\n",
    "sns.set_style(\"darkgrid\")#sns.set_style(\"whitegrid\")"
   ]
  },
  {
   "cell_type": "markdown",
   "metadata": {},
   "source": [
    "## Global Variables"
   ]
  },
  {
   "cell_type": "code",
   "execution_count": 4,
   "metadata": {
    "ExecuteTime": {
     "end_time": "2022-05-21T14:16:26.559370Z",
     "start_time": "2022-05-21T14:16:26.551001Z"
    }
   },
   "outputs": [],
   "source": [
    "PATH_DATA = \"../data/\"\n",
    "DATA = \"20220520_corrected_sheet1.csv\"\n",
    "DATE = time.strftime(\"%Y%m%d\")"
   ]
  },
  {
   "cell_type": "markdown",
   "metadata": {},
   "source": [
    "# Loading Datasets\n",
    "* Creating resources"
   ]
  },
  {
   "cell_type": "code",
   "execution_count": 85,
   "metadata": {
    "ExecuteTime": {
     "end_time": "2022-05-21T15:05:38.628152Z",
     "start_time": "2022-05-21T15:05:38.571437Z"
    }
   },
   "outputs": [
    {
     "name": "stdout",
     "output_type": "stream",
     "text": [
      "(11128, 5)\n"
     ]
    },
    {
     "data": {
      "text/html": [
       "<div>\n",
       "<style scoped>\n",
       "    .dataframe tbody tr th:only-of-type {\n",
       "        vertical-align: middle;\n",
       "    }\n",
       "\n",
       "    .dataframe tbody tr th {\n",
       "        vertical-align: top;\n",
       "    }\n",
       "\n",
       "    .dataframe thead th {\n",
       "        text-align: right;\n",
       "    }\n",
       "</style>\n",
       "<table border=\"1\" class=\"dataframe\">\n",
       "  <thead>\n",
       "    <tr style=\"text-align: right;\">\n",
       "      <th></th>\n",
       "      <th>Dia</th>\n",
       "      <th>Hora</th>\n",
       "      <th>Valor</th>\n",
       "      <th>Cartão</th>\n",
       "      <th>CBK</th>\n",
       "    </tr>\n",
       "  </thead>\n",
       "  <tbody>\n",
       "    <tr>\n",
       "      <th>0</th>\n",
       "      <td>2015-05-01</td>\n",
       "      <td>00:01:54</td>\n",
       "      <td>36.54</td>\n",
       "      <td>536518******2108</td>\n",
       "      <td>Não</td>\n",
       "    </tr>\n",
       "    <tr>\n",
       "      <th>1</th>\n",
       "      <td>2015-05-01</td>\n",
       "      <td>00:03:46</td>\n",
       "      <td>36.54</td>\n",
       "      <td>536518******2108</td>\n",
       "      <td>Não</td>\n",
       "    </tr>\n",
       "    <tr>\n",
       "      <th>2</th>\n",
       "      <td>2015-05-01</td>\n",
       "      <td>00:08:50</td>\n",
       "      <td>69.00</td>\n",
       "      <td>453211******1239</td>\n",
       "      <td>Não</td>\n",
       "    </tr>\n",
       "    <tr>\n",
       "      <th>3</th>\n",
       "      <td>2015-05-01</td>\n",
       "      <td>00:27:00</td>\n",
       "      <td>193.43</td>\n",
       "      <td>548827******1705</td>\n",
       "      <td>Não</td>\n",
       "    </tr>\n",
       "    <tr>\n",
       "      <th>4</th>\n",
       "      <td>2015-05-01</td>\n",
       "      <td>01:32:46</td>\n",
       "      <td>132.00</td>\n",
       "      <td>531681******9778</td>\n",
       "      <td>Não</td>\n",
       "    </tr>\n",
       "    <tr>\n",
       "      <th>...</th>\n",
       "      <td>...</td>\n",
       "      <td>...</td>\n",
       "      <td>...</td>\n",
       "      <td>...</td>\n",
       "      <td>...</td>\n",
       "    </tr>\n",
       "    <tr>\n",
       "      <th>11123</th>\n",
       "      <td>2015-05-30</td>\n",
       "      <td>23:07:01</td>\n",
       "      <td>53.00</td>\n",
       "      <td>514868******7409</td>\n",
       "      <td>Não</td>\n",
       "    </tr>\n",
       "    <tr>\n",
       "      <th>11124</th>\n",
       "      <td>2015-05-30</td>\n",
       "      <td>23:08:47</td>\n",
       "      <td>15.00</td>\n",
       "      <td>439354******5281</td>\n",
       "      <td>Não</td>\n",
       "    </tr>\n",
       "    <tr>\n",
       "      <th>11125</th>\n",
       "      <td>2015-05-30</td>\n",
       "      <td>23:15:24</td>\n",
       "      <td>20.00</td>\n",
       "      <td>549167******1648</td>\n",
       "      <td>Não</td>\n",
       "    </tr>\n",
       "    <tr>\n",
       "      <th>11126</th>\n",
       "      <td>2015-05-30</td>\n",
       "      <td>23:17:41</td>\n",
       "      <td>70.00</td>\n",
       "      <td>518759******8384</td>\n",
       "      <td>Não</td>\n",
       "    </tr>\n",
       "    <tr>\n",
       "      <th>11127</th>\n",
       "      <td>2015-05-30</td>\n",
       "      <td>23:51:31</td>\n",
       "      <td>20.00</td>\n",
       "      <td>518759******0329</td>\n",
       "      <td>Não</td>\n",
       "    </tr>\n",
       "  </tbody>\n",
       "</table>\n",
       "<p>11128 rows × 5 columns</p>\n",
       "</div>"
      ],
      "text/plain": [
       "              Dia      Hora   Valor            Cartão  CBK\n",
       "0      2015-05-01  00:01:54   36.54  536518******2108  Não\n",
       "1      2015-05-01  00:03:46   36.54  536518******2108  Não\n",
       "2      2015-05-01  00:08:50   69.00  453211******1239  Não\n",
       "3      2015-05-01  00:27:00  193.43  548827******1705  Não\n",
       "4      2015-05-01  01:32:46  132.00  531681******9778  Não\n",
       "...           ...       ...     ...               ...  ...\n",
       "11123  2015-05-30  23:07:01   53.00  514868******7409  Não\n",
       "11124  2015-05-30  23:08:47   15.00  439354******5281  Não\n",
       "11125  2015-05-30  23:15:24   20.00  549167******1648  Não\n",
       "11126  2015-05-30  23:17:41   70.00  518759******8384  Não\n",
       "11127  2015-05-30  23:51:31   20.00  518759******0329  Não\n",
       "\n",
       "[11128 rows x 5 columns]"
      ]
     },
     "execution_count": 85,
     "metadata": {},
     "output_type": "execute_result"
    }
   ],
   "source": [
    "df = pd.read_csv(PATH_DATA + DATA, sep=',')\n",
    "print(df.shape)\n",
    "df"
   ]
  },
  {
   "cell_type": "markdown",
   "metadata": {},
   "source": [
    "# Creating resources\n",
    "* Concat Dia and Hora resources anc check its length\n",
    "* Creating day_of_name, day_of_month and pure_time"
   ]
  },
  {
   "cell_type": "markdown",
   "metadata": {},
   "source": [
    "## Concat Dia and Hora resources anc check its length\n",
    "* As and example, the length must correspond: 2015-05-01 00:01:54\n",
    "* Any entry with length greater or less than 2015-05-01 00:01:54 must be excluded or properly corrected"
   ]
  },
  {
   "cell_type": "code",
   "execution_count": 86,
   "metadata": {
    "ExecuteTime": {
     "end_time": "2022-05-21T15:05:39.502802Z",
     "start_time": "2022-05-21T15:05:39.352239Z"
    },
    "scrolled": true
   },
   "outputs": [
    {
     "data": {
      "text/plain": [
       "[19, 30]"
      ]
     },
     "execution_count": 86,
     "metadata": {},
     "output_type": "execute_result"
    }
   ],
   "source": [
    "df['Data'] = df.Dia.astype(str) + ' ' + df.Hora.astype(str)\n",
    "\n",
    "uniqueDataLen = []\n",
    "for i in range(len(df.Data)):\n",
    "    uniqueDataLen.append(len(df.Data[i]))\n",
    "uniqueDataLen = list(set(uniqueDataLen))\n",
    "uniqueDataLen"
   ]
  },
  {
   "cell_type": "code",
   "execution_count": 87,
   "metadata": {
    "ExecuteTime": {
     "end_time": "2022-05-21T15:05:39.847137Z",
     "start_time": "2022-05-21T15:05:39.589025Z"
    }
   },
   "outputs": [
    {
     "name": "stdout",
     "output_type": "stream",
     "text": [
      "Problem lines: [7779]\n"
     ]
    },
    {
     "data": {
      "text/html": [
       "<div>\n",
       "<style scoped>\n",
       "    .dataframe tbody tr th:only-of-type {\n",
       "        vertical-align: middle;\n",
       "    }\n",
       "\n",
       "    .dataframe tbody tr th {\n",
       "        vertical-align: top;\n",
       "    }\n",
       "\n",
       "    .dataframe thead th {\n",
       "        text-align: right;\n",
       "    }\n",
       "</style>\n",
       "<table border=\"1\" class=\"dataframe\">\n",
       "  <thead>\n",
       "    <tr style=\"text-align: right;\">\n",
       "      <th></th>\n",
       "      <th>Dia</th>\n",
       "      <th>Hora</th>\n",
       "      <th>Valor</th>\n",
       "      <th>Cartão</th>\n",
       "      <th>CBK</th>\n",
       "      <th>Data</th>\n",
       "    </tr>\n",
       "  </thead>\n",
       "  <tbody>\n",
       "    <tr>\n",
       "      <th>7779</th>\n",
       "      <td>2015-05-22</td>\n",
       "      <td>1899-12-30 00:00:00</td>\n",
       "      <td>23.0</td>\n",
       "      <td>498453******6960</td>\n",
       "      <td>Não</td>\n",
       "      <td>2015-05-22 1899-12-30 00:00:00</td>\n",
       "    </tr>\n",
       "  </tbody>\n",
       "</table>\n",
       "</div>"
      ],
      "text/plain": [
       "             Dia                 Hora  Valor            Cartão  CBK  \\\n",
       "7779  2015-05-22  1899-12-30 00:00:00   23.0  498453******6960  Não   \n",
       "\n",
       "                                Data  \n",
       "7779  2015-05-22 1899-12-30 00:00:00  "
      ]
     },
     "metadata": {},
     "output_type": "display_data"
    }
   ],
   "source": [
    "idx = []\n",
    "for i in range(len(df.Data)):\n",
    "    if len(df.Data[i]) > 19 or len(df.Data[i]) < 19:\n",
    "        idx.append(df[df.Data == df.Data[i]].index.values[0])\n",
    "    else:\n",
    "        None\n",
    "print(f\"Problem lines: {idx}\")\n",
    "display(df.iloc[idx])\n",
    "df.drop(index=idx, axis=0, inplace=True)"
   ]
  },
  {
   "cell_type": "markdown",
   "metadata": {},
   "source": [
    "## Creating day_of_name, day_of_month and pure_time"
   ]
  },
  {
   "cell_type": "code",
   "execution_count": 88,
   "metadata": {
    "ExecuteTime": {
     "end_time": "2022-05-21T15:05:40.194656Z",
     "start_time": "2022-05-21T15:05:40.017712Z"
    }
   },
   "outputs": [
    {
     "data": {
      "text/html": [
       "<div>\n",
       "<style scoped>\n",
       "    .dataframe tbody tr th:only-of-type {\n",
       "        vertical-align: middle;\n",
       "    }\n",
       "\n",
       "    .dataframe tbody tr th {\n",
       "        vertical-align: top;\n",
       "    }\n",
       "\n",
       "    .dataframe thead th {\n",
       "        text-align: right;\n",
       "    }\n",
       "</style>\n",
       "<table border=\"1\" class=\"dataframe\">\n",
       "  <thead>\n",
       "    <tr style=\"text-align: right;\">\n",
       "      <th></th>\n",
       "      <th>Dia</th>\n",
       "      <th>Hora</th>\n",
       "      <th>Valor</th>\n",
       "      <th>Cartão</th>\n",
       "      <th>CBK</th>\n",
       "      <th>Data</th>\n",
       "      <th>day_of_week</th>\n",
       "      <th>day_name</th>\n",
       "      <th>day_of_month</th>\n",
       "      <th>pure_time</th>\n",
       "    </tr>\n",
       "  </thead>\n",
       "  <tbody>\n",
       "    <tr>\n",
       "      <th>0</th>\n",
       "      <td>2015-05-01</td>\n",
       "      <td>00:01:54</td>\n",
       "      <td>36.54</td>\n",
       "      <td>536518******2108</td>\n",
       "      <td>Não</td>\n",
       "      <td>2015-05-01 00:01:54</td>\n",
       "      <td>4</td>\n",
       "      <td>Friday</td>\n",
       "      <td>01</td>\n",
       "      <td>0.031667</td>\n",
       "    </tr>\n",
       "    <tr>\n",
       "      <th>1</th>\n",
       "      <td>2015-05-01</td>\n",
       "      <td>00:03:46</td>\n",
       "      <td>36.54</td>\n",
       "      <td>536518******2108</td>\n",
       "      <td>Não</td>\n",
       "      <td>2015-05-01 00:03:46</td>\n",
       "      <td>4</td>\n",
       "      <td>Friday</td>\n",
       "      <td>01</td>\n",
       "      <td>0.062778</td>\n",
       "    </tr>\n",
       "    <tr>\n",
       "      <th>2</th>\n",
       "      <td>2015-05-01</td>\n",
       "      <td>00:08:50</td>\n",
       "      <td>69.00</td>\n",
       "      <td>453211******1239</td>\n",
       "      <td>Não</td>\n",
       "      <td>2015-05-01 00:08:50</td>\n",
       "      <td>4</td>\n",
       "      <td>Friday</td>\n",
       "      <td>01</td>\n",
       "      <td>0.147222</td>\n",
       "    </tr>\n",
       "    <tr>\n",
       "      <th>3</th>\n",
       "      <td>2015-05-01</td>\n",
       "      <td>00:27:00</td>\n",
       "      <td>193.43</td>\n",
       "      <td>548827******1705</td>\n",
       "      <td>Não</td>\n",
       "      <td>2015-05-01 00:27:00</td>\n",
       "      <td>4</td>\n",
       "      <td>Friday</td>\n",
       "      <td>01</td>\n",
       "      <td>0.450000</td>\n",
       "    </tr>\n",
       "    <tr>\n",
       "      <th>4</th>\n",
       "      <td>2015-05-01</td>\n",
       "      <td>01:32:46</td>\n",
       "      <td>132.00</td>\n",
       "      <td>531681******9778</td>\n",
       "      <td>Não</td>\n",
       "      <td>2015-05-01 01:32:46</td>\n",
       "      <td>4</td>\n",
       "      <td>Friday</td>\n",
       "      <td>01</td>\n",
       "      <td>1.546111</td>\n",
       "    </tr>\n",
       "    <tr>\n",
       "      <th>...</th>\n",
       "      <td>...</td>\n",
       "      <td>...</td>\n",
       "      <td>...</td>\n",
       "      <td>...</td>\n",
       "      <td>...</td>\n",
       "      <td>...</td>\n",
       "      <td>...</td>\n",
       "      <td>...</td>\n",
       "      <td>...</td>\n",
       "      <td>...</td>\n",
       "    </tr>\n",
       "    <tr>\n",
       "      <th>11123</th>\n",
       "      <td>2015-05-30</td>\n",
       "      <td>23:07:01</td>\n",
       "      <td>53.00</td>\n",
       "      <td>514868******7409</td>\n",
       "      <td>Não</td>\n",
       "      <td>2015-05-30 23:07:01</td>\n",
       "      <td>5</td>\n",
       "      <td>Saturday</td>\n",
       "      <td>30</td>\n",
       "      <td>23.116944</td>\n",
       "    </tr>\n",
       "    <tr>\n",
       "      <th>11124</th>\n",
       "      <td>2015-05-30</td>\n",
       "      <td>23:08:47</td>\n",
       "      <td>15.00</td>\n",
       "      <td>439354******5281</td>\n",
       "      <td>Não</td>\n",
       "      <td>2015-05-30 23:08:47</td>\n",
       "      <td>5</td>\n",
       "      <td>Saturday</td>\n",
       "      <td>30</td>\n",
       "      <td>23.146389</td>\n",
       "    </tr>\n",
       "    <tr>\n",
       "      <th>11125</th>\n",
       "      <td>2015-05-30</td>\n",
       "      <td>23:15:24</td>\n",
       "      <td>20.00</td>\n",
       "      <td>549167******1648</td>\n",
       "      <td>Não</td>\n",
       "      <td>2015-05-30 23:15:24</td>\n",
       "      <td>5</td>\n",
       "      <td>Saturday</td>\n",
       "      <td>30</td>\n",
       "      <td>23.256667</td>\n",
       "    </tr>\n",
       "    <tr>\n",
       "      <th>11126</th>\n",
       "      <td>2015-05-30</td>\n",
       "      <td>23:17:41</td>\n",
       "      <td>70.00</td>\n",
       "      <td>518759******8384</td>\n",
       "      <td>Não</td>\n",
       "      <td>2015-05-30 23:17:41</td>\n",
       "      <td>5</td>\n",
       "      <td>Saturday</td>\n",
       "      <td>30</td>\n",
       "      <td>23.294722</td>\n",
       "    </tr>\n",
       "    <tr>\n",
       "      <th>11127</th>\n",
       "      <td>2015-05-30</td>\n",
       "      <td>23:51:31</td>\n",
       "      <td>20.00</td>\n",
       "      <td>518759******0329</td>\n",
       "      <td>Não</td>\n",
       "      <td>2015-05-30 23:51:31</td>\n",
       "      <td>5</td>\n",
       "      <td>Saturday</td>\n",
       "      <td>30</td>\n",
       "      <td>23.858611</td>\n",
       "    </tr>\n",
       "  </tbody>\n",
       "</table>\n",
       "<p>11127 rows × 10 columns</p>\n",
       "</div>"
      ],
      "text/plain": [
       "              Dia      Hora   Valor            Cartão  CBK  \\\n",
       "0      2015-05-01  00:01:54   36.54  536518******2108  Não   \n",
       "1      2015-05-01  00:03:46   36.54  536518******2108  Não   \n",
       "2      2015-05-01  00:08:50   69.00  453211******1239  Não   \n",
       "3      2015-05-01  00:27:00  193.43  548827******1705  Não   \n",
       "4      2015-05-01  01:32:46  132.00  531681******9778  Não   \n",
       "...           ...       ...     ...               ...  ...   \n",
       "11123  2015-05-30  23:07:01   53.00  514868******7409  Não   \n",
       "11124  2015-05-30  23:08:47   15.00  439354******5281  Não   \n",
       "11125  2015-05-30  23:15:24   20.00  549167******1648  Não   \n",
       "11126  2015-05-30  23:17:41   70.00  518759******8384  Não   \n",
       "11127  2015-05-30  23:51:31   20.00  518759******0329  Não   \n",
       "\n",
       "                      Data  day_of_week  day_name day_of_month  pure_time  \n",
       "0      2015-05-01 00:01:54            4    Friday           01   0.031667  \n",
       "1      2015-05-01 00:03:46            4    Friday           01   0.062778  \n",
       "2      2015-05-01 00:08:50            4    Friday           01   0.147222  \n",
       "3      2015-05-01 00:27:00            4    Friday           01   0.450000  \n",
       "4      2015-05-01 01:32:46            4    Friday           01   1.546111  \n",
       "...                    ...          ...       ...          ...        ...  \n",
       "11123  2015-05-30 23:07:01            5  Saturday           30  23.116944  \n",
       "11124  2015-05-30 23:08:47            5  Saturday           30  23.146389  \n",
       "11125  2015-05-30 23:15:24            5  Saturday           30  23.256667  \n",
       "11126  2015-05-30 23:17:41            5  Saturday           30  23.294722  \n",
       "11127  2015-05-30 23:51:31            5  Saturday           30  23.858611  \n",
       "\n",
       "[11127 rows x 10 columns]"
      ]
     },
     "execution_count": 88,
     "metadata": {},
     "output_type": "execute_result"
    }
   ],
   "source": [
    "col1, col2 = 'Dia', 'Hora'\n",
    "\n",
    "# day_of_week\n",
    "df['day_of_week'] = list(pd.to_datetime(df[col1], format='%Y-%m-%d').dt.dayofweek)\n",
    "df['day_name'] = list(pd.to_datetime(df[col1], format='%Y-%m-%d').dt.day_name())#.dayofweek)\n",
    "\n",
    "# day_of_month\n",
    "df[[col1+'_Ano', col1+'_Mês', col1+'_Dia']] = df[col1].str.split(\"-\", expand=True)\n",
    "df.rename(columns={col1+'_Dia':'day_of_month'}, inplace=True)\n",
    "\n",
    "# pure_time\n",
    "df[[col2+'_HH', col2+'_MIN', col2+'_SEC']] = df[col2].str.split(\":\", expand=True)\n",
    "df['pure_time'] = df[col2+'_HH'].astype(int) + (df[col2+'_MIN'].astype(int) / 60) + (df[col2+'_SEC'].astype(float) / 3600)\n",
    "\n",
    "del df[col1+'_Ano'], df[col1+'_Mês'], df[col2+'_HH'], df[col2+'_MIN'], df[col2+'_SEC']\n",
    "df"
   ]
  },
  {
   "cell_type": "markdown",
   "metadata": {},
   "source": [
    "## Important resources"
   ]
  },
  {
   "cell_type": "code",
   "execution_count": 89,
   "metadata": {
    "ExecuteTime": {
     "end_time": "2022-05-21T15:05:40.755231Z",
     "start_time": "2022-05-21T15:05:40.743283Z"
    }
   },
   "outputs": [
    {
     "data": {
      "text/plain": [
       "['Dia',\n",
       " 'Hora',\n",
       " 'Valor',\n",
       " 'Cartão',\n",
       " 'CBK',\n",
       " 'Data',\n",
       " 'day_of_week',\n",
       " 'day_name',\n",
       " 'day_of_month',\n",
       " 'pure_time']"
      ]
     },
     "execution_count": 89,
     "metadata": {},
     "output_type": "execute_result"
    }
   ],
   "source": [
    "list(df)"
   ]
  },
  {
   "cell_type": "code",
   "execution_count": 92,
   "metadata": {
    "ExecuteTime": {
     "end_time": "2022-05-21T15:06:00.238912Z",
     "start_time": "2022-05-21T15:06:00.196671Z"
    }
   },
   "outputs": [
    {
     "data": {
      "text/html": [
       "<div>\n",
       "<style scoped>\n",
       "    .dataframe tbody tr th:only-of-type {\n",
       "        vertical-align: middle;\n",
       "    }\n",
       "\n",
       "    .dataframe tbody tr th {\n",
       "        vertical-align: top;\n",
       "    }\n",
       "\n",
       "    .dataframe thead th {\n",
       "        text-align: right;\n",
       "    }\n",
       "</style>\n",
       "<table border=\"1\" class=\"dataframe\">\n",
       "  <thead>\n",
       "    <tr style=\"text-align: right;\">\n",
       "      <th></th>\n",
       "      <th>Cartão</th>\n",
       "      <th>Valor</th>\n",
       "      <th>day_of_week</th>\n",
       "      <th>day_name</th>\n",
       "      <th>day_of_month</th>\n",
       "      <th>pure_time</th>\n",
       "      <th>CBK</th>\n",
       "    </tr>\n",
       "  </thead>\n",
       "  <tbody>\n",
       "    <tr>\n",
       "      <th>0</th>\n",
       "      <td>536518******2108</td>\n",
       "      <td>36.54</td>\n",
       "      <td>4</td>\n",
       "      <td>Friday</td>\n",
       "      <td>01</td>\n",
       "      <td>0.031667</td>\n",
       "      <td>Não</td>\n",
       "    </tr>\n",
       "    <tr>\n",
       "      <th>1</th>\n",
       "      <td>536518******2108</td>\n",
       "      <td>36.54</td>\n",
       "      <td>4</td>\n",
       "      <td>Friday</td>\n",
       "      <td>01</td>\n",
       "      <td>0.062778</td>\n",
       "      <td>Não</td>\n",
       "    </tr>\n",
       "    <tr>\n",
       "      <th>2</th>\n",
       "      <td>453211******1239</td>\n",
       "      <td>69.00</td>\n",
       "      <td>4</td>\n",
       "      <td>Friday</td>\n",
       "      <td>01</td>\n",
       "      <td>0.147222</td>\n",
       "      <td>Não</td>\n",
       "    </tr>\n",
       "    <tr>\n",
       "      <th>3</th>\n",
       "      <td>548827******1705</td>\n",
       "      <td>193.43</td>\n",
       "      <td>4</td>\n",
       "      <td>Friday</td>\n",
       "      <td>01</td>\n",
       "      <td>0.450000</td>\n",
       "      <td>Não</td>\n",
       "    </tr>\n",
       "    <tr>\n",
       "      <th>4</th>\n",
       "      <td>531681******9778</td>\n",
       "      <td>132.00</td>\n",
       "      <td>4</td>\n",
       "      <td>Friday</td>\n",
       "      <td>01</td>\n",
       "      <td>1.546111</td>\n",
       "      <td>Não</td>\n",
       "    </tr>\n",
       "    <tr>\n",
       "      <th>...</th>\n",
       "      <td>...</td>\n",
       "      <td>...</td>\n",
       "      <td>...</td>\n",
       "      <td>...</td>\n",
       "      <td>...</td>\n",
       "      <td>...</td>\n",
       "      <td>...</td>\n",
       "    </tr>\n",
       "    <tr>\n",
       "      <th>11123</th>\n",
       "      <td>514868******7409</td>\n",
       "      <td>53.00</td>\n",
       "      <td>5</td>\n",
       "      <td>Saturday</td>\n",
       "      <td>30</td>\n",
       "      <td>23.116944</td>\n",
       "      <td>Não</td>\n",
       "    </tr>\n",
       "    <tr>\n",
       "      <th>11124</th>\n",
       "      <td>439354******5281</td>\n",
       "      <td>15.00</td>\n",
       "      <td>5</td>\n",
       "      <td>Saturday</td>\n",
       "      <td>30</td>\n",
       "      <td>23.146389</td>\n",
       "      <td>Não</td>\n",
       "    </tr>\n",
       "    <tr>\n",
       "      <th>11125</th>\n",
       "      <td>549167******1648</td>\n",
       "      <td>20.00</td>\n",
       "      <td>5</td>\n",
       "      <td>Saturday</td>\n",
       "      <td>30</td>\n",
       "      <td>23.256667</td>\n",
       "      <td>Não</td>\n",
       "    </tr>\n",
       "    <tr>\n",
       "      <th>11126</th>\n",
       "      <td>518759******8384</td>\n",
       "      <td>70.00</td>\n",
       "      <td>5</td>\n",
       "      <td>Saturday</td>\n",
       "      <td>30</td>\n",
       "      <td>23.294722</td>\n",
       "      <td>Não</td>\n",
       "    </tr>\n",
       "    <tr>\n",
       "      <th>11127</th>\n",
       "      <td>518759******0329</td>\n",
       "      <td>20.00</td>\n",
       "      <td>5</td>\n",
       "      <td>Saturday</td>\n",
       "      <td>30</td>\n",
       "      <td>23.858611</td>\n",
       "      <td>Não</td>\n",
       "    </tr>\n",
       "  </tbody>\n",
       "</table>\n",
       "<p>11127 rows × 7 columns</p>\n",
       "</div>"
      ],
      "text/plain": [
       "                 Cartão   Valor  day_of_week  day_name day_of_month  \\\n",
       "0      536518******2108   36.54            4    Friday           01   \n",
       "1      536518******2108   36.54            4    Friday           01   \n",
       "2      453211******1239   69.00            4    Friday           01   \n",
       "3      548827******1705  193.43            4    Friday           01   \n",
       "4      531681******9778  132.00            4    Friday           01   \n",
       "...                 ...     ...          ...       ...          ...   \n",
       "11123  514868******7409   53.00            5  Saturday           30   \n",
       "11124  439354******5281   15.00            5  Saturday           30   \n",
       "11125  549167******1648   20.00            5  Saturday           30   \n",
       "11126  518759******8384   70.00            5  Saturday           30   \n",
       "11127  518759******0329   20.00            5  Saturday           30   \n",
       "\n",
       "       pure_time  CBK  \n",
       "0       0.031667  Não  \n",
       "1       0.062778  Não  \n",
       "2       0.147222  Não  \n",
       "3       0.450000  Não  \n",
       "4       1.546111  Não  \n",
       "...          ...  ...  \n",
       "11123  23.116944  Não  \n",
       "11124  23.146389  Não  \n",
       "11125  23.256667  Não  \n",
       "11126  23.294722  Não  \n",
       "11127  23.858611  Não  \n",
       "\n",
       "[11127 rows x 7 columns]"
      ]
     },
     "execution_count": 92,
     "metadata": {},
     "output_type": "execute_result"
    }
   ],
   "source": [
    "important = [\n",
    "    'Cartão',\n",
    "    #'Dia',\n",
    "    #'Hora',\n",
    "    'Valor',\n",
    "    #'Data',\n",
    "    'day_of_week',\n",
    "    'day_name',\n",
    "    'day_of_month',\n",
    "    'pure_time',\n",
    "    'CBK'\n",
    "]\n",
    "df = df[important].copy()\n",
    "df"
   ]
  },
  {
   "cell_type": "markdown",
   "metadata": {},
   "source": [
    "# Exploratory Data Analysis\n",
    "* Hypotheses\n",
    "* Univariate Analysis"
   ]
  },
  {
   "cell_type": "markdown",
   "metadata": {},
   "source": [
    "## Hypothesis"
   ]
  },
  {
   "cell_type": "markdown",
   "metadata": {},
   "source": [
    "<br>\n",
    "<table>\n",
    "\t<thead>\n",
    "        <tr>\n",
    "\t\t\t<th colspan = \"3\" style=\"text-align:center;\">Hypotheses summary</th>\n",
    "\t\t</tr>\n",
    "\t\t<tr>\n",
    "\t\t\t<th>Group</th>\n",
    "\t\t\t<th>#</th>\n",
    "\t\t\t<th>Hypothesis</th>\n",
    "\t\t</tr>\n",
    "\t</thead>\n",
    "\t<tbody>\n",
    "\t\t<tr style=\"background-color:#dde2ed;\">\n",
    "            <td rowspan=\"1\" style=\"background-color:#dde2ed;\"><strong>Products <br> informations</strong></td>\n",
    "\t\t\t<td><strong>H1</strong></td>\n",
    "\t\t\t<td style=\"background-color:#dde2ed;\">More products ordered imply more time to complete the order.</td>\n",
    "\t\t</tr>\n",
    "\t\t<tr style=\"background-color:#dde2ed;\">\n",
    "            <td rowspan=\"2\" style=\"background-color:#dde2ed;\"><strong>Orders <br> informations</strong></td>\n",
    "\t\t\t<td><strong>H2</strong></td>\n",
    "\t\t\t<td style=\"background-color:#dde2ed;\">The farthest the customer is than more time to complete the order.</td>\n",
    "\t\t</tr> \n",
    "        <tr style=\"background-color:#dde2ed;\">\n",
    "\t\t\t<td><strong>H3</strong></td>\n",
    "\t\t\t<td style=\"background-color:#dde2ed;\">If the order is on demand than lesser time to complete the order.</td>\n",
    "\t\t</tr>\n",
    "\t\t<tr style=\"background-color:#dde2ed;\">\n",
    "            <td rowspan=\"5\" style=\"background-color:#dde2ed;\"><strong>Shopper <br> informations</strong></td>\n",
    "\t\t\t<td><strong>H4</strong></td>\n",
    "\t\t\t<td style=\"background-color:#dde2ed;\">High seniority implies less time to complete the order.</td>\n",
    "\t\t</tr> \n",
    "        <tr style=\"background-color:#dde2ed;\">\n",
    "\t\t\t<td><strong>H5</strong></td>\n",
    "\t\t\t<td style=\"background-color:#dde2ed;\">High found rate implies less time to complete the order.</td>\n",
    "\t\t</tr>\n",
    "        <tr style=\"background-color:#dde2ed;\">\n",
    "\t\t\t<td><strong>H6</strong></td>\n",
    "\t\t\t<td style=\"background-color:#dde2ed;\">High picking speed implies less time to complete the order.</td>\n",
    "\t\t</tr> \n",
    "        <tr style=\"background-color:#dde2ed;\">\n",
    "\t\t\t<td><strong>H7</strong></td>\n",
    "\t\t\t<td style=\"background-color:#dde2ed;\">High accepted rate implies less time to complete the order.</td>\n",
    "\t\t</tr>\n",
    "        <tr style=\"background-color:#dde2ed;\">\n",
    "\t\t\t<td><strong>H8</strong></td>\n",
    "\t\t\t<td style=\"background-color:#dde2ed;\">High rating implies less time to complete the order.</td>\n",
    "\t\t</tr>\n",
    "        <tr style=\"background-color:#dde2ed;\">\n",
    "            <td rowspan=\"1\" style=\"background-color:#dde2ed;\"><strong>Store Branch <br> informations</strong></td>\n",
    "\t\t\t<td><strong>H9</strong></td>\n",
    "\t\t\t<td style=\"background-color:#dde2ed;\">The farthest the branch is than more time to complete the order.</td>\n",
    "\t\t</tr>\n",
    "    </tbody>\n",
    "</table>"
   ]
  },
  {
   "cell_type": "markdown",
   "metadata": {},
   "source": [
    "## Univariate Analysis"
   ]
  },
  {
   "cell_type": "markdown",
   "metadata": {},
   "source": [
    "### Resource: Valor\n",
    "* Representa o valor em reais de cada transação"
   ]
  },
  {
   "cell_type": "code",
   "execution_count": 101,
   "metadata": {
    "ExecuteTime": {
     "end_time": "2022-05-21T15:08:19.235201Z",
     "start_time": "2022-05-21T15:08:19.173820Z"
    }
   },
   "outputs": [
    {
     "data": {
      "text/html": [
       "<div>\n",
       "<style scoped>\n",
       "    .dataframe tbody tr th:only-of-type {\n",
       "        vertical-align: middle;\n",
       "    }\n",
       "\n",
       "    .dataframe tbody tr th {\n",
       "        vertical-align: top;\n",
       "    }\n",
       "\n",
       "    .dataframe thead th {\n",
       "        text-align: right;\n",
       "    }\n",
       "</style>\n",
       "<table border=\"1\" class=\"dataframe\">\n",
       "  <thead>\n",
       "    <tr style=\"text-align: right;\">\n",
       "      <th></th>\n",
       "      <th>day_name</th>\n",
       "      <th>Valor</th>\n",
       "    </tr>\n",
       "  </thead>\n",
       "  <tbody>\n",
       "    <tr>\n",
       "      <th>0</th>\n",
       "      <td>Monday</td>\n",
       "      <td>275269.24</td>\n",
       "    </tr>\n",
       "    <tr>\n",
       "      <th>1</th>\n",
       "      <td>Tuesday</td>\n",
       "      <td>179744.34</td>\n",
       "    </tr>\n",
       "    <tr>\n",
       "      <th>2</th>\n",
       "      <td>Wednesday</td>\n",
       "      <td>209879.98</td>\n",
       "    </tr>\n",
       "    <tr>\n",
       "      <th>3</th>\n",
       "      <td>Thursday</td>\n",
       "      <td>245323.66</td>\n",
       "    </tr>\n",
       "    <tr>\n",
       "      <th>4</th>\n",
       "      <td>Friday</td>\n",
       "      <td>307756.15</td>\n",
       "    </tr>\n",
       "    <tr>\n",
       "      <th>5</th>\n",
       "      <td>Saturday</td>\n",
       "      <td>153895.84</td>\n",
       "    </tr>\n",
       "    <tr>\n",
       "      <th>6</th>\n",
       "      <td>Sunday</td>\n",
       "      <td>69741.04</td>\n",
       "    </tr>\n",
       "  </tbody>\n",
       "</table>\n",
       "</div>"
      ],
      "text/plain": [
       "    day_name      Valor\n",
       "0     Monday  275269.24\n",
       "1    Tuesday  179744.34\n",
       "2  Wednesday  209879.98\n",
       "3   Thursday  245323.66\n",
       "4     Friday  307756.15\n",
       "5   Saturday  153895.84\n",
       "6     Sunday   69741.04"
      ]
     },
     "metadata": {},
     "output_type": "display_data"
    },
    {
     "data": {
      "text/html": [
       "<div>\n",
       "<style scoped>\n",
       "    .dataframe tbody tr th:only-of-type {\n",
       "        vertical-align: middle;\n",
       "    }\n",
       "\n",
       "    .dataframe tbody tr th {\n",
       "        vertical-align: top;\n",
       "    }\n",
       "\n",
       "    .dataframe thead th {\n",
       "        text-align: right;\n",
       "    }\n",
       "</style>\n",
       "<table border=\"1\" class=\"dataframe\">\n",
       "  <thead>\n",
       "    <tr style=\"text-align: right;\">\n",
       "      <th></th>\n",
       "      <th>count</th>\n",
       "      <th>mean</th>\n",
       "      <th>std</th>\n",
       "      <th>min</th>\n",
       "      <th>25%</th>\n",
       "      <th>50%</th>\n",
       "      <th>75%</th>\n",
       "      <th>max</th>\n",
       "    </tr>\n",
       "  </thead>\n",
       "  <tbody>\n",
       "    <tr>\n",
       "      <th>Valor</th>\n",
       "      <td>7.0</td>\n",
       "      <td>205944.321429</td>\n",
       "      <td>80295.94407</td>\n",
       "      <td>69741.04</td>\n",
       "      <td>166820.09</td>\n",
       "      <td>209879.98</td>\n",
       "      <td>260296.45</td>\n",
       "      <td>307756.15</td>\n",
       "    </tr>\n",
       "  </tbody>\n",
       "</table>\n",
       "</div>"
      ],
      "text/plain": [
       "       count           mean          std       min        25%        50%  \\\n",
       "Valor    7.0  205944.321429  80295.94407  69741.04  166820.09  209879.98   \n",
       "\n",
       "             75%        max  \n",
       "Valor  260296.45  307756.15  "
      ]
     },
     "execution_count": 101,
     "metadata": {},
     "output_type": "execute_result"
    }
   ],
   "source": [
    "valor = df[['day_of_week', 'day_name','Valor']].groupby(by=['day_of_week', 'day_name'], as_index=False).sum('Valor').copy()\n",
    "display(valor[['day_name','Valor']])\n",
    "valor[['day_name','Valor']].describe().T"
   ]
  },
  {
   "cell_type": "code",
   "execution_count": 120,
   "metadata": {
    "ExecuteTime": {
     "end_time": "2022-05-21T15:18:59.669862Z",
     "start_time": "2022-05-21T15:18:59.183007Z"
    }
   },
   "outputs": [
    {
     "data": {
      "image/png": "[encoded data removed]",
      "text/plain": [
       "<Figure size 1080x360 with 1 Axes>"
      ]
     },
     "metadata": {},
     "output_type": "display_data"
    }
   ],
   "source": [
    "fig = plt.figure(figsize=(15,5))\n",
    "\n",
    "ax = sns.distplot(\n",
    "    df.Valor, hist=True, kde=True, \n",
    "    bins=int(180/3), color = 'darkblue', \n",
    "    hist_kws={'edgecolor':'black'},\n",
    "    kde_kws={'linewidth': 4}\n",
    ")\n",
    "\n",
    "ax.axvline(\n",
    "    df.Valor.mean(), \n",
    "    color='magenta', \n",
    "    linestyle='dashed', \n",
    "    linewidth=2, \n",
    "    label=\"mean: {0:.2f}\".format(df.Valor.mean())\n",
    ")\n",
    "\n",
    "ax.axvline(\n",
    "    df.Valor.median(), \n",
    "    color='cyan', \n",
    "    linestyle='dashed', \n",
    "    linewidth=2,\n",
    "    label=\"median: {0:.2f}\".format(df.Valor.median())\n",
    ")\n",
    "\n",
    "plt.title(\"Distribution of Valor\")\n",
    "plt.legend(loc='upper right')\n",
    "\n",
    "del ax"
   ]
  },
  {
   "cell_type": "markdown",
   "metadata": {},
   "source": [
    "### Resource: pure_time"
   ]
  },
  {
   "cell_type": "code",
   "execution_count": null,
   "metadata": {},
   "outputs": [],
   "source": []
  }
 ],
 "metadata": {
  "hide_input": false,
  "kernelspec": {
   "display_name": "Python 3",
   "language": "python",
   "name": "python3"
  },
  "language_info": {
   "codemirror_mode": {
    "name": "ipython",
    "version": 3
   },
   "file_extension": ".py",
   "mimetype": "text/x-python",
   "name": "python",
   "nbconvert_exporter": "python",
   "pygments_lexer": "ipython3",
   "version": "3.8.3"
  },
  "varInspector": {
   "cols": {
    "lenName": 16,
    "lenType": 16,
    "lenVar": 40
   },
   "kernels_config": {
    "python": {
     "delete_cmd_postfix": "",
     "delete_cmd_prefix": "del ",
     "library": "var_list.py",
     "varRefreshCmd": "print(var_dic_list())"
    },
    "r": {
     "delete_cmd_postfix": ") ",
     "delete_cmd_prefix": "rm(",
     "library": "var_list.r",
     "varRefreshCmd": "cat(var_dic_list()) "
    }
   },
   "types_to_exclude": [
    "module",
    "function",
    "builtin_function_or_method",
    "instance",
    "_Feature"
   ],
   "window_display": false
  }
 },
 "nbformat": 4,
 "nbformat_minor": 4
}
