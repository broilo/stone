{
 "cells": [
  {
   "cell_type": "markdown",
   "metadata": {},
   "source": [
    "# Cornershop's Data Science Test\n",
    "\n",
    "## Dev: Mateus Broilo\n",
    "mateus.brilo90@gmail.com\n",
    "\n",
    "* Objectives: Load Datasets and perform "
   ]
  },
  {
   "cell_type": "markdown",
   "metadata": {},
   "source": [
    " # Summary\n",
    "\n",
    "* Initials\n",
    "    * Loading Libraries and Packages\n",
    "    * Configurations\n",
    "    * Global Variables\n",
    "* Loading data\n",
    "    * Prepared Dataset  \n",
    "* Model\n",
    "    * Splitting Train/Test data: 80/20\n",
    "        * Normalization\n",
    "    * Logistic Regression\n",
    "    * Support Vector Machine\n",
    "    * XGBoost: Default\n",
    "* POC: XGBBoost Default\n",
    "* Save Model\n"
   ]
  },
  {
   "cell_type": "markdown",
   "metadata": {},
   "source": [
    "# Initials\n",
    "* Loading Libraries and Packages\n",
    "* Configuration\n",
    "* Global Variables"
   ]
  },
  {
   "cell_type": "markdown",
   "metadata": {},
   "source": [
    "## Loading Libraries and Packages "
   ]
  },
  {
   "cell_type": "code",
   "execution_count": 1,
   "metadata": {
    "ExecuteTime": {
     "end_time": "2022-05-23T01:43:15.611876Z",
     "start_time": "2022-05-23T01:43:14.577507Z"
    }
   },
   "outputs": [],
   "source": [
    "# general\n",
    "import warnings\n",
    "import time\n",
    "import gc\n",
    "\n",
    "#data\n",
    "import pandas as pd\n",
    "import numpy as np\n",
    "import datetime\n",
    "\n",
    "## visualization\n",
    "import matplotlib.pyplot as plt\n",
    "import seaborn as sns\n",
    "\n",
    "## model\n",
    "import joblib\n",
    "from sklearn.model_selection import train_test_split\n",
    "from sklearn.preprocessing import StandardScaler\n",
    "from sklearn import metrics \n",
    "from sklearn.metrics import *\n",
    "from sklearn import model_selection\n",
    "from sklearn.linear_model import LogisticRegression\n",
    "from sklearn import svm\n",
    "import xgboost as xgb"
   ]
  },
  {
   "cell_type": "code",
   "execution_count": 2,
   "metadata": {
    "ExecuteTime": {
     "end_time": "2022-05-23T01:43:15.736367Z",
     "start_time": "2022-05-23T01:43:15.613554Z"
    }
   },
   "outputs": [
    {
     "name": "stdout",
     "output_type": "stream",
     "text": [
      "total 1596\r\n",
      "-rw-rw-r-- 1 broilo broilo  514550 mai 20 16:56 20220520_corrected_sheet1.csv\r\n",
      "-rw-rw-r-- 1 broilo broilo 1118073 mai 22 22:33 20220522_data_prep.csv\r\n"
     ]
    }
   ],
   "source": [
    "ls -l ../data/"
   ]
  },
  {
   "cell_type": "code",
   "execution_count": 3,
   "metadata": {
    "ExecuteTime": {
     "end_time": "2022-05-23T01:43:15.871728Z",
     "start_time": "2022-05-23T01:43:15.739871Z"
    }
   },
   "outputs": [
    {
     "name": "stdout",
     "output_type": "stream",
     "text": [
      "total 1736\r\n",
      "-rw-rw-r-- 1 broilo broilo 885777 mai 20 13:57 20220520_rawdata_original.xlsx\r\n",
      "-rw-rw-r-- 1 broilo broilo 885777 mai 20 13:57 Missão_Stone_-_Dados_de_trx.xlsx\r\n"
     ]
    }
   ],
   "source": [
    "ls -l ../raw_data/"
   ]
  },
  {
   "cell_type": "markdown",
   "metadata": {},
   "source": [
    "## Configurations"
   ]
  },
  {
   "cell_type": "code",
   "execution_count": 4,
   "metadata": {
    "ExecuteTime": {
     "end_time": "2022-05-23T01:43:15.911183Z",
     "start_time": "2022-05-23T01:43:15.884053Z"
    }
   },
   "outputs": [],
   "source": [
    "warnings.filterwarnings(\"ignore\")\n",
    "pd.set_option('display.max_columns', 20)\n",
    "pd.set_option('display.max_rows', 20)\n",
    "\n",
    "rc={'font.size': 14, 'axes.labelsize': 14, 'legend.fontsize': 12, \n",
    "    'axes.titlesize': 24, 'xtick.labelsize': 14, 'ytick.labelsize': 12}\n",
    "\n",
    "sns.set(rc=rc)\n",
    "sns.set_palette(\"tab10\")\n",
    "sns.set_style(\"darkgrid\")#sns.set_style(\"whitegrid\")"
   ]
  },
  {
   "cell_type": "markdown",
   "metadata": {},
   "source": [
    "## Global Variables"
   ]
  },
  {
   "cell_type": "code",
   "execution_count": 5,
   "metadata": {
    "ExecuteTime": {
     "end_time": "2022-05-23T01:43:15.919510Z",
     "start_time": "2022-05-23T01:43:15.915627Z"
    }
   },
   "outputs": [],
   "source": [
    "PATH_DATA = \"../data/\"\n",
    "DATASET_PREP = \"20220522_data_prep.csv\"\n",
    "DATASET_VAL = \"20220520_rawdata_original.csv\"\n",
    "DATE = time.strftime(\"%Y%m%d\")\n",
    "SEED = 42 # The answer to the ultimate question of life, the universe and everything is 42."
   ]
  },
  {
   "cell_type": "markdown",
   "metadata": {},
   "source": [
    "# Loading Datasets\n",
    "* Prepared Dataset"
   ]
  },
  {
   "cell_type": "markdown",
   "metadata": {},
   "source": [
    "## Prepared Dataset"
   ]
  },
  {
   "cell_type": "code",
   "execution_count": 6,
   "metadata": {
    "ExecuteTime": {
     "end_time": "2022-05-23T01:43:16.010711Z",
     "start_time": "2022-05-23T01:43:15.921542Z"
    }
   },
   "outputs": [
    {
     "name": "stdout",
     "output_type": "stream",
     "text": [
      "(11003, 20)\n"
     ]
    },
    {
     "data": {
      "text/html": [
       "<div>\n",
       "<style scoped>\n",
       "    .dataframe tbody tr th:only-of-type {\n",
       "        vertical-align: middle;\n",
       "    }\n",
       "\n",
       "    .dataframe tbody tr th {\n",
       "        vertical-align: top;\n",
       "    }\n",
       "\n",
       "    .dataframe thead th {\n",
       "        text-align: right;\n",
       "    }\n",
       "</style>\n",
       "<table border=\"1\" class=\"dataframe\">\n",
       "  <thead>\n",
       "    <tr style=\"text-align: right;\">\n",
       "      <th></th>\n",
       "      <th></th>\n",
       "      <th>Valor</th>\n",
       "      <th>pure_time</th>\n",
       "      <th>same_day_count</th>\n",
       "      <th>same_day_valor_count</th>\n",
       "      <th>rank_same_day</th>\n",
       "      <th>diff_time</th>\n",
       "      <th>day_name_Friday</th>\n",
       "      <th>day_name_Monday</th>\n",
       "      <th>day_name_Saturday</th>\n",
       "      <th>day_name_Sunday</th>\n",
       "      <th>day_name_Thursday</th>\n",
       "      <th>day_name_Tuesday</th>\n",
       "      <th>day_name_Wednesday</th>\n",
       "      <th>day_of_month_RANGE_1-5</th>\n",
       "      <th>day_of_month_RANGE_11-15</th>\n",
       "      <th>day_of_month_RANGE_16-20</th>\n",
       "      <th>day_of_month_RANGE_21-25</th>\n",
       "      <th>day_of_month_RANGE_6-10</th>\n",
       "      <th>day_of_month_RANGE_&gt;25</th>\n",
       "      <th>CBK_Sim</th>\n",
       "    </tr>\n",
       "    <tr>\n",
       "      <th>Cartão</th>\n",
       "      <th>Data</th>\n",
       "      <th></th>\n",
       "      <th></th>\n",
       "      <th></th>\n",
       "      <th></th>\n",
       "      <th></th>\n",
       "      <th></th>\n",
       "      <th></th>\n",
       "      <th></th>\n",
       "      <th></th>\n",
       "      <th></th>\n",
       "      <th></th>\n",
       "      <th></th>\n",
       "      <th></th>\n",
       "      <th></th>\n",
       "      <th></th>\n",
       "      <th></th>\n",
       "      <th></th>\n",
       "      <th></th>\n",
       "      <th></th>\n",
       "      <th></th>\n",
       "    </tr>\n",
       "  </thead>\n",
       "  <tbody>\n",
       "    <tr>\n",
       "      <th>400217******1137</th>\n",
       "      <th>2015-05-06 09:37:46</th>\n",
       "      <td>198.0</td>\n",
       "      <td>9.629444</td>\n",
       "      <td>1</td>\n",
       "      <td>1</td>\n",
       "      <td>1.0</td>\n",
       "      <td>0.000000</td>\n",
       "      <td>0</td>\n",
       "      <td>0</td>\n",
       "      <td>0</td>\n",
       "      <td>0</td>\n",
       "      <td>0</td>\n",
       "      <td>0</td>\n",
       "      <td>1</td>\n",
       "      <td>0</td>\n",
       "      <td>0</td>\n",
       "      <td>0</td>\n",
       "      <td>0</td>\n",
       "      <td>1</td>\n",
       "      <td>0</td>\n",
       "      <td>0</td>\n",
       "    </tr>\n",
       "    <tr>\n",
       "      <th rowspan=\"4\" valign=\"top\">400217******1353</th>\n",
       "      <th>2015-05-27 23:37:20</th>\n",
       "      <td>172.5</td>\n",
       "      <td>23.622222</td>\n",
       "      <td>8</td>\n",
       "      <td>8</td>\n",
       "      <td>1.0</td>\n",
       "      <td>0.000000</td>\n",
       "      <td>0</td>\n",
       "      <td>0</td>\n",
       "      <td>0</td>\n",
       "      <td>0</td>\n",
       "      <td>0</td>\n",
       "      <td>0</td>\n",
       "      <td>1</td>\n",
       "      <td>0</td>\n",
       "      <td>0</td>\n",
       "      <td>0</td>\n",
       "      <td>0</td>\n",
       "      <td>0</td>\n",
       "      <td>1</td>\n",
       "      <td>1</td>\n",
       "    </tr>\n",
       "    <tr>\n",
       "      <th>2015-05-27 23:38:58</th>\n",
       "      <td>172.5</td>\n",
       "      <td>23.649444</td>\n",
       "      <td>8</td>\n",
       "      <td>8</td>\n",
       "      <td>2.0</td>\n",
       "      <td>0.027222</td>\n",
       "      <td>0</td>\n",
       "      <td>0</td>\n",
       "      <td>0</td>\n",
       "      <td>0</td>\n",
       "      <td>0</td>\n",
       "      <td>0</td>\n",
       "      <td>1</td>\n",
       "      <td>0</td>\n",
       "      <td>0</td>\n",
       "      <td>0</td>\n",
       "      <td>0</td>\n",
       "      <td>0</td>\n",
       "      <td>1</td>\n",
       "      <td>1</td>\n",
       "    </tr>\n",
       "    <tr>\n",
       "      <th>2015-05-27 23:40:15</th>\n",
       "      <td>172.5</td>\n",
       "      <td>23.670833</td>\n",
       "      <td>8</td>\n",
       "      <td>8</td>\n",
       "      <td>3.0</td>\n",
       "      <td>0.021389</td>\n",
       "      <td>0</td>\n",
       "      <td>0</td>\n",
       "      <td>0</td>\n",
       "      <td>0</td>\n",
       "      <td>0</td>\n",
       "      <td>0</td>\n",
       "      <td>1</td>\n",
       "      <td>0</td>\n",
       "      <td>0</td>\n",
       "      <td>0</td>\n",
       "      <td>0</td>\n",
       "      <td>0</td>\n",
       "      <td>1</td>\n",
       "      <td>1</td>\n",
       "    </tr>\n",
       "    <tr>\n",
       "      <th>2015-05-27 23:41:38</th>\n",
       "      <td>172.5</td>\n",
       "      <td>23.693889</td>\n",
       "      <td>8</td>\n",
       "      <td>8</td>\n",
       "      <td>4.0</td>\n",
       "      <td>0.023056</td>\n",
       "      <td>0</td>\n",
       "      <td>0</td>\n",
       "      <td>0</td>\n",
       "      <td>0</td>\n",
       "      <td>0</td>\n",
       "      <td>0</td>\n",
       "      <td>1</td>\n",
       "      <td>0</td>\n",
       "      <td>0</td>\n",
       "      <td>0</td>\n",
       "      <td>0</td>\n",
       "      <td>0</td>\n",
       "      <td>1</td>\n",
       "      <td>1</td>\n",
       "    </tr>\n",
       "    <tr>\n",
       "      <th>...</th>\n",
       "      <th>...</th>\n",
       "      <td>...</td>\n",
       "      <td>...</td>\n",
       "      <td>...</td>\n",
       "      <td>...</td>\n",
       "      <td>...</td>\n",
       "      <td>...</td>\n",
       "      <td>...</td>\n",
       "      <td>...</td>\n",
       "      <td>...</td>\n",
       "      <td>...</td>\n",
       "      <td>...</td>\n",
       "      <td>...</td>\n",
       "      <td>...</td>\n",
       "      <td>...</td>\n",
       "      <td>...</td>\n",
       "      <td>...</td>\n",
       "      <td>...</td>\n",
       "      <td>...</td>\n",
       "      <td>...</td>\n",
       "      <td>...</td>\n",
       "    </tr>\n",
       "    <tr>\n",
       "      <th rowspan=\"2\" valign=\"top\">554932******8129</th>\n",
       "      <th>2015-05-20 22:52:46</th>\n",
       "      <td>112.0</td>\n",
       "      <td>22.879444</td>\n",
       "      <td>5</td>\n",
       "      <td>4</td>\n",
       "      <td>4.0</td>\n",
       "      <td>0.022222</td>\n",
       "      <td>0</td>\n",
       "      <td>0</td>\n",
       "      <td>0</td>\n",
       "      <td>0</td>\n",
       "      <td>0</td>\n",
       "      <td>0</td>\n",
       "      <td>1</td>\n",
       "      <td>0</td>\n",
       "      <td>0</td>\n",
       "      <td>1</td>\n",
       "      <td>0</td>\n",
       "      <td>0</td>\n",
       "      <td>0</td>\n",
       "      <td>0</td>\n",
       "    </tr>\n",
       "    <tr>\n",
       "      <th>2015-05-20 23:04:29</th>\n",
       "      <td>134.4</td>\n",
       "      <td>23.074722</td>\n",
       "      <td>5</td>\n",
       "      <td>1</td>\n",
       "      <td>5.0</td>\n",
       "      <td>0.195278</td>\n",
       "      <td>0</td>\n",
       "      <td>0</td>\n",
       "      <td>0</td>\n",
       "      <td>0</td>\n",
       "      <td>0</td>\n",
       "      <td>0</td>\n",
       "      <td>1</td>\n",
       "      <td>0</td>\n",
       "      <td>0</td>\n",
       "      <td>1</td>\n",
       "      <td>0</td>\n",
       "      <td>0</td>\n",
       "      <td>0</td>\n",
       "      <td>0</td>\n",
       "    </tr>\n",
       "    <tr>\n",
       "      <th>554932******8142</th>\n",
       "      <th>2015-05-06 18:15:53</th>\n",
       "      <td>207.0</td>\n",
       "      <td>18.264722</td>\n",
       "      <td>1</td>\n",
       "      <td>1</td>\n",
       "      <td>1.0</td>\n",
       "      <td>0.000000</td>\n",
       "      <td>0</td>\n",
       "      <td>0</td>\n",
       "      <td>0</td>\n",
       "      <td>0</td>\n",
       "      <td>0</td>\n",
       "      <td>0</td>\n",
       "      <td>1</td>\n",
       "      <td>0</td>\n",
       "      <td>0</td>\n",
       "      <td>0</td>\n",
       "      <td>0</td>\n",
       "      <td>1</td>\n",
       "      <td>0</td>\n",
       "      <td>0</td>\n",
       "    </tr>\n",
       "    <tr>\n",
       "      <th>554932******9115</th>\n",
       "      <th>2015-05-28 15:31:22</th>\n",
       "      <td>138.0</td>\n",
       "      <td>15.522778</td>\n",
       "      <td>1</td>\n",
       "      <td>1</td>\n",
       "      <td>1.0</td>\n",
       "      <td>0.000000</td>\n",
       "      <td>0</td>\n",
       "      <td>0</td>\n",
       "      <td>0</td>\n",
       "      <td>0</td>\n",
       "      <td>1</td>\n",
       "      <td>0</td>\n",
       "      <td>0</td>\n",
       "      <td>0</td>\n",
       "      <td>0</td>\n",
       "      <td>0</td>\n",
       "      <td>0</td>\n",
       "      <td>0</td>\n",
       "      <td>1</td>\n",
       "      <td>0</td>\n",
       "    </tr>\n",
       "    <tr>\n",
       "      <th>558285******7261</th>\n",
       "      <th>2015-05-18 21:20:51</th>\n",
       "      <td>69.0</td>\n",
       "      <td>21.347500</td>\n",
       "      <td>1</td>\n",
       "      <td>1</td>\n",
       "      <td>1.0</td>\n",
       "      <td>0.000000</td>\n",
       "      <td>0</td>\n",
       "      <td>1</td>\n",
       "      <td>0</td>\n",
       "      <td>0</td>\n",
       "      <td>0</td>\n",
       "      <td>0</td>\n",
       "      <td>0</td>\n",
       "      <td>0</td>\n",
       "      <td>0</td>\n",
       "      <td>1</td>\n",
       "      <td>0</td>\n",
       "      <td>0</td>\n",
       "      <td>0</td>\n",
       "      <td>0</td>\n",
       "    </tr>\n",
       "  </tbody>\n",
       "</table>\n",
       "<p>11003 rows × 20 columns</p>\n",
       "</div>"
      ],
      "text/plain": [
       "                                      Valor  pure_time  same_day_count  \\\n",
       "Cartão           Data                                                    \n",
       "400217******1137 2015-05-06 09:37:46  198.0   9.629444               1   \n",
       "400217******1353 2015-05-27 23:37:20  172.5  23.622222               8   \n",
       "                 2015-05-27 23:38:58  172.5  23.649444               8   \n",
       "                 2015-05-27 23:40:15  172.5  23.670833               8   \n",
       "                 2015-05-27 23:41:38  172.5  23.693889               8   \n",
       "...                                     ...        ...             ...   \n",
       "554932******8129 2015-05-20 22:52:46  112.0  22.879444               5   \n",
       "                 2015-05-20 23:04:29  134.4  23.074722               5   \n",
       "554932******8142 2015-05-06 18:15:53  207.0  18.264722               1   \n",
       "554932******9115 2015-05-28 15:31:22  138.0  15.522778               1   \n",
       "558285******7261 2015-05-18 21:20:51   69.0  21.347500               1   \n",
       "\n",
       "                                      same_day_valor_count  rank_same_day  \\\n",
       "Cartão           Data                                                       \n",
       "400217******1137 2015-05-06 09:37:46                     1            1.0   \n",
       "400217******1353 2015-05-27 23:37:20                     8            1.0   \n",
       "                 2015-05-27 23:38:58                     8            2.0   \n",
       "                 2015-05-27 23:40:15                     8            3.0   \n",
       "                 2015-05-27 23:41:38                     8            4.0   \n",
       "...                                                    ...            ...   \n",
       "554932******8129 2015-05-20 22:52:46                     4            4.0   \n",
       "                 2015-05-20 23:04:29                     1            5.0   \n",
       "554932******8142 2015-05-06 18:15:53                     1            1.0   \n",
       "554932******9115 2015-05-28 15:31:22                     1            1.0   \n",
       "558285******7261 2015-05-18 21:20:51                     1            1.0   \n",
       "\n",
       "                                      diff_time  day_name_Friday  \\\n",
       "Cartão           Data                                              \n",
       "400217******1137 2015-05-06 09:37:46   0.000000                0   \n",
       "400217******1353 2015-05-27 23:37:20   0.000000                0   \n",
       "                 2015-05-27 23:38:58   0.027222                0   \n",
       "                 2015-05-27 23:40:15   0.021389                0   \n",
       "                 2015-05-27 23:41:38   0.023056                0   \n",
       "...                                         ...              ...   \n",
       "554932******8129 2015-05-20 22:52:46   0.022222                0   \n",
       "                 2015-05-20 23:04:29   0.195278                0   \n",
       "554932******8142 2015-05-06 18:15:53   0.000000                0   \n",
       "554932******9115 2015-05-28 15:31:22   0.000000                0   \n",
       "558285******7261 2015-05-18 21:20:51   0.000000                0   \n",
       "\n",
       "                                      day_name_Monday  day_name_Saturday  \\\n",
       "Cartão           Data                                                      \n",
       "400217******1137 2015-05-06 09:37:46                0                  0   \n",
       "400217******1353 2015-05-27 23:37:20                0                  0   \n",
       "                 2015-05-27 23:38:58                0                  0   \n",
       "                 2015-05-27 23:40:15                0                  0   \n",
       "                 2015-05-27 23:41:38                0                  0   \n",
       "...                                               ...                ...   \n",
       "554932******8129 2015-05-20 22:52:46                0                  0   \n",
       "                 2015-05-20 23:04:29                0                  0   \n",
       "554932******8142 2015-05-06 18:15:53                0                  0   \n",
       "554932******9115 2015-05-28 15:31:22                0                  0   \n",
       "558285******7261 2015-05-18 21:20:51                1                  0   \n",
       "\n",
       "                                      day_name_Sunday  day_name_Thursday  \\\n",
       "Cartão           Data                                                      \n",
       "400217******1137 2015-05-06 09:37:46                0                  0   \n",
       "400217******1353 2015-05-27 23:37:20                0                  0   \n",
       "                 2015-05-27 23:38:58                0                  0   \n",
       "                 2015-05-27 23:40:15                0                  0   \n",
       "                 2015-05-27 23:41:38                0                  0   \n",
       "...                                               ...                ...   \n",
       "554932******8129 2015-05-20 22:52:46                0                  0   \n",
       "                 2015-05-20 23:04:29                0                  0   \n",
       "554932******8142 2015-05-06 18:15:53                0                  0   \n",
       "554932******9115 2015-05-28 15:31:22                0                  1   \n",
       "558285******7261 2015-05-18 21:20:51                0                  0   \n",
       "\n",
       "                                      day_name_Tuesday  day_name_Wednesday  \\\n",
       "Cartão           Data                                                        \n",
       "400217******1137 2015-05-06 09:37:46                 0                   1   \n",
       "400217******1353 2015-05-27 23:37:20                 0                   1   \n",
       "                 2015-05-27 23:38:58                 0                   1   \n",
       "                 2015-05-27 23:40:15                 0                   1   \n",
       "                 2015-05-27 23:41:38                 0                   1   \n",
       "...                                                ...                 ...   \n",
       "554932******8129 2015-05-20 22:52:46                 0                   1   \n",
       "                 2015-05-20 23:04:29                 0                   1   \n",
       "554932******8142 2015-05-06 18:15:53                 0                   1   \n",
       "554932******9115 2015-05-28 15:31:22                 0                   0   \n",
       "558285******7261 2015-05-18 21:20:51                 0                   0   \n",
       "\n",
       "                                      day_of_month_RANGE_1-5  \\\n",
       "Cartão           Data                                          \n",
       "400217******1137 2015-05-06 09:37:46                       0   \n",
       "400217******1353 2015-05-27 23:37:20                       0   \n",
       "                 2015-05-27 23:38:58                       0   \n",
       "                 2015-05-27 23:40:15                       0   \n",
       "                 2015-05-27 23:41:38                       0   \n",
       "...                                                      ...   \n",
       "554932******8129 2015-05-20 22:52:46                       0   \n",
       "                 2015-05-20 23:04:29                       0   \n",
       "554932******8142 2015-05-06 18:15:53                       0   \n",
       "554932******9115 2015-05-28 15:31:22                       0   \n",
       "558285******7261 2015-05-18 21:20:51                       0   \n",
       "\n",
       "                                      day_of_month_RANGE_11-15  \\\n",
       "Cartão           Data                                            \n",
       "400217******1137 2015-05-06 09:37:46                         0   \n",
       "400217******1353 2015-05-27 23:37:20                         0   \n",
       "                 2015-05-27 23:38:58                         0   \n",
       "                 2015-05-27 23:40:15                         0   \n",
       "                 2015-05-27 23:41:38                         0   \n",
       "...                                                        ...   \n",
       "554932******8129 2015-05-20 22:52:46                         0   \n",
       "                 2015-05-20 23:04:29                         0   \n",
       "554932******8142 2015-05-06 18:15:53                         0   \n",
       "554932******9115 2015-05-28 15:31:22                         0   \n",
       "558285******7261 2015-05-18 21:20:51                         0   \n",
       "\n",
       "                                      day_of_month_RANGE_16-20  \\\n",
       "Cartão           Data                                            \n",
       "400217******1137 2015-05-06 09:37:46                         0   \n",
       "400217******1353 2015-05-27 23:37:20                         0   \n",
       "                 2015-05-27 23:38:58                         0   \n",
       "                 2015-05-27 23:40:15                         0   \n",
       "                 2015-05-27 23:41:38                         0   \n",
       "...                                                        ...   \n",
       "554932******8129 2015-05-20 22:52:46                         1   \n",
       "                 2015-05-20 23:04:29                         1   \n",
       "554932******8142 2015-05-06 18:15:53                         0   \n",
       "554932******9115 2015-05-28 15:31:22                         0   \n",
       "558285******7261 2015-05-18 21:20:51                         1   \n",
       "\n",
       "                                      day_of_month_RANGE_21-25  \\\n",
       "Cartão           Data                                            \n",
       "400217******1137 2015-05-06 09:37:46                         0   \n",
       "400217******1353 2015-05-27 23:37:20                         0   \n",
       "                 2015-05-27 23:38:58                         0   \n",
       "                 2015-05-27 23:40:15                         0   \n",
       "                 2015-05-27 23:41:38                         0   \n",
       "...                                                        ...   \n",
       "554932******8129 2015-05-20 22:52:46                         0   \n",
       "                 2015-05-20 23:04:29                         0   \n",
       "554932******8142 2015-05-06 18:15:53                         0   \n",
       "554932******9115 2015-05-28 15:31:22                         0   \n",
       "558285******7261 2015-05-18 21:20:51                         0   \n",
       "\n",
       "                                      day_of_month_RANGE_6-10  \\\n",
       "Cartão           Data                                           \n",
       "400217******1137 2015-05-06 09:37:46                        1   \n",
       "400217******1353 2015-05-27 23:37:20                        0   \n",
       "                 2015-05-27 23:38:58                        0   \n",
       "                 2015-05-27 23:40:15                        0   \n",
       "                 2015-05-27 23:41:38                        0   \n",
       "...                                                       ...   \n",
       "554932******8129 2015-05-20 22:52:46                        0   \n",
       "                 2015-05-20 23:04:29                        0   \n",
       "554932******8142 2015-05-06 18:15:53                        1   \n",
       "554932******9115 2015-05-28 15:31:22                        0   \n",
       "558285******7261 2015-05-18 21:20:51                        0   \n",
       "\n",
       "                                      day_of_month_RANGE_>25  CBK_Sim  \n",
       "Cartão           Data                                                  \n",
       "400217******1137 2015-05-06 09:37:46                       0        0  \n",
       "400217******1353 2015-05-27 23:37:20                       1        1  \n",
       "                 2015-05-27 23:38:58                       1        1  \n",
       "                 2015-05-27 23:40:15                       1        1  \n",
       "                 2015-05-27 23:41:38                       1        1  \n",
       "...                                                      ...      ...  \n",
       "554932******8129 2015-05-20 22:52:46                       0        0  \n",
       "                 2015-05-20 23:04:29                       0        0  \n",
       "554932******8142 2015-05-06 18:15:53                       0        0  \n",
       "554932******9115 2015-05-28 15:31:22                       1        0  \n",
       "558285******7261 2015-05-18 21:20:51                       0        0  \n",
       "\n",
       "[11003 rows x 20 columns]"
      ]
     },
     "execution_count": 6,
     "metadata": {},
     "output_type": "execute_result"
    }
   ],
   "source": [
    "df = pd.read_csv(PATH_DATA + DATASET_PREP, sep=',', index_col=['Cartão', 'Data'])\n",
    "print(df.shape)\n",
    "df"
   ]
  },
  {
   "cell_type": "markdown",
   "metadata": {},
   "source": [
    "# Model\n",
    "* Splitting Train/Test data: 80/20\n",
    "    * Normalization\n",
    "* Logistic Regression\n",
    "* Support Vector Machine\n",
    "* XGBoost: Default"
   ]
  },
  {
   "cell_type": "markdown",
   "metadata": {},
   "source": [
    "## Splitting Train/Test data: 80/20"
   ]
  },
  {
   "cell_type": "code",
   "execution_count": 7,
   "metadata": {
    "ExecuteTime": {
     "end_time": "2022-05-23T01:43:16.041567Z",
     "start_time": "2022-05-23T01:43:16.012600Z"
    }
   },
   "outputs": [],
   "source": [
    "features = [\n",
    "    'Valor',\n",
    "    'pure_time',\n",
    "    'same_day_count',\n",
    "    'same_day_valor_count',\n",
    "    'rank_same_day',\n",
    "    'diff_time',\n",
    "    'day_name_Friday',\n",
    "    'day_name_Monday',\n",
    "    'day_name_Saturday',\n",
    "    'day_name_Sunday',\n",
    "    'day_name_Thursday',\n",
    "    'day_name_Tuesday',\n",
    "    'day_name_Wednesday',\n",
    "    'day_of_month_RANGE_1-5',\n",
    "    'day_of_month_RANGE_11-15',\n",
    "    'day_of_month_RANGE_16-20',\n",
    "    'day_of_month_RANGE_21-25',\n",
    "    'day_of_month_RANGE_6-10',\n",
    "    'day_of_month_RANGE_>25'\n",
    "]\n",
    "\n",
    "features_set1 = features\n",
    "features_set2 = list(df[features].drop(columns=['same_day_count','same_day_valor_count']))\n",
    "features_set3 = list(df[features].drop(columns=[\n",
    "    'day_name_Friday',\n",
    "    'day_name_Monday',\n",
    "    'day_name_Saturday',\n",
    "    'day_name_Sunday',\n",
    "    'day_name_Thursday',\n",
    "    'day_name_Tuesday',\n",
    "    'day_name_Wednesday'\n",
    "]))\n",
    "\n",
    "label = ['CBK_Sim']\n",
    "\n",
    "Xs1 = df[features_set1]\n",
    "Xs2 = df[features_set2]\n",
    "Xs3 = df[features_set3]\n",
    "y = df[label]\n",
    "\n",
    "Xs1_train, Xs1_test, y_train, y_test = train_test_split(Xs1, y, train_size = 0.8, random_state = SEED)\n",
    "Xs2_train, Xs2_test, y_train, y_test = train_test_split(Xs2, y, train_size = 0.8, random_state = SEED)\n",
    "Xs3_train, Xs3_test, y_train, y_test = train_test_split(Xs3, y, train_size = 0.8, random_state = SEED)"
   ]
  },
  {
   "cell_type": "code",
   "execution_count": 8,
   "metadata": {
    "ExecuteTime": {
     "end_time": "2022-05-23T01:43:16.053507Z",
     "start_time": "2022-05-23T01:43:16.043677Z"
    }
   },
   "outputs": [
    {
     "name": "stdout",
     "output_type": "stream",
     "text": [
      "Features Set1:\n",
      "Train dataset shape: (8802, 19)\n",
      "Test dataset shape: (2201, 19)\n",
      "----------------------------------------\n",
      "Xs1_train + Xs1_test dataset: 11003\n",
      "Total dataset: 11003\n",
      "\n",
      "\n",
      "Features Set2:\n",
      "Train dataset shape: (8802, 17)\n",
      "Test dataset shape: (2201, 17)\n",
      "----------------------------------------\n",
      "Xs2_train + Xs2_test dataset: 11003\n",
      "Total dataset: 11003\n",
      "\n",
      "\n",
      "Features Set3:\n",
      "Train dataset shape: (8802, 12)\n",
      "Test dataset shape: (2201, 12)\n",
      "----------------------------------------\n",
      "Xs3_train + Xs3_test dataset: 11003\n",
      "Total dataset: 11003\n",
      "\n",
      "\n"
     ]
    }
   ],
   "source": [
    "print(\"Features Set1:\")\n",
    "print(\"Train dataset shape: \" + f\"{Xs1_train.shape}\")\n",
    "print(\"Test dataset shape: \" + f\"{Xs1_test.shape}\")\n",
    "print(40*\"-\")\n",
    "print(f\"Xs1_train + Xs1_test dataset: {Xs1_train.shape[0] + Xs1_test.shape[0]}\")\n",
    "print(f\"Total dataset: {df.shape[0]}\\n\\n\")\n",
    "\n",
    "print(\"Features Set2:\")\n",
    "print(\"Train dataset shape: \" + f\"{Xs2_train.shape}\")\n",
    "print(\"Test dataset shape: \" + f\"{Xs2_test.shape}\")\n",
    "print(40*\"-\")\n",
    "print(f\"Xs2_train + Xs2_test dataset: {Xs2_train.shape[0] + Xs2_test.shape[0]}\")\n",
    "print(f\"Total dataset: {df.shape[0]}\\n\\n\")\n",
    "\n",
    "print(\"Features Set3:\")\n",
    "print(\"Train dataset shape: \" + f\"{Xs3_train.shape}\")\n",
    "print(\"Test dataset shape: \" + f\"{Xs3_test.shape}\")\n",
    "print(40*\"-\")\n",
    "print(f\"Xs3_train + Xs3_test dataset: {Xs3_train.shape[0] + Xs3_test.shape[0]}\")\n",
    "print(f\"Total dataset: {df.shape[0]}\\n\\n\")"
   ]
  },
  {
   "cell_type": "markdown",
   "metadata": {},
   "source": [
    "### Normalization"
   ]
  },
  {
   "cell_type": "code",
   "execution_count": 9,
   "metadata": {
    "ExecuteTime": {
     "end_time": "2022-05-23T01:43:16.091380Z",
     "start_time": "2022-05-23T01:43:16.056333Z"
    }
   },
   "outputs": [],
   "source": [
    "ss = StandardScaler()\n",
    "\n",
    "# Set 1\n",
    "scaler_s1 = ss.fit(Xs1_train)\n",
    "Xs1norm_train = scaler_s1.transform(Xs1_train)\n",
    "Xs1norm_test = scaler_s1.transform(Xs1_test)\n",
    "\n",
    "# Set 2\n",
    "scaler_s2 = ss.fit(Xs2_train)\n",
    "Xs2norm_train = scaler_s2.transform(Xs2_train)\n",
    "Xs2norm_test = scaler_s2.transform(Xs2_test)\n",
    "\n",
    "# Set 3\n",
    "scaler_s3 = ss.fit(Xs3_train)\n",
    "Xs3norm_train = scaler_s3.transform(Xs3_train)\n",
    "Xs3norm_test = scaler_s3.transform(Xs3_test)"
   ]
  },
  {
   "cell_type": "markdown",
   "metadata": {},
   "source": [
    "## Logistic Regression"
   ]
  },
  {
   "cell_type": "code",
   "execution_count": 10,
   "metadata": {
    "ExecuteTime": {
     "end_time": "2022-05-23T01:43:16.480909Z",
     "start_time": "2022-05-23T01:43:16.095091Z"
    }
   },
   "outputs": [
    {
     "name": "stdout",
     "output_type": "stream",
     "text": [
      "Set 1:\n",
      "Acc:  0.9641072239890959\n",
      "Precision:  0.7252747252747253\n",
      "Recall:  0.55\n",
      "F1:  0.6255924170616115\n",
      "F0.5:  0.8294558070007172\n",
      "------------------------------------------------------------\n",
      "              precision    recall  f1-score      support\n",
      "0              0.974408  0.987987  0.981150  2081.000000\n",
      "1              0.725275  0.550000  0.625592   120.000000\n",
      "accuracy       0.964107  0.964107  0.964107     0.964107\n",
      "macro avg      0.849841  0.768993  0.803371  2201.000000\n",
      "weighted avg   0.960825  0.964107  0.961765  2201.000000\n",
      "\n",
      "\n",
      "\n",
      "Set 2:\n",
      "Acc:  0.963652885052249\n",
      "Precision:  0.7702702702702703\n",
      "Recall:  0.475\n",
      "F1:  0.5876288659793815\n",
      "F0.5:  0.8298462165018852\n",
      "------------------------------------------------------------\n",
      "              precision    recall  f1-score      support\n",
      "0              0.970381  0.991831  0.980989  2081.000000\n",
      "1              0.770270  0.475000  0.587629   120.000000\n",
      "accuracy       0.963653  0.963653  0.963653     0.963653\n",
      "macro avg      0.870326  0.733415  0.784309  2201.000000\n",
      "weighted avg   0.959471  0.963653  0.959542  2201.000000\n",
      "\n",
      "\n",
      "\n",
      "Set 3:\n",
      "Acc:  0.9645615629259428\n",
      "Precision:  0.7386363636363636\n",
      "Recall:  0.5416666666666666\n",
      "F1:  0.625\n",
      "F0.5:  0.8327444858531782\n",
      "------------------------------------------------------------\n",
      "              precision    recall  f1-score      support\n",
      "0              0.973971  0.988948  0.981402  2081.000000\n",
      "1              0.738636  0.541667  0.625000   120.000000\n",
      "accuracy       0.964562  0.964562  0.964562     0.964562\n",
      "macro avg      0.856304  0.765307  0.803201  2201.000000\n",
      "weighted avg   0.961140  0.964562  0.961971  2201.000000\n"
     ]
    }
   ],
   "source": [
    "lr = LogisticRegression()\n",
    "\n",
    "# Set 1\n",
    "lr.fit(Xs1norm_train, y_train)\n",
    "y_pred_dLRs1 = lr.predict(Xs1norm_test)\n",
    "y_pred_dLRs1_scores = lr.predict_proba(Xs1norm_train)\n",
    "print(\"Set 1:\")\n",
    "print(\"Acc: \", accuracy_score(y_test, y_pred_dLRs1))\n",
    "print(\"Precision: \", precision_score(y_test, y_pred_dLRs1))\n",
    "print(\"Recall: \", recall_score(y_test, y_pred_dLRs1))\n",
    "print(\"F1: \", metrics.f1_score(y_test, y_pred_dLRs1))\n",
    "print(\"F0.5: \", fbeta_score(y_test, y_pred_dLRs1, average='macro', beta=0.5))\n",
    "print(60*\"-\")\n",
    "df_scores = pd.DataFrame(classification_report(y_test, y_pred_dLRs1, output_dict=True)).transpose()\n",
    "print(df_scores)\n",
    "print('\\n\\n')\n",
    "\n",
    "# Set 2\n",
    "lr.fit(Xs2norm_train, y_train)\n",
    "y_pred_dLRs2 = lr.predict(Xs2norm_test)\n",
    "y_pred_dLRs2_scores = lr.predict_proba(Xs2norm_train)\n",
    "print(\"Set 2:\")\n",
    "print(\"Acc: \", accuracy_score(y_test, y_pred_dLRs2))\n",
    "print(\"Precision: \", precision_score(y_test, y_pred_dLRs2))\n",
    "print(\"Recall: \", recall_score(y_test, y_pred_dLRs2))\n",
    "print(\"F1: \", metrics.f1_score(y_test, y_pred_dLRs2))\n",
    "print(\"F0.5: \", fbeta_score(y_test, y_pred_dLRs2, average='macro', beta=0.5))\n",
    "print(60*\"-\")\n",
    "df_scores = pd.DataFrame(classification_report(y_test, y_pred_dLRs2, output_dict=True)).transpose()\n",
    "print(df_scores)\n",
    "print('\\n\\n')\n",
    "\n",
    "# Set 3\n",
    "lr.fit(Xs3norm_train, y_train)\n",
    "y_pred_dLRs3 = lr.predict(Xs3norm_test)\n",
    "y_pred_dLRs3_scores = lr.predict_proba(Xs3norm_train)\n",
    "print(\"Set 3:\")\n",
    "print(\"Acc: \", accuracy_score(y_test, y_pred_dLRs3))\n",
    "print(\"Precision: \", precision_score(y_test, y_pred_dLRs3))\n",
    "print(\"Recall: \", recall_score(y_test, y_pred_dLRs3))\n",
    "print(\"F1: \", metrics.f1_score(y_test, y_pred_dLRs3))\n",
    "print(\"F0.5: \", fbeta_score(y_test, y_pred_dLRs3, average='macro', beta=0.5))\n",
    "print(60*\"-\")\n",
    "df_scores = pd.DataFrame(classification_report(y_test, y_pred_dLRs3, output_dict=True)).transpose()\n",
    "print(df_scores)"
   ]
  },
  {
   "cell_type": "markdown",
   "metadata": {},
   "source": [
    "## Support Vector Machine"
   ]
  },
  {
   "cell_type": "code",
   "execution_count": 11,
   "metadata": {
    "ExecuteTime": {
     "end_time": "2022-05-23T01:43:26.084528Z",
     "start_time": "2022-05-23T01:43:16.489921Z"
    }
   },
   "outputs": [
    {
     "name": "stdout",
     "output_type": "stream",
     "text": [
      "Set 1:\n",
      "Acc:  0.9713766469786461\n",
      "Precision:  0.8\n",
      "Recall:  0.6333333333333333\n",
      "F1:  0.7069767441860466\n",
      "F0.5:  0.8707187053783912\n",
      "------------------------------------------------------------\n",
      "              precision    recall  f1-score      support\n",
      "0              0.979107  0.990870  0.984953  2081.000000\n",
      "1              0.800000  0.633333  0.706977   120.000000\n",
      "accuracy       0.971377  0.971377  0.971377     0.971377\n",
      "macro avg      0.889554  0.812102  0.845965  2201.000000\n",
      "weighted avg   0.969342  0.971377  0.969798  2201.000000\n",
      "\n",
      "\n",
      "\n",
      "Set 2:\n",
      "Acc:  0.967741935483871\n",
      "Precision:  0.855072463768116\n",
      "Recall:  0.49166666666666664\n",
      "F1:  0.6243386243386243\n",
      "F0.5:  0.8605037794287489\n",
      "------------------------------------------------------------\n",
      "              precision    recall  f1-score      support\n",
      "0              0.971388  0.995195  0.983147  2081.000000\n",
      "1              0.855072  0.491667  0.624339   120.000000\n",
      "accuracy       0.967742  0.967742  0.967742     0.967742\n",
      "macro avg      0.913230  0.743431  0.803743  2201.000000\n",
      "weighted avg   0.965047  0.967742  0.963585  2201.000000\n",
      "\n",
      "\n",
      "\n",
      "Set 3:\n",
      "Acc:  0.971830985915493\n",
      "Precision:  0.7843137254901961\n",
      "Recall:  0.6666666666666666\n",
      "F1:  0.7207207207207207\n",
      "F0.5:  0.8701021863186604\n",
      "------------------------------------------------------------\n",
      "              precision    recall  f1-score      support\n",
      "0              0.980943  0.989428  0.985167  2081.000000\n",
      "1              0.784314  0.666667  0.720721   120.000000\n",
      "accuracy       0.971831  0.971831  0.971831     0.971831\n",
      "macro avg      0.882629  0.828047  0.852944  2201.000000\n",
      "weighted avg   0.970223  0.971831  0.970750  2201.000000\n"
     ]
    }
   ],
   "source": [
    "svc =  svm.SVC(probability=True)\n",
    "\n",
    "# Set 1\n",
    "svc.fit(Xs1norm_train, y_train)\n",
    "y_pred_dSVCs1 = svc.predict(Xs1norm_test)\n",
    "y_pred_dSVCs1_scores = svc.predict_proba(Xs1norm_train)\n",
    "print(\"Set 1:\")\n",
    "print(\"Acc: \", accuracy_score(y_test, y_pred_dSVCs1))\n",
    "print(\"Precision: \", precision_score(y_test, y_pred_dSVCs1))\n",
    "print(\"Recall: \", recall_score(y_test, y_pred_dSVCs1))\n",
    "print(\"F1: \", metrics.f1_score(y_test, y_pred_dSVCs1))\n",
    "print(\"F0.5: \", fbeta_score(y_test, y_pred_dSVCs1, average='macro', beta=0.5))\n",
    "print(60*\"-\")\n",
    "df_scores = pd.DataFrame(classification_report(y_test, y_pred_dSVCs1, output_dict=True)).transpose()\n",
    "print(df_scores)\n",
    "print('\\n\\n')\n",
    "\n",
    "# Set 2\n",
    "svc.fit(Xs2norm_train, y_train)\n",
    "y_pred_dSVCs2 = svc.predict(Xs2norm_test)\n",
    "y_pred_dSVCs2_scores = svc.predict_proba(Xs2norm_train)\n",
    "print(\"Set 2:\")\n",
    "print(\"Acc: \", accuracy_score(y_test, y_pred_dSVCs2))\n",
    "print(\"Precision: \", precision_score(y_test, y_pred_dSVCs2))\n",
    "print(\"Recall: \", recall_score(y_test, y_pred_dSVCs2))\n",
    "print(\"F1: \", metrics.f1_score(y_test, y_pred_dSVCs2))\n",
    "print(\"F0.5: \", fbeta_score(y_test, y_pred_dSVCs2, average='macro', beta=0.5))\n",
    "print(60*\"-\")\n",
    "df_scores = pd.DataFrame(classification_report(y_test, y_pred_dSVCs2, output_dict=True)).transpose()\n",
    "print(df_scores)\n",
    "print('\\n\\n')\n",
    "\n",
    "# Set 3\n",
    "svc.fit(Xs3norm_train, y_train)\n",
    "y_pred_dSVCs3 = svc.predict(Xs3norm_test)\n",
    "y_pred_dSVCs3_scores = svc.predict_proba(Xs3norm_train)\n",
    "print(\"Set 3:\")\n",
    "print(\"Acc: \", accuracy_score(y_test, y_pred_dSVCs3))\n",
    "print(\"Precision: \", precision_score(y_test, y_pred_dSVCs3))\n",
    "print(\"Recall: \", recall_score(y_test, y_pred_dSVCs3))\n",
    "print(\"F1: \", metrics.f1_score(y_test, y_pred_dSVCs3))\n",
    "print(\"F0.5: \", fbeta_score(y_test, y_pred_dSVCs3, average='macro', beta=0.5))\n",
    "print(60*\"-\")\n",
    "df_scores = pd.DataFrame(classification_report(y_test, y_pred_dSVCs3, output_dict=True)).transpose()\n",
    "print(df_scores)"
   ]
  },
  {
   "cell_type": "markdown",
   "metadata": {},
   "source": [
    "## XGBoost: Default"
   ]
  },
  {
   "cell_type": "markdown",
   "metadata": {},
   "source": [
    "**Obs:** Doesn't require data normalization."
   ]
  },
  {
   "cell_type": "code",
   "execution_count": 12,
   "metadata": {
    "ExecuteTime": {
     "end_time": "2022-05-23T01:43:28.730026Z",
     "start_time": "2022-05-23T01:43:26.086332Z"
    }
   },
   "outputs": [
    {
     "name": "stdout",
     "output_type": "stream",
     "text": [
      "[22:43:26] WARNING: ../src/learner.cc:1115: Starting in XGBoost 1.3.0, the default evaluation metric used with the objective 'binary:logistic' was changed from 'error' to 'logloss'. Explicitly set eval_metric if you'd like to restore the old behavior.\n",
      "Set 1:\n",
      "Acc:  0.9809177646524307\n",
      "Precision:  0.8823529411764706\n",
      "Recall:  0.75\n",
      "F1:  0.8108108108108107\n",
      "F0.5:  0.9198368504169306\n",
      "------------------------------------------------------------\n",
      "              precision    recall  f1-score      support\n",
      "0              0.985707  0.994234  0.989952  2081.000000\n",
      "1              0.882353  0.750000  0.810811   120.000000\n",
      "accuracy       0.980918  0.980918  0.980918     0.980918\n",
      "macro avg      0.934030  0.872117  0.900381  2201.000000\n",
      "weighted avg   0.980073  0.980918  0.980185  2201.000000\n",
      "\n",
      "\n",
      "\n",
      "[22:43:27] WARNING: ../src/learner.cc:1115: Starting in XGBoost 1.3.0, the default evaluation metric used with the objective 'binary:logistic' was changed from 'error' to 'logloss'. Explicitly set eval_metric if you'd like to restore the old behavior.\n",
      "Set 2:\n",
      "Acc:  0.971830985915493\n",
      "Precision:  0.8222222222222222\n",
      "Recall:  0.6166666666666667\n",
      "F1:  0.7047619047619048\n",
      "F0.5:  0.8759154790182107\n",
      "------------------------------------------------------------\n",
      "              precision    recall  f1-score      support\n",
      "0              0.978209  0.992311  0.985210  2081.000000\n",
      "1              0.822222  0.616667  0.704762   120.000000\n",
      "accuracy       0.971831  0.971831  0.971831     0.971831\n",
      "macro avg      0.900216  0.804489  0.844986  2201.000000\n",
      "weighted avg   0.969705  0.971831  0.969920  2201.000000\n",
      "\n",
      "\n",
      "\n",
      "[22:43:27] WARNING: ../src/learner.cc:1115: Starting in XGBoost 1.3.0, the default evaluation metric used with the objective 'binary:logistic' was changed from 'error' to 'logloss'. Explicitly set eval_metric if you'd like to restore the old behavior.\n",
      "Set 3:\n",
      "Acc:  0.9777373920945025\n",
      "Precision:  0.8585858585858586\n",
      "Recall:  0.7083333333333334\n",
      "F1:  0.7762557077625569\n",
      "F0.5:  0.9044806814965254\n",
      "------------------------------------------------------------\n",
      "              precision    recall  f1-score      support\n",
      "0              0.983349  0.993272  0.988286  2081.000000\n",
      "1              0.858586  0.708333  0.776256   120.000000\n",
      "accuracy       0.977737  0.977737  0.977737     0.977737\n",
      "macro avg      0.920968  0.850803  0.882271  2201.000000\n",
      "weighted avg   0.976547  0.977737  0.976726  2201.000000\n"
     ]
    }
   ],
   "source": [
    "xgbc = xgb.XGBClassifier()\n",
    "\n",
    "# Set 1\n",
    "xgbc.fit(Xs1norm_train, y_train)\n",
    "y_pred_dXGBs1 = xgbc.predict(Xs1norm_test)\n",
    "y_pred_dXGBs1_scores = xgbc.predict_proba(Xs1norm_train)\n",
    "print(\"Set 1:\")\n",
    "print(\"Acc: \", accuracy_score(y_test, y_pred_dXGBs1))\n",
    "print(\"Precision: \", precision_score(y_test, y_pred_dXGBs1))\n",
    "print(\"Recall: \", recall_score(y_test, y_pred_dXGBs1))\n",
    "print(\"F1: \", metrics.f1_score(y_test, y_pred_dXGBs1))\n",
    "print(\"F0.5: \", fbeta_score(y_test, y_pred_dXGBs1, average='macro', beta=0.5))\n",
    "print(60*\"-\")\n",
    "df_scores = pd.DataFrame(classification_report(y_test, y_pred_dXGBs1, output_dict=True)).transpose()\n",
    "print(df_scores)\n",
    "print('\\n\\n')\n",
    "\n",
    "# Set 2\n",
    "xgbc.fit(Xs2norm_train, y_train)\n",
    "y_pred_dXGBs2 = xgbc.predict(Xs2norm_test)\n",
    "y_pred_dXGBs2_scores = xgbc.predict_proba(Xs2norm_train)\n",
    "print(\"Set 2:\")\n",
    "print(\"Acc: \", accuracy_score(y_test, y_pred_dXGBs2))\n",
    "print(\"Precision: \", precision_score(y_test, y_pred_dXGBs2))\n",
    "print(\"Recall: \", recall_score(y_test, y_pred_dXGBs2))\n",
    "print(\"F1: \", metrics.f1_score(y_test, y_pred_dXGBs2))\n",
    "print(\"F0.5: \", fbeta_score(y_test, y_pred_dXGBs2, average='macro', beta=0.5))\n",
    "print(60*\"-\")\n",
    "df_scores = pd.DataFrame(classification_report(y_test, y_pred_dXGBs2, output_dict=True)).transpose()\n",
    "print(df_scores)\n",
    "print('\\n\\n')\n",
    "\n",
    "# Set 3\n",
    "xgbc.fit(Xs3norm_train, y_train)\n",
    "y_pred_dXGBs3 = xgbc.predict(Xs3norm_test)\n",
    "y_pred_dXGBs3_scores = xgbc.predict_proba(Xs3norm_train)\n",
    "print(\"Set 3:\")\n",
    "print(\"Acc: \", accuracy_score(y_test, y_pred_dXGBs3))\n",
    "print(\"Precision: \", precision_score(y_test, y_pred_dXGBs3))\n",
    "print(\"Recall: \", recall_score(y_test, y_pred_dXGBs3))\n",
    "print(\"F1: \", metrics.f1_score(y_test, y_pred_dXGBs3))\n",
    "print(\"F0.5: \", fbeta_score(y_test, y_pred_dXGBs3, average='macro', beta=0.5))\n",
    "print(60*\"-\")\n",
    "df_scores = pd.DataFrame(classification_report(y_test, y_pred_dXGBs3, output_dict=True)).transpose()\n",
    "print(df_scores)"
   ]
  },
  {
   "cell_type": "code",
   "execution_count": 13,
   "metadata": {
    "ExecuteTime": {
     "end_time": "2022-05-23T01:43:28.778225Z",
     "start_time": "2022-05-23T01:43:28.733188Z"
    }
   },
   "outputs": [
    {
     "data": {
      "text/html": [
       "<div>\n",
       "<style scoped>\n",
       "    .dataframe tbody tr th:only-of-type {\n",
       "        vertical-align: middle;\n",
       "    }\n",
       "\n",
       "    .dataframe tbody tr th {\n",
       "        vertical-align: top;\n",
       "    }\n",
       "\n",
       "    .dataframe thead th {\n",
       "        text-align: right;\n",
       "    }\n",
       "</style>\n",
       "<table border=\"1\" class=\"dataframe\">\n",
       "  <thead>\n",
       "    <tr style=\"text-align: right;\">\n",
       "      <th></th>\n",
       "      <th></th>\n",
       "      <th>Precision</th>\n",
       "      <th>Recall</th>\n",
       "    </tr>\n",
       "    <tr>\n",
       "      <th>Features</th>\n",
       "      <th>Model</th>\n",
       "      <th></th>\n",
       "      <th></th>\n",
       "    </tr>\n",
       "  </thead>\n",
       "  <tbody>\n",
       "    <tr>\n",
       "      <th rowspan=\"3\" valign=\"top\">Set1</th>\n",
       "      <th>Logistic Regression</th>\n",
       "      <td>0.725275</td>\n",
       "      <td>0.550000</td>\n",
       "    </tr>\n",
       "    <tr>\n",
       "      <th>SVC</th>\n",
       "      <td>0.800000</td>\n",
       "      <td>0.633333</td>\n",
       "    </tr>\n",
       "    <tr>\n",
       "      <th>XGBClassifier</th>\n",
       "      <td>0.882353</td>\n",
       "      <td>0.750000</td>\n",
       "    </tr>\n",
       "    <tr>\n",
       "      <th rowspan=\"3\" valign=\"top\">Set2</th>\n",
       "      <th>Logistic Regression</th>\n",
       "      <td>0.770270</td>\n",
       "      <td>0.475000</td>\n",
       "    </tr>\n",
       "    <tr>\n",
       "      <th>SVC</th>\n",
       "      <td>0.855072</td>\n",
       "      <td>0.491667</td>\n",
       "    </tr>\n",
       "    <tr>\n",
       "      <th>XGBClassifier</th>\n",
       "      <td>0.822222</td>\n",
       "      <td>0.616667</td>\n",
       "    </tr>\n",
       "    <tr>\n",
       "      <th rowspan=\"3\" valign=\"top\">Set3</th>\n",
       "      <th>Logistic Regression</th>\n",
       "      <td>0.738636</td>\n",
       "      <td>0.541667</td>\n",
       "    </tr>\n",
       "    <tr>\n",
       "      <th>SVC</th>\n",
       "      <td>0.784314</td>\n",
       "      <td>0.666667</td>\n",
       "    </tr>\n",
       "    <tr>\n",
       "      <th>XGBClassifier</th>\n",
       "      <td>0.858586</td>\n",
       "      <td>0.708333</td>\n",
       "    </tr>\n",
       "  </tbody>\n",
       "</table>\n",
       "</div>"
      ],
      "text/plain": [
       "                              Precision    Recall\n",
       "Features Model                                   \n",
       "Set1     Logistic Regression   0.725275  0.550000\n",
       "         SVC                   0.800000  0.633333\n",
       "         XGBClassifier         0.882353  0.750000\n",
       "Set2     Logistic Regression   0.770270  0.475000\n",
       "         SVC                   0.855072  0.491667\n",
       "         XGBClassifier         0.822222  0.616667\n",
       "Set3     Logistic Regression   0.738636  0.541667\n",
       "         SVC                   0.784314  0.666667\n",
       "         XGBClassifier         0.858586  0.708333"
      ]
     },
     "execution_count": 13,
     "metadata": {},
     "output_type": "execute_result"
    }
   ],
   "source": [
    "result = pd.DataFrame(data={\n",
    "    'Features':['Set1','Set1','Set1',\n",
    "                'Set2','Set2','Set2',\n",
    "                'Set3','Set3','Set3'],\n",
    "    \"Model\":['Logistic Regression', 'SVC', 'XGBClassifier',\n",
    "             'Logistic Regression', 'SVC', 'XGBClassifier',\n",
    "             'Logistic Regression', 'SVC', 'XGBClassifier',],\n",
    "    \"Precision\":[precision_score(y_test, y_pred_dLRs1), precision_score(y_test, y_pred_dSVCs1), precision_score(y_test, y_pred_dXGBs1),\n",
    "                 precision_score(y_test, y_pred_dLRs2), precision_score(y_test, y_pred_dSVCs2), precision_score(y_test, y_pred_dXGBs2),\n",
    "                 precision_score(y_test, y_pred_dLRs3), precision_score(y_test, y_pred_dSVCs3), precision_score(y_test, y_pred_dXGBs3)],\n",
    "    \"Recall\":[recall_score(y_test, y_pred_dLRs1), recall_score(y_test, y_pred_dSVCs1), recall_score(y_test, y_pred_dXGBs1),\n",
    "              recall_score(y_test, y_pred_dLRs2), recall_score(y_test, y_pred_dSVCs2), recall_score(y_test, y_pred_dXGBs2),\n",
    "              recall_score(y_test, y_pred_dLRs3), recall_score(y_test, y_pred_dSVCs3), recall_score(y_test, y_pred_dXGBs3)] \n",
    "})\n",
    "result.set_index(['Features', 'Model'])"
   ]
  },
  {
   "cell_type": "code",
   "execution_count": 14,
   "metadata": {
    "ExecuteTime": {
     "end_time": "2022-05-23T01:43:29.053127Z",
     "start_time": "2022-05-23T01:43:28.780037Z"
    }
   },
   "outputs": [
    {
     "data": {
      "image/png": "[encoded data removed]",
      "text/plain": [
       "<Figure size 1080x360 with 1 Axes>"
      ]
     },
     "metadata": {},
     "output_type": "display_data"
    }
   ],
   "source": [
    "fig = plt.figure(figsize=(15,5))\n",
    "fig.subplots_adjust(hspace=0.5, wspace=0.2)\n",
    "\n",
    "for i in result.Model[:3]:\n",
    "    plt.plot(\n",
    "        result[result.Model==i]['Features'], \n",
    "        result[result.Model==i]['Recall'], \n",
    "        linestyle= \"-\", \n",
    "        alpha=1., linewidth=2, \n",
    "        label = i\n",
    "    )\n",
    "    \n",
    "    plt.legend()\n",
    "    leg = plt.legend(bbox_to_anchor=(1.0, 1.0), ncol = 1, shadow = False, fancybox = False, frameon = False, numpoints = 1)\n",
    "    leg.get_frame().set_alpha(0.5)\n",
    "    \n",
    "    plt.xlabel(\"Features Sets\")\n",
    "    plt.ylabel(\"Recall\")\n",
    "    plt.title(\"Recall by Model per Set\")"
   ]
  },
  {
   "cell_type": "code",
   "execution_count": 15,
   "metadata": {
    "ExecuteTime": {
     "end_time": "2022-05-23T01:43:29.317754Z",
     "start_time": "2022-05-23T01:43:29.055896Z"
    }
   },
   "outputs": [
    {
     "data": {
      "image/png": "[encoded data removed]",
      "text/plain": [
       "<Figure size 1080x360 with 1 Axes>"
      ]
     },
     "metadata": {},
     "output_type": "display_data"
    }
   ],
   "source": [
    "fig = plt.figure(figsize=(15,5))\n",
    "fig.subplots_adjust(hspace=0.5, wspace=0.2)\n",
    "\n",
    "for i in result.Model[:3]:\n",
    "    plt.plot(\n",
    "        result[result.Model==i]['Features'], \n",
    "        result[result.Model==i]['Precision'], \n",
    "        linestyle= \"-\", \n",
    "        alpha=1., linewidth=2, \n",
    "        label = i\n",
    "    )\n",
    "    \n",
    "    plt.legend()\n",
    "    leg = plt.legend(bbox_to_anchor=(1.0, 1.0), ncol = 1, shadow = False, fancybox = False, frameon = False, numpoints = 1)\n",
    "    leg.get_frame().set_alpha(0.5)\n",
    "    \n",
    "    plt.xlabel(\"Features Sets\")\n",
    "    plt.ylabel(\"Precision\")\n",
    "    plt.title(\"Precision by Model per Set\")"
   ]
  },
  {
   "cell_type": "code",
   "execution_count": 16,
   "metadata": {
    "ExecuteTime": {
     "end_time": "2022-05-23T01:43:29.340102Z",
     "start_time": "2022-05-23T01:43:29.321468Z"
    }
   },
   "outputs": [
    {
     "data": {
      "text/html": [
       "<div>\n",
       "<style scoped>\n",
       "    .dataframe tbody tr th:only-of-type {\n",
       "        vertical-align: middle;\n",
       "    }\n",
       "\n",
       "    .dataframe tbody tr th {\n",
       "        vertical-align: top;\n",
       "    }\n",
       "\n",
       "    .dataframe thead th {\n",
       "        text-align: right;\n",
       "    }\n",
       "</style>\n",
       "<table border=\"1\" class=\"dataframe\">\n",
       "  <thead>\n",
       "    <tr style=\"text-align: right;\">\n",
       "      <th></th>\n",
       "      <th></th>\n",
       "      <th>CBK_Sim</th>\n",
       "      <th>pred_lr</th>\n",
       "      <th>pred_svc</th>\n",
       "      <th>pred_XGBoost</th>\n",
       "    </tr>\n",
       "    <tr>\n",
       "      <th>Cartão</th>\n",
       "      <th>Data</th>\n",
       "      <th></th>\n",
       "      <th></th>\n",
       "      <th></th>\n",
       "      <th></th>\n",
       "    </tr>\n",
       "  </thead>\n",
       "  <tbody>\n",
       "    <tr>\n",
       "      <th>400770******2516</th>\n",
       "      <th>2015-05-19 13:23:14</th>\n",
       "      <td>1</td>\n",
       "      <td>1</td>\n",
       "      <td>1</td>\n",
       "      <td>0</td>\n",
       "    </tr>\n",
       "    <tr>\n",
       "      <th>549159******6290</th>\n",
       "      <th>2015-05-07 12:00:17</th>\n",
       "      <td>0</td>\n",
       "      <td>0</td>\n",
       "      <td>0</td>\n",
       "      <td>0</td>\n",
       "    </tr>\n",
       "    <tr>\n",
       "      <th>490172******2479</th>\n",
       "      <th>2015-05-14 22:26:41</th>\n",
       "      <td>0</td>\n",
       "      <td>0</td>\n",
       "      <td>0</td>\n",
       "      <td>0</td>\n",
       "    </tr>\n",
       "    <tr>\n",
       "      <th>525631******7693</th>\n",
       "      <th>2015-05-08 10:11:23</th>\n",
       "      <td>0</td>\n",
       "      <td>0</td>\n",
       "      <td>0</td>\n",
       "      <td>0</td>\n",
       "    </tr>\n",
       "    <tr>\n",
       "      <th>498423******0198</th>\n",
       "      <th>2015-05-19 16:55:12</th>\n",
       "      <td>0</td>\n",
       "      <td>0</td>\n",
       "      <td>0</td>\n",
       "      <td>0</td>\n",
       "    </tr>\n",
       "    <tr>\n",
       "      <th>...</th>\n",
       "      <th>...</th>\n",
       "      <td>...</td>\n",
       "      <td>...</td>\n",
       "      <td>...</td>\n",
       "      <td>...</td>\n",
       "    </tr>\n",
       "    <tr>\n",
       "      <th>422061******9014</th>\n",
       "      <th>2015-05-23 15:34:07</th>\n",
       "      <td>1</td>\n",
       "      <td>0</td>\n",
       "      <td>1</td>\n",
       "      <td>1</td>\n",
       "    </tr>\n",
       "    <tr>\n",
       "      <th>434639******6034</th>\n",
       "      <th>2015-05-16 12:39:40</th>\n",
       "      <td>0</td>\n",
       "      <td>0</td>\n",
       "      <td>0</td>\n",
       "      <td>0</td>\n",
       "    </tr>\n",
       "    <tr>\n",
       "      <th>522840******4789</th>\n",
       "      <th>2015-05-22 18:18:20</th>\n",
       "      <td>0</td>\n",
       "      <td>0</td>\n",
       "      <td>0</td>\n",
       "      <td>0</td>\n",
       "    </tr>\n",
       "    <tr>\n",
       "      <th>552289******3550</th>\n",
       "      <th>2015-05-28 18:48:01</th>\n",
       "      <td>0</td>\n",
       "      <td>0</td>\n",
       "      <td>0</td>\n",
       "      <td>0</td>\n",
       "    </tr>\n",
       "    <tr>\n",
       "      <th>514868******4420</th>\n",
       "      <th>2015-05-15 13:34:59</th>\n",
       "      <td>0</td>\n",
       "      <td>0</td>\n",
       "      <td>0</td>\n",
       "      <td>0</td>\n",
       "    </tr>\n",
       "  </tbody>\n",
       "</table>\n",
       "<p>2201 rows × 4 columns</p>\n",
       "</div>"
      ],
      "text/plain": [
       "                                      CBK_Sim  pred_lr  pred_svc  pred_XGBoost\n",
       "Cartão           Data                                                         \n",
       "400770******2516 2015-05-19 13:23:14        1        1         1             0\n",
       "549159******6290 2015-05-07 12:00:17        0        0         0             0\n",
       "490172******2479 2015-05-14 22:26:41        0        0         0             0\n",
       "525631******7693 2015-05-08 10:11:23        0        0         0             0\n",
       "498423******0198 2015-05-19 16:55:12        0        0         0             0\n",
       "...                                       ...      ...       ...           ...\n",
       "422061******9014 2015-05-23 15:34:07        1        0         1             1\n",
       "434639******6034 2015-05-16 12:39:40        0        0         0             0\n",
       "522840******4789 2015-05-22 18:18:20        0        0         0             0\n",
       "552289******3550 2015-05-28 18:48:01        0        0         0             0\n",
       "514868******4420 2015-05-15 13:34:59        0        0         0             0\n",
       "\n",
       "[2201 rows x 4 columns]"
      ]
     },
     "execution_count": 16,
     "metadata": {},
     "output_type": "execute_result"
    }
   ],
   "source": [
    "# Structure\n",
    "\n",
    "df_pred = y_test.copy()\n",
    "df_pred.rename(columns={'total_minutes':'true'}, inplace=True)\n",
    "df_pred['pred_lr'] = y_pred_dLRs1\n",
    "df_pred['pred_svc'] = y_pred_dSVCs1\n",
    "df_pred['pred_XGBoost'] = y_pred_dXGBs1\n",
    "df_pred"
   ]
  },
  {
   "cell_type": "markdown",
   "metadata": {},
   "source": [
    "# POC: XGBoost Default"
   ]
  },
  {
   "cell_type": "code",
   "execution_count": 27,
   "metadata": {
    "ExecuteTime": {
     "end_time": "2022-05-23T01:45:39.784611Z",
     "start_time": "2022-05-23T01:45:38.845583Z"
    }
   },
   "outputs": [
    {
     "name": "stdout",
     "output_type": "stream",
     "text": [
      "[22:45:38] WARNING: ../src/learner.cc:1115: Starting in XGBoost 1.3.0, the default evaluation metric used with the objective 'binary:logistic' was changed from 'error' to 'logloss'. Explicitly set eval_metric if you'd like to restore the old behavior.\n"
     ]
    }
   ],
   "source": [
    "xgbcs3 = xgb.XGBClassifier()\n",
    "\n",
    "# Set 1\n",
    "xgbcs3.fit(Xs3norm_train, y_train)\n",
    "y_pred_dXGBs3 = xgbcs3.predict(Xs3norm_test)\n",
    "y_pred_dXGBs3_scores = xgbcs3.predict_proba(Xs3norm_train)"
   ]
  },
  {
   "cell_type": "code",
   "execution_count": 28,
   "metadata": {
    "ExecuteTime": {
     "end_time": "2022-05-23T01:45:43.064518Z",
     "start_time": "2022-05-23T01:45:43.032364Z"
    }
   },
   "outputs": [
    {
     "name": "stdout",
     "output_type": "stream",
     "text": [
      "Valor: 0.035192315\n",
      "pure_time: 0.02981902\n",
      "same_day_count: 0.59411055\n",
      "same_day_valor_count: 0.045298055\n",
      "rank_same_day: 0.0115169\n",
      "diff_time: 0.06155783\n",
      "day_of_month_RANGE_1-5: 0.036345966\n",
      "day_of_month_RANGE_11-15: 0.041485883\n",
      "day_of_month_RANGE_16-20: 0.05252162\n",
      "day_of_month_RANGE_21-25: 0.03347172\n",
      "day_of_month_RANGE_6-10: 0.03016124\n",
      "day_of_month_RANGE_>25: 0.028518984\n"
     ]
    }
   ],
   "source": [
    "for i in range(df[features_set3].columns.shape[0]):\n",
    "    print(df[features_set3].columns[i] + \": \" + str(xgbcs3.feature_importances_[i]))"
   ]
  },
  {
   "cell_type": "code",
   "execution_count": 29,
   "metadata": {
    "ExecuteTime": {
     "end_time": "2022-05-23T01:45:46.709837Z",
     "start_time": "2022-05-23T01:45:46.389729Z"
    }
   },
   "outputs": [
    {
     "data": {
      "text/plain": [
       "<BarContainer object of 12 artists>"
      ]
     },
     "execution_count": 29,
     "metadata": {},
     "output_type": "execute_result"
    },
    {
     "data": {
      "image/png": "[encoded data removed]",
      "text/plain": [
       "<Figure size 1080x720 with 1 Axes>"
      ]
     },
     "metadata": {},
     "output_type": "display_data"
    }
   ],
   "source": [
    "fig = plt.figure(figsize=(15,10))\n",
    "plt.barh(Xs3_train.columns, xgbcs3.feature_importances_)"
   ]
  },
  {
   "cell_type": "markdown",
   "metadata": {},
   "source": [
    "# Save Model"
   ]
  },
  {
   "cell_type": "code",
   "execution_count": 30,
   "metadata": {
    "ExecuteTime": {
     "end_time": "2022-05-23T01:45:50.404941Z",
     "start_time": "2022-05-23T01:45:50.386352Z"
    }
   },
   "outputs": [
    {
     "data": {
      "text/plain": [
       "['20220522_set3_XGBClassifier.sav']"
      ]
     },
     "execution_count": 30,
     "metadata": {},
     "output_type": "execute_result"
    }
   ],
   "source": [
    "joblib.dump(xgbcs1, DATE + '_set3_' + 'XGBClassifier.sav') "
   ]
  },
  {
   "cell_type": "code",
   "execution_count": null,
   "metadata": {},
   "outputs": [],
   "source": []
  }
 ],
 "metadata": {
  "hide_input": false,
  "kernelspec": {
   "display_name": "kaggle-stroke-venv",
   "language": "python",
   "name": "kaggle-stroke-venv"
  },
  "language_info": {
   "codemirror_mode": {
    "name": "ipython",
    "version": 3
   },
   "file_extension": ".py",
   "mimetype": "text/x-python",
   "name": "python",
   "nbconvert_exporter": "python",
   "pygments_lexer": "ipython3",
   "version": "3.8.3"
  },
  "varInspector": {
   "cols": {
    "lenName": 16,
    "lenType": 16,
    "lenVar": 40
   },
   "kernels_config": {
    "python": {
     "delete_cmd_postfix": "",
     "delete_cmd_prefix": "del ",
     "library": "var_list.py",
     "varRefreshCmd": "print(var_dic_list())"
    },
    "r": {
     "delete_cmd_postfix": ") ",
     "delete_cmd_prefix": "rm(",
     "library": "var_list.r",
     "varRefreshCmd": "cat(var_dic_list()) "
    }
   },
   "types_to_exclude": [
    "module",
    "function",
    "builtin_function_or_method",
    "instance",
    "_Feature"
   ],
   "window_display": false
  }
 },
 "nbformat": 4,
 "nbformat_minor": 4
}
