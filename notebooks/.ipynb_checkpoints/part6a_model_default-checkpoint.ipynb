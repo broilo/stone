{
 "cells": [
  {
   "cell_type": "markdown",
   "metadata": {},
   "source": [
    "# Stone's Data Science Test\n",
    "\n",
    "## Dev: Mateus Broilo\n",
    "mateus.brilo90@gmail.com\n",
    "\n",
    "* Objectives: Load Datasets and perform "
   ]
  },
  {
   "cell_type": "markdown",
   "metadata": {},
   "source": [
    " # Summary\n",
    "\n",
    "* Initials\n",
    "    * Loading Libraries and Packages\n",
    "    * Configurations\n",
    "    * Global Variables\n",
    "* Loading data\n",
    "    * Prepared Dataset  \n",
    "* Model\n",
    "    * Splitting Train/Test data: 80/20\n",
    "        * Normalization\n",
    "    * Logistic Regression\n",
    "    * Support Vector Machine\n",
    "    * XGBoost: Default\n",
    "* POC: XGBBoost Default\n",
    "* Save Model\n"
   ]
  },
  {
   "cell_type": "markdown",
   "metadata": {},
   "source": [
    "# Initials\n",
    "* Loading Libraries and Packages\n",
    "* Configuration\n",
    "* Global Variables"
   ]
  },
  {
   "cell_type": "markdown",
   "metadata": {},
   "source": [
    "## Loading Libraries and Packages "
   ]
  },
  {
   "cell_type": "code",
   "execution_count": 1,
   "metadata": {
    "ExecuteTime": {
     "end_time": "2022-05-23T14:27:08.896950Z",
     "start_time": "2022-05-23T14:27:07.837335Z"
    }
   },
   "outputs": [],
   "source": [
    "# general\n",
    "import warnings\n",
    "import time\n",
    "import gc\n",
    "\n",
    "#data\n",
    "import pandas as pd\n",
    "import numpy as np\n",
    "import datetime\n",
    "\n",
    "## visualization\n",
    "import matplotlib.pyplot as plt\n",
    "import seaborn as sns\n",
    "\n",
    "## model\n",
    "import joblib\n",
    "from sklearn.model_selection import train_test_split\n",
    "from sklearn.preprocessing import StandardScaler\n",
    "from sklearn import metrics \n",
    "from sklearn.metrics import *\n",
    "from sklearn.linear_model import LogisticRegression\n",
    "from sklearn import svm\n",
    "import xgboost as xgb"
   ]
  },
  {
   "cell_type": "code",
   "execution_count": 2,
   "metadata": {
    "ExecuteTime": {
     "end_time": "2022-05-23T14:27:09.026165Z",
     "start_time": "2022-05-23T14:27:08.898982Z"
    }
   },
   "outputs": [
    {
     "name": "stdout",
     "output_type": "stream",
     "text": [
      "total 1652\r\n",
      "-rw-rw-r-- 1 broilo broilo  514550 mai 20 16:56 20220520_corrected_sheet1.csv\r\n",
      "-rw-rw-r-- 1 broilo broilo 1174471 mai 23 11:26 20220522_data_prep.csv\r\n"
     ]
    }
   ],
   "source": [
    "ls -l ../data/"
   ]
  },
  {
   "cell_type": "code",
   "execution_count": 3,
   "metadata": {
    "ExecuteTime": {
     "end_time": "2022-05-23T14:27:09.159667Z",
     "start_time": "2022-05-23T14:27:09.032457Z"
    }
   },
   "outputs": [
    {
     "name": "stdout",
     "output_type": "stream",
     "text": [
      "total 1736\r\n",
      "-rw-rw-r-- 1 broilo broilo 885777 mai 20 13:57 20220520_rawdata_original.xlsx\r\n",
      "-rw-rw-r-- 1 broilo broilo 885777 mai 20 13:57 Missão_Stone_-_Dados_de_trx.xlsx\r\n"
     ]
    }
   ],
   "source": [
    "ls -l ../raw_data/"
   ]
  },
  {
   "cell_type": "markdown",
   "metadata": {},
   "source": [
    "## Configurations"
   ]
  },
  {
   "cell_type": "code",
   "execution_count": 4,
   "metadata": {
    "ExecuteTime": {
     "end_time": "2022-05-23T14:27:09.184867Z",
     "start_time": "2022-05-23T14:27:09.170838Z"
    }
   },
   "outputs": [],
   "source": [
    "warnings.filterwarnings(\"ignore\")\n",
    "pd.set_option('display.max_columns', 20)\n",
    "pd.set_option('display.max_rows', 20)\n",
    "\n",
    "rc={'font.size': 14, 'axes.labelsize': 14, 'legend.fontsize': 12, \n",
    "    'axes.titlesize': 24, 'xtick.labelsize': 14, 'ytick.labelsize': 12}\n",
    "\n",
    "sns.set(rc=rc)\n",
    "sns.set_palette(\"tab10\")\n",
    "sns.set_style(\"darkgrid\")#sns.set_style(\"whitegrid\")"
   ]
  },
  {
   "cell_type": "markdown",
   "metadata": {},
   "source": [
    "## Global Variables"
   ]
  },
  {
   "cell_type": "code",
   "execution_count": 5,
   "metadata": {
    "ExecuteTime": {
     "end_time": "2022-05-23T14:27:09.190574Z",
     "start_time": "2022-05-23T14:27:09.187057Z"
    }
   },
   "outputs": [],
   "source": [
    "PATH_DATA = \"../data/\"\n",
    "DATASET_PREP = \"20220522_data_prep.csv\"\n",
    "DATASET_VAL = \"20220520_rawdata_original.csv\"\n",
    "DATE = time.strftime(\"%Y%m%d\")\n",
    "SEED = 42 # The answer to the ultimate question of life, the universe and everything is 42."
   ]
  },
  {
   "cell_type": "markdown",
   "metadata": {},
   "source": [
    "# Loading Datasets\n",
    "* Prepared Dataset"
   ]
  },
  {
   "cell_type": "markdown",
   "metadata": {},
   "source": [
    "## Prepared Dataset"
   ]
  },
  {
   "cell_type": "code",
   "execution_count": 6,
   "metadata": {
    "ExecuteTime": {
     "end_time": "2022-05-23T14:27:09.289360Z",
     "start_time": "2022-05-23T14:27:09.196723Z"
    }
   },
   "outputs": [
    {
     "name": "stdout",
     "output_type": "stream",
     "text": [
      "(11127, 20)\n"
     ]
    },
    {
     "data": {
      "text/html": [
       "<div>\n",
       "<style scoped>\n",
       "    .dataframe tbody tr th:only-of-type {\n",
       "        vertical-align: middle;\n",
       "    }\n",
       "\n",
       "    .dataframe tbody tr th {\n",
       "        vertical-align: top;\n",
       "    }\n",
       "\n",
       "    .dataframe thead th {\n",
       "        text-align: right;\n",
       "    }\n",
       "</style>\n",
       "<table border=\"1\" class=\"dataframe\">\n",
       "  <thead>\n",
       "    <tr style=\"text-align: right;\">\n",
       "      <th></th>\n",
       "      <th></th>\n",
       "      <th>Valor</th>\n",
       "      <th>CBK</th>\n",
       "      <th>pure_time</th>\n",
       "      <th>same_day_count</th>\n",
       "      <th>same_day_valor_count</th>\n",
       "      <th>rank_same_day</th>\n",
       "      <th>diff_time</th>\n",
       "      <th>day_name_Friday</th>\n",
       "      <th>day_name_Monday</th>\n",
       "      <th>day_name_Saturday</th>\n",
       "      <th>day_name_Sunday</th>\n",
       "      <th>day_name_Thursday</th>\n",
       "      <th>day_name_Tuesday</th>\n",
       "      <th>day_name_Wednesday</th>\n",
       "      <th>day_of_month_RANGE_1-5</th>\n",
       "      <th>day_of_month_RANGE_11-15</th>\n",
       "      <th>day_of_month_RANGE_16-20</th>\n",
       "      <th>day_of_month_RANGE_21-25</th>\n",
       "      <th>day_of_month_RANGE_6-10</th>\n",
       "      <th>day_of_month_RANGE_&gt;25</th>\n",
       "    </tr>\n",
       "    <tr>\n",
       "      <th>Cartão</th>\n",
       "      <th>Data</th>\n",
       "      <th></th>\n",
       "      <th></th>\n",
       "      <th></th>\n",
       "      <th></th>\n",
       "      <th></th>\n",
       "      <th></th>\n",
       "      <th></th>\n",
       "      <th></th>\n",
       "      <th></th>\n",
       "      <th></th>\n",
       "      <th></th>\n",
       "      <th></th>\n",
       "      <th></th>\n",
       "      <th></th>\n",
       "      <th></th>\n",
       "      <th></th>\n",
       "      <th></th>\n",
       "      <th></th>\n",
       "      <th></th>\n",
       "      <th></th>\n",
       "    </tr>\n",
       "  </thead>\n",
       "  <tbody>\n",
       "    <tr>\n",
       "      <th>400217******1137</th>\n",
       "      <th>2015-05-06 09:37:46</th>\n",
       "      <td>198.0</td>\n",
       "      <td>False</td>\n",
       "      <td>9.629444</td>\n",
       "      <td>1</td>\n",
       "      <td>1</td>\n",
       "      <td>1.0</td>\n",
       "      <td>0.000000</td>\n",
       "      <td>0</td>\n",
       "      <td>0</td>\n",
       "      <td>0</td>\n",
       "      <td>0</td>\n",
       "      <td>0</td>\n",
       "      <td>0</td>\n",
       "      <td>1</td>\n",
       "      <td>0</td>\n",
       "      <td>0</td>\n",
       "      <td>0</td>\n",
       "      <td>0</td>\n",
       "      <td>1</td>\n",
       "      <td>0</td>\n",
       "    </tr>\n",
       "    <tr>\n",
       "      <th rowspan=\"4\" valign=\"top\">400217******1353</th>\n",
       "      <th>2015-05-27 23:37:20</th>\n",
       "      <td>172.5</td>\n",
       "      <td>True</td>\n",
       "      <td>23.622222</td>\n",
       "      <td>8</td>\n",
       "      <td>8</td>\n",
       "      <td>1.0</td>\n",
       "      <td>0.000000</td>\n",
       "      <td>0</td>\n",
       "      <td>0</td>\n",
       "      <td>0</td>\n",
       "      <td>0</td>\n",
       "      <td>0</td>\n",
       "      <td>0</td>\n",
       "      <td>1</td>\n",
       "      <td>0</td>\n",
       "      <td>0</td>\n",
       "      <td>0</td>\n",
       "      <td>0</td>\n",
       "      <td>0</td>\n",
       "      <td>1</td>\n",
       "    </tr>\n",
       "    <tr>\n",
       "      <th>2015-05-27 23:38:58</th>\n",
       "      <td>172.5</td>\n",
       "      <td>True</td>\n",
       "      <td>23.649444</td>\n",
       "      <td>8</td>\n",
       "      <td>8</td>\n",
       "      <td>2.0</td>\n",
       "      <td>0.027222</td>\n",
       "      <td>0</td>\n",
       "      <td>0</td>\n",
       "      <td>0</td>\n",
       "      <td>0</td>\n",
       "      <td>0</td>\n",
       "      <td>0</td>\n",
       "      <td>1</td>\n",
       "      <td>0</td>\n",
       "      <td>0</td>\n",
       "      <td>0</td>\n",
       "      <td>0</td>\n",
       "      <td>0</td>\n",
       "      <td>1</td>\n",
       "    </tr>\n",
       "    <tr>\n",
       "      <th>2015-05-27 23:40:15</th>\n",
       "      <td>172.5</td>\n",
       "      <td>True</td>\n",
       "      <td>23.670833</td>\n",
       "      <td>8</td>\n",
       "      <td>8</td>\n",
       "      <td>3.0</td>\n",
       "      <td>0.021389</td>\n",
       "      <td>0</td>\n",
       "      <td>0</td>\n",
       "      <td>0</td>\n",
       "      <td>0</td>\n",
       "      <td>0</td>\n",
       "      <td>0</td>\n",
       "      <td>1</td>\n",
       "      <td>0</td>\n",
       "      <td>0</td>\n",
       "      <td>0</td>\n",
       "      <td>0</td>\n",
       "      <td>0</td>\n",
       "      <td>1</td>\n",
       "    </tr>\n",
       "    <tr>\n",
       "      <th>2015-05-27 23:41:38</th>\n",
       "      <td>172.5</td>\n",
       "      <td>True</td>\n",
       "      <td>23.693889</td>\n",
       "      <td>8</td>\n",
       "      <td>8</td>\n",
       "      <td>4.0</td>\n",
       "      <td>0.023056</td>\n",
       "      <td>0</td>\n",
       "      <td>0</td>\n",
       "      <td>0</td>\n",
       "      <td>0</td>\n",
       "      <td>0</td>\n",
       "      <td>0</td>\n",
       "      <td>1</td>\n",
       "      <td>0</td>\n",
       "      <td>0</td>\n",
       "      <td>0</td>\n",
       "      <td>0</td>\n",
       "      <td>0</td>\n",
       "      <td>1</td>\n",
       "    </tr>\n",
       "    <tr>\n",
       "      <th>...</th>\n",
       "      <th>...</th>\n",
       "      <td>...</td>\n",
       "      <td>...</td>\n",
       "      <td>...</td>\n",
       "      <td>...</td>\n",
       "      <td>...</td>\n",
       "      <td>...</td>\n",
       "      <td>...</td>\n",
       "      <td>...</td>\n",
       "      <td>...</td>\n",
       "      <td>...</td>\n",
       "      <td>...</td>\n",
       "      <td>...</td>\n",
       "      <td>...</td>\n",
       "      <td>...</td>\n",
       "      <td>...</td>\n",
       "      <td>...</td>\n",
       "      <td>...</td>\n",
       "      <td>...</td>\n",
       "      <td>...</td>\n",
       "      <td>...</td>\n",
       "    </tr>\n",
       "    <tr>\n",
       "      <th rowspan=\"2\" valign=\"top\">554932******8129</th>\n",
       "      <th>2015-05-20 22:52:46</th>\n",
       "      <td>112.0</td>\n",
       "      <td>False</td>\n",
       "      <td>22.879444</td>\n",
       "      <td>5</td>\n",
       "      <td>4</td>\n",
       "      <td>4.0</td>\n",
       "      <td>0.022222</td>\n",
       "      <td>0</td>\n",
       "      <td>0</td>\n",
       "      <td>0</td>\n",
       "      <td>0</td>\n",
       "      <td>0</td>\n",
       "      <td>0</td>\n",
       "      <td>1</td>\n",
       "      <td>0</td>\n",
       "      <td>0</td>\n",
       "      <td>1</td>\n",
       "      <td>0</td>\n",
       "      <td>0</td>\n",
       "      <td>0</td>\n",
       "    </tr>\n",
       "    <tr>\n",
       "      <th>2015-05-20 23:04:29</th>\n",
       "      <td>134.4</td>\n",
       "      <td>False</td>\n",
       "      <td>23.074722</td>\n",
       "      <td>5</td>\n",
       "      <td>1</td>\n",
       "      <td>5.0</td>\n",
       "      <td>0.195278</td>\n",
       "      <td>0</td>\n",
       "      <td>0</td>\n",
       "      <td>0</td>\n",
       "      <td>0</td>\n",
       "      <td>0</td>\n",
       "      <td>0</td>\n",
       "      <td>1</td>\n",
       "      <td>0</td>\n",
       "      <td>0</td>\n",
       "      <td>1</td>\n",
       "      <td>0</td>\n",
       "      <td>0</td>\n",
       "      <td>0</td>\n",
       "    </tr>\n",
       "    <tr>\n",
       "      <th>554932******8142</th>\n",
       "      <th>2015-05-06 18:15:53</th>\n",
       "      <td>207.0</td>\n",
       "      <td>False</td>\n",
       "      <td>18.264722</td>\n",
       "      <td>1</td>\n",
       "      <td>1</td>\n",
       "      <td>1.0</td>\n",
       "      <td>0.000000</td>\n",
       "      <td>0</td>\n",
       "      <td>0</td>\n",
       "      <td>0</td>\n",
       "      <td>0</td>\n",
       "      <td>0</td>\n",
       "      <td>0</td>\n",
       "      <td>1</td>\n",
       "      <td>0</td>\n",
       "      <td>0</td>\n",
       "      <td>0</td>\n",
       "      <td>0</td>\n",
       "      <td>1</td>\n",
       "      <td>0</td>\n",
       "    </tr>\n",
       "    <tr>\n",
       "      <th>554932******9115</th>\n",
       "      <th>2015-05-28 15:31:22</th>\n",
       "      <td>138.0</td>\n",
       "      <td>False</td>\n",
       "      <td>15.522778</td>\n",
       "      <td>1</td>\n",
       "      <td>1</td>\n",
       "      <td>1.0</td>\n",
       "      <td>0.000000</td>\n",
       "      <td>0</td>\n",
       "      <td>0</td>\n",
       "      <td>0</td>\n",
       "      <td>0</td>\n",
       "      <td>1</td>\n",
       "      <td>0</td>\n",
       "      <td>0</td>\n",
       "      <td>0</td>\n",
       "      <td>0</td>\n",
       "      <td>0</td>\n",
       "      <td>0</td>\n",
       "      <td>0</td>\n",
       "      <td>1</td>\n",
       "    </tr>\n",
       "    <tr>\n",
       "      <th>558285******7261</th>\n",
       "      <th>2015-05-18 21:20:51</th>\n",
       "      <td>69.0</td>\n",
       "      <td>False</td>\n",
       "      <td>21.347500</td>\n",
       "      <td>1</td>\n",
       "      <td>1</td>\n",
       "      <td>1.0</td>\n",
       "      <td>0.000000</td>\n",
       "      <td>0</td>\n",
       "      <td>1</td>\n",
       "      <td>0</td>\n",
       "      <td>0</td>\n",
       "      <td>0</td>\n",
       "      <td>0</td>\n",
       "      <td>0</td>\n",
       "      <td>0</td>\n",
       "      <td>0</td>\n",
       "      <td>1</td>\n",
       "      <td>0</td>\n",
       "      <td>0</td>\n",
       "      <td>0</td>\n",
       "    </tr>\n",
       "  </tbody>\n",
       "</table>\n",
       "<p>11127 rows × 20 columns</p>\n",
       "</div>"
      ],
      "text/plain": [
       "                                      Valor    CBK  pure_time  same_day_count  \\\n",
       "Cartão           Data                                                           \n",
       "400217******1137 2015-05-06 09:37:46  198.0  False   9.629444               1   \n",
       "400217******1353 2015-05-27 23:37:20  172.5   True  23.622222               8   \n",
       "                 2015-05-27 23:38:58  172.5   True  23.649444               8   \n",
       "                 2015-05-27 23:40:15  172.5   True  23.670833               8   \n",
       "                 2015-05-27 23:41:38  172.5   True  23.693889               8   \n",
       "...                                     ...    ...        ...             ...   \n",
       "554932******8129 2015-05-20 22:52:46  112.0  False  22.879444               5   \n",
       "                 2015-05-20 23:04:29  134.4  False  23.074722               5   \n",
       "554932******8142 2015-05-06 18:15:53  207.0  False  18.264722               1   \n",
       "554932******9115 2015-05-28 15:31:22  138.0  False  15.522778               1   \n",
       "558285******7261 2015-05-18 21:20:51   69.0  False  21.347500               1   \n",
       "\n",
       "                                      same_day_valor_count  rank_same_day  \\\n",
       "Cartão           Data                                                       \n",
       "400217******1137 2015-05-06 09:37:46                     1            1.0   \n",
       "400217******1353 2015-05-27 23:37:20                     8            1.0   \n",
       "                 2015-05-27 23:38:58                     8            2.0   \n",
       "                 2015-05-27 23:40:15                     8            3.0   \n",
       "                 2015-05-27 23:41:38                     8            4.0   \n",
       "...                                                    ...            ...   \n",
       "554932******8129 2015-05-20 22:52:46                     4            4.0   \n",
       "                 2015-05-20 23:04:29                     1            5.0   \n",
       "554932******8142 2015-05-06 18:15:53                     1            1.0   \n",
       "554932******9115 2015-05-28 15:31:22                     1            1.0   \n",
       "558285******7261 2015-05-18 21:20:51                     1            1.0   \n",
       "\n",
       "                                      diff_time  day_name_Friday  \\\n",
       "Cartão           Data                                              \n",
       "400217******1137 2015-05-06 09:37:46   0.000000                0   \n",
       "400217******1353 2015-05-27 23:37:20   0.000000                0   \n",
       "                 2015-05-27 23:38:58   0.027222                0   \n",
       "                 2015-05-27 23:40:15   0.021389                0   \n",
       "                 2015-05-27 23:41:38   0.023056                0   \n",
       "...                                         ...              ...   \n",
       "554932******8129 2015-05-20 22:52:46   0.022222                0   \n",
       "                 2015-05-20 23:04:29   0.195278                0   \n",
       "554932******8142 2015-05-06 18:15:53   0.000000                0   \n",
       "554932******9115 2015-05-28 15:31:22   0.000000                0   \n",
       "558285******7261 2015-05-18 21:20:51   0.000000                0   \n",
       "\n",
       "                                      day_name_Monday  day_name_Saturday  \\\n",
       "Cartão           Data                                                      \n",
       "400217******1137 2015-05-06 09:37:46                0                  0   \n",
       "400217******1353 2015-05-27 23:37:20                0                  0   \n",
       "                 2015-05-27 23:38:58                0                  0   \n",
       "                 2015-05-27 23:40:15                0                  0   \n",
       "                 2015-05-27 23:41:38                0                  0   \n",
       "...                                               ...                ...   \n",
       "554932******8129 2015-05-20 22:52:46                0                  0   \n",
       "                 2015-05-20 23:04:29                0                  0   \n",
       "554932******8142 2015-05-06 18:15:53                0                  0   \n",
       "554932******9115 2015-05-28 15:31:22                0                  0   \n",
       "558285******7261 2015-05-18 21:20:51                1                  0   \n",
       "\n",
       "                                      day_name_Sunday  day_name_Thursday  \\\n",
       "Cartão           Data                                                      \n",
       "400217******1137 2015-05-06 09:37:46                0                  0   \n",
       "400217******1353 2015-05-27 23:37:20                0                  0   \n",
       "                 2015-05-27 23:38:58                0                  0   \n",
       "                 2015-05-27 23:40:15                0                  0   \n",
       "                 2015-05-27 23:41:38                0                  0   \n",
       "...                                               ...                ...   \n",
       "554932******8129 2015-05-20 22:52:46                0                  0   \n",
       "                 2015-05-20 23:04:29                0                  0   \n",
       "554932******8142 2015-05-06 18:15:53                0                  0   \n",
       "554932******9115 2015-05-28 15:31:22                0                  1   \n",
       "558285******7261 2015-05-18 21:20:51                0                  0   \n",
       "\n",
       "                                      day_name_Tuesday  day_name_Wednesday  \\\n",
       "Cartão           Data                                                        \n",
       "400217******1137 2015-05-06 09:37:46                 0                   1   \n",
       "400217******1353 2015-05-27 23:37:20                 0                   1   \n",
       "                 2015-05-27 23:38:58                 0                   1   \n",
       "                 2015-05-27 23:40:15                 0                   1   \n",
       "                 2015-05-27 23:41:38                 0                   1   \n",
       "...                                                ...                 ...   \n",
       "554932******8129 2015-05-20 22:52:46                 0                   1   \n",
       "                 2015-05-20 23:04:29                 0                   1   \n",
       "554932******8142 2015-05-06 18:15:53                 0                   1   \n",
       "554932******9115 2015-05-28 15:31:22                 0                   0   \n",
       "558285******7261 2015-05-18 21:20:51                 0                   0   \n",
       "\n",
       "                                      day_of_month_RANGE_1-5  \\\n",
       "Cartão           Data                                          \n",
       "400217******1137 2015-05-06 09:37:46                       0   \n",
       "400217******1353 2015-05-27 23:37:20                       0   \n",
       "                 2015-05-27 23:38:58                       0   \n",
       "                 2015-05-27 23:40:15                       0   \n",
       "                 2015-05-27 23:41:38                       0   \n",
       "...                                                      ...   \n",
       "554932******8129 2015-05-20 22:52:46                       0   \n",
       "                 2015-05-20 23:04:29                       0   \n",
       "554932******8142 2015-05-06 18:15:53                       0   \n",
       "554932******9115 2015-05-28 15:31:22                       0   \n",
       "558285******7261 2015-05-18 21:20:51                       0   \n",
       "\n",
       "                                      day_of_month_RANGE_11-15  \\\n",
       "Cartão           Data                                            \n",
       "400217******1137 2015-05-06 09:37:46                         0   \n",
       "400217******1353 2015-05-27 23:37:20                         0   \n",
       "                 2015-05-27 23:38:58                         0   \n",
       "                 2015-05-27 23:40:15                         0   \n",
       "                 2015-05-27 23:41:38                         0   \n",
       "...                                                        ...   \n",
       "554932******8129 2015-05-20 22:52:46                         0   \n",
       "                 2015-05-20 23:04:29                         0   \n",
       "554932******8142 2015-05-06 18:15:53                         0   \n",
       "554932******9115 2015-05-28 15:31:22                         0   \n",
       "558285******7261 2015-05-18 21:20:51                         0   \n",
       "\n",
       "                                      day_of_month_RANGE_16-20  \\\n",
       "Cartão           Data                                            \n",
       "400217******1137 2015-05-06 09:37:46                         0   \n",
       "400217******1353 2015-05-27 23:37:20                         0   \n",
       "                 2015-05-27 23:38:58                         0   \n",
       "                 2015-05-27 23:40:15                         0   \n",
       "                 2015-05-27 23:41:38                         0   \n",
       "...                                                        ...   \n",
       "554932******8129 2015-05-20 22:52:46                         1   \n",
       "                 2015-05-20 23:04:29                         1   \n",
       "554932******8142 2015-05-06 18:15:53                         0   \n",
       "554932******9115 2015-05-28 15:31:22                         0   \n",
       "558285******7261 2015-05-18 21:20:51                         1   \n",
       "\n",
       "                                      day_of_month_RANGE_21-25  \\\n",
       "Cartão           Data                                            \n",
       "400217******1137 2015-05-06 09:37:46                         0   \n",
       "400217******1353 2015-05-27 23:37:20                         0   \n",
       "                 2015-05-27 23:38:58                         0   \n",
       "                 2015-05-27 23:40:15                         0   \n",
       "                 2015-05-27 23:41:38                         0   \n",
       "...                                                        ...   \n",
       "554932******8129 2015-05-20 22:52:46                         0   \n",
       "                 2015-05-20 23:04:29                         0   \n",
       "554932******8142 2015-05-06 18:15:53                         0   \n",
       "554932******9115 2015-05-28 15:31:22                         0   \n",
       "558285******7261 2015-05-18 21:20:51                         0   \n",
       "\n",
       "                                      day_of_month_RANGE_6-10  \\\n",
       "Cartão           Data                                           \n",
       "400217******1137 2015-05-06 09:37:46                        1   \n",
       "400217******1353 2015-05-27 23:37:20                        0   \n",
       "                 2015-05-27 23:38:58                        0   \n",
       "                 2015-05-27 23:40:15                        0   \n",
       "                 2015-05-27 23:41:38                        0   \n",
       "...                                                       ...   \n",
       "554932******8129 2015-05-20 22:52:46                        0   \n",
       "                 2015-05-20 23:04:29                        0   \n",
       "554932******8142 2015-05-06 18:15:53                        1   \n",
       "554932******9115 2015-05-28 15:31:22                        0   \n",
       "558285******7261 2015-05-18 21:20:51                        0   \n",
       "\n",
       "                                      day_of_month_RANGE_>25  \n",
       "Cartão           Data                                         \n",
       "400217******1137 2015-05-06 09:37:46                       0  \n",
       "400217******1353 2015-05-27 23:37:20                       1  \n",
       "                 2015-05-27 23:38:58                       1  \n",
       "                 2015-05-27 23:40:15                       1  \n",
       "                 2015-05-27 23:41:38                       1  \n",
       "...                                                      ...  \n",
       "554932******8129 2015-05-20 22:52:46                       0  \n",
       "                 2015-05-20 23:04:29                       0  \n",
       "554932******8142 2015-05-06 18:15:53                       0  \n",
       "554932******9115 2015-05-28 15:31:22                       1  \n",
       "558285******7261 2015-05-18 21:20:51                       0  \n",
       "\n",
       "[11127 rows x 20 columns]"
      ]
     },
     "execution_count": 6,
     "metadata": {},
     "output_type": "execute_result"
    }
   ],
   "source": [
    "df = pd.read_csv(PATH_DATA + DATASET_PREP, sep=',', index_col=['Cartão', 'Data'])\n",
    "print(df.shape)\n",
    "df"
   ]
  },
  {
   "cell_type": "markdown",
   "metadata": {},
   "source": [
    "# Model\n",
    "* Splitting Train/Test data: 80/20\n",
    "    * Normalization\n",
    "* Logistic Regression\n",
    "* Support Vector Machine\n",
    "* XGBoost: Default"
   ]
  },
  {
   "cell_type": "markdown",
   "metadata": {},
   "source": [
    "## Splitting Train/Test data: 80/20"
   ]
  },
  {
   "cell_type": "code",
   "execution_count": 7,
   "metadata": {
    "ExecuteTime": {
     "end_time": "2022-05-23T14:27:09.326782Z",
     "start_time": "2022-05-23T14:27:09.291806Z"
    }
   },
   "outputs": [],
   "source": [
    "features = [\n",
    "    'Valor',\n",
    "    'pure_time',\n",
    "    'same_day_count',\n",
    "    'same_day_valor_count',\n",
    "    'rank_same_day',\n",
    "    'diff_time',\n",
    "    'day_name_Friday',\n",
    "    'day_name_Monday',\n",
    "    'day_name_Saturday',\n",
    "    'day_name_Sunday',\n",
    "    'day_name_Thursday',\n",
    "    'day_name_Tuesday',\n",
    "    'day_name_Wednesday',\n",
    "    'day_of_month_RANGE_1-5',\n",
    "    'day_of_month_RANGE_11-15',\n",
    "    'day_of_month_RANGE_16-20',\n",
    "    'day_of_month_RANGE_21-25',\n",
    "    'day_of_month_RANGE_6-10',\n",
    "    'day_of_month_RANGE_>25'\n",
    "]\n",
    "\n",
    "features_set1 = features\n",
    "features_set2 = list(df[features].drop(columns=['same_day_count','same_day_valor_count']))\n",
    "features_set3 = list(df[features].drop(columns=[\n",
    "    'day_name_Friday',\n",
    "    'day_name_Monday',\n",
    "    'day_name_Saturday',\n",
    "    'day_name_Sunday',\n",
    "    'day_name_Thursday',\n",
    "    'day_name_Tuesday',\n",
    "    'day_name_Wednesday',\n",
    "    'day_of_month_RANGE_1-5',\n",
    "    'day_of_month_RANGE_11-15',\n",
    "    'day_of_month_RANGE_16-20',\n",
    "    'day_of_month_RANGE_21-25',\n",
    "    'day_of_month_RANGE_6-10',\n",
    "    'day_of_month_RANGE_>25'\n",
    "]))\n",
    "\n",
    "label = ['CBK']\n",
    "\n",
    "Xs1 = df[features_set1]\n",
    "Xs2 = df[features_set2]\n",
    "Xs3 = df[features_set3]\n",
    "y = df[label]\n",
    "\n",
    "Xs1_train, Xs1_test, y_train, y_test = train_test_split(Xs1, y, train_size = 0.8, random_state = SEED)\n",
    "Xs2_train, Xs2_test, y_train, y_test = train_test_split(Xs2, y, train_size = 0.8, random_state = SEED)\n",
    "Xs3_train, Xs3_test, y_train, y_test = train_test_split(Xs3, y, train_size = 0.8, random_state = SEED)"
   ]
  },
  {
   "cell_type": "code",
   "execution_count": 8,
   "metadata": {
    "ExecuteTime": {
     "end_time": "2022-05-23T14:27:09.340389Z",
     "start_time": "2022-05-23T14:27:09.328943Z"
    }
   },
   "outputs": [
    {
     "name": "stdout",
     "output_type": "stream",
     "text": [
      "Features Set1:\n",
      "Train dataset shape: (8901, 19)\n",
      "Test dataset shape: (2226, 19)\n",
      "----------------------------------------\n",
      "Xs1_train + Xs1_test dataset: 11127\n",
      "Total dataset: 11127\n",
      "\n",
      "\n",
      "Features Set2:\n",
      "Train dataset shape: (8901, 17)\n",
      "Test dataset shape: (2226, 17)\n",
      "----------------------------------------\n",
      "Xs2_train + Xs2_test dataset: 11127\n",
      "Total dataset: 11127\n",
      "\n",
      "\n",
      "Features Set3:\n",
      "Train dataset shape: (8901, 6)\n",
      "Test dataset shape: (2226, 6)\n",
      "----------------------------------------\n",
      "Xs3_train + Xs3_test dataset: 11127\n",
      "Total dataset: 11127\n",
      "\n",
      "\n"
     ]
    }
   ],
   "source": [
    "print(\"Features Set1:\")\n",
    "print(\"Train dataset shape: \" + f\"{Xs1_train.shape}\")\n",
    "print(\"Test dataset shape: \" + f\"{Xs1_test.shape}\")\n",
    "print(40*\"-\")\n",
    "print(f\"Xs1_train + Xs1_test dataset: {Xs1_train.shape[0] + Xs1_test.shape[0]}\")\n",
    "print(f\"Total dataset: {df.shape[0]}\\n\\n\")\n",
    "\n",
    "print(\"Features Set2:\")\n",
    "print(\"Train dataset shape: \" + f\"{Xs2_train.shape}\")\n",
    "print(\"Test dataset shape: \" + f\"{Xs2_test.shape}\")\n",
    "print(40*\"-\")\n",
    "print(f\"Xs2_train + Xs2_test dataset: {Xs2_train.shape[0] + Xs2_test.shape[0]}\")\n",
    "print(f\"Total dataset: {df.shape[0]}\\n\\n\")\n",
    "\n",
    "print(\"Features Set3:\")\n",
    "print(\"Train dataset shape: \" + f\"{Xs3_train.shape}\")\n",
    "print(\"Test dataset shape: \" + f\"{Xs3_test.shape}\")\n",
    "print(40*\"-\")\n",
    "print(f\"Xs3_train + Xs3_test dataset: {Xs3_train.shape[0] + Xs3_test.shape[0]}\")\n",
    "print(f\"Total dataset: {df.shape[0]}\\n\\n\")"
   ]
  },
  {
   "cell_type": "markdown",
   "metadata": {},
   "source": [
    "### Normalization"
   ]
  },
  {
   "cell_type": "code",
   "execution_count": 9,
   "metadata": {
    "ExecuteTime": {
     "end_time": "2022-05-23T14:27:09.378531Z",
     "start_time": "2022-05-23T14:27:09.342491Z"
    }
   },
   "outputs": [],
   "source": [
    "ss = StandardScaler()\n",
    "\n",
    "# Set 1\n",
    "scaler_s1 = ss.fit(Xs1_train)\n",
    "Xs1norm_train = scaler_s1.transform(Xs1_train)\n",
    "Xs1norm_test = scaler_s1.transform(Xs1_test)\n",
    "\n",
    "# Set 2\n",
    "scaler_s2 = ss.fit(Xs2_train)\n",
    "Xs2norm_train = scaler_s2.transform(Xs2_train)\n",
    "Xs2norm_test = scaler_s2.transform(Xs2_test)\n",
    "\n",
    "# Set 3\n",
    "scaler_s3 = ss.fit(Xs3_train)\n",
    "Xs3norm_train = scaler_s3.transform(Xs3_train)\n",
    "Xs3norm_test = scaler_s3.transform(Xs3_test)"
   ]
  },
  {
   "cell_type": "markdown",
   "metadata": {},
   "source": [
    "## Logistic Regression"
   ]
  },
  {
   "cell_type": "code",
   "execution_count": 10,
   "metadata": {
    "ExecuteTime": {
     "end_time": "2022-05-23T14:27:09.731302Z",
     "start_time": "2022-05-23T14:27:09.383116Z"
    }
   },
   "outputs": [
    {
     "name": "stdout",
     "output_type": "stream",
     "text": [
      "Set 1:\n",
      "Acc:  0.97214734950584\n",
      "Precision:  0.7662337662337663\n",
      "Recall:  0.5728155339805825\n",
      "F1:  0.6555555555555557\n",
      "F0.5:  0.8498314269701865\n",
      "------------------------------------------------------------\n",
      "              precision    recall  f1-score      support\n",
      "False          0.979525  0.991521  0.985487  2123.000000\n",
      "True           0.766234  0.572816  0.655556   103.000000\n",
      "accuracy       0.972147  0.972147  0.972147     0.972147\n",
      "macro avg      0.872880  0.782168  0.820521  2226.000000\n",
      "weighted avg   0.969656  0.972147  0.970221  2226.000000\n",
      "\n",
      "\n",
      "\n",
      "Set 2:\n",
      "Acc:  0.9645103324348607\n",
      "Precision:  0.7608695652173914\n",
      "Recall:  0.33980582524271846\n",
      "F1:  0.46979865771812085\n",
      "F0.5:  0.7918281548396966\n",
      "------------------------------------------------------------\n",
      "              precision    recall  f1-score     support\n",
      "False          0.968807  0.994819  0.981641  2123.00000\n",
      "True           0.760870  0.339806  0.469799   103.00000\n",
      "accuracy       0.964510  0.964510  0.964510     0.96451\n",
      "macro avg      0.864838  0.667312  0.725720  2226.00000\n",
      "weighted avg   0.959186  0.964510  0.957957  2226.00000\n",
      "\n",
      "\n",
      "\n",
      "Set 3:\n",
      "Acc:  0.9716981132075472\n",
      "Precision:  0.7702702702702703\n",
      "Recall:  0.5533980582524272\n",
      "F1:  0.6440677966101694\n",
      "F0.5:  0.8477774671512441\n",
      "------------------------------------------------------------\n",
      "              precision    recall  f1-score      support\n",
      "False          0.978625  0.991992  0.985263  2123.000000\n",
      "True           0.770270  0.553398  0.644068   103.000000\n",
      "accuracy       0.971698  0.971698  0.971698     0.971698\n",
      "macro avg      0.874447  0.772695  0.814665  2226.000000\n",
      "weighted avg   0.968984  0.971698  0.969476  2226.000000\n"
     ]
    }
   ],
   "source": [
    "lr = LogisticRegression()\n",
    "\n",
    "# Set 1\n",
    "lr.fit(Xs1norm_train, y_train)\n",
    "y_pred_dLRs1 = lr.predict(Xs1norm_test)\n",
    "y_pred_dLRs1_scores = lr.predict_proba(Xs1norm_test)\n",
    "print(\"Set 1:\")\n",
    "print(\"Acc: \", accuracy_score(y_test, y_pred_dLRs1))\n",
    "print(\"Precision: \", precision_score(y_test, y_pred_dLRs1))\n",
    "print(\"Recall: \", recall_score(y_test, y_pred_dLRs1))\n",
    "print(\"F1: \", metrics.f1_score(y_test, y_pred_dLRs1))\n",
    "print(\"F0.5: \", fbeta_score(y_test, y_pred_dLRs1, average='macro', beta=0.5))\n",
    "print(60*\"-\")\n",
    "df_scores = pd.DataFrame(classification_report(y_test, y_pred_dLRs1, output_dict=True)).transpose()\n",
    "print(df_scores)\n",
    "print('\\n\\n')\n",
    "\n",
    "# Set 2\n",
    "lr.fit(Xs2norm_train, y_train)\n",
    "y_pred_dLRs2 = lr.predict(Xs2norm_test)\n",
    "y_pred_dLRs2_scores = lr.predict_proba(Xs2norm_test)\n",
    "print(\"Set 2:\")\n",
    "print(\"Acc: \", accuracy_score(y_test, y_pred_dLRs2))\n",
    "print(\"Precision: \", precision_score(y_test, y_pred_dLRs2))\n",
    "print(\"Recall: \", recall_score(y_test, y_pred_dLRs2))\n",
    "print(\"F1: \", metrics.f1_score(y_test, y_pred_dLRs2))\n",
    "print(\"F0.5: \", fbeta_score(y_test, y_pred_dLRs2, average='macro', beta=0.5))\n",
    "print(60*\"-\")\n",
    "df_scores = pd.DataFrame(classification_report(y_test, y_pred_dLRs2, output_dict=True)).transpose()\n",
    "print(df_scores)\n",
    "print('\\n\\n')\n",
    "\n",
    "# Set 3\n",
    "lr.fit(Xs3norm_train, y_train)\n",
    "y_pred_dLRs3 = lr.predict(Xs3norm_test)\n",
    "y_pred_dLRs3_scores = lr.predict_proba(Xs3norm_test)\n",
    "print(\"Set 3:\")\n",
    "print(\"Acc: \", accuracy_score(y_test, y_pred_dLRs3))\n",
    "print(\"Precision: \", precision_score(y_test, y_pred_dLRs3))\n",
    "print(\"Recall: \", recall_score(y_test, y_pred_dLRs3))\n",
    "print(\"F1: \", metrics.f1_score(y_test, y_pred_dLRs3))\n",
    "print(\"F0.5: \", fbeta_score(y_test, y_pred_dLRs3, average='macro', beta=0.5))\n",
    "print(60*\"-\")\n",
    "df_scores = pd.DataFrame(classification_report(y_test, y_pred_dLRs3, output_dict=True)).transpose()\n",
    "print(df_scores)"
   ]
  },
  {
   "cell_type": "markdown",
   "metadata": {},
   "source": [
    "## Support Vector Machine"
   ]
  },
  {
   "cell_type": "code",
   "execution_count": 11,
   "metadata": {
    "ExecuteTime": {
     "end_time": "2022-05-23T14:27:20.517645Z",
     "start_time": "2022-05-23T14:27:09.742672Z"
    }
   },
   "outputs": [
    {
     "name": "stdout",
     "output_type": "stream",
     "text": [
      "Set 1:\n",
      "Acc:  0.9766397124887691\n",
      "Precision:  0.8591549295774648\n",
      "Recall:  0.5922330097087378\n",
      "F1:  0.7011494252873564\n",
      "F0.5:  0.8857723832428832\n",
      "------------------------------------------------------------\n",
      "              precision    recall  f1-score     support\n",
      "False          0.980510  0.995290  0.987845  2123.00000\n",
      "True           0.859155  0.592233  0.701149   103.00000\n",
      "accuracy       0.976640  0.976640  0.976640     0.97664\n",
      "macro avg      0.919833  0.793761  0.844497  2226.00000\n",
      "weighted avg   0.974895  0.976640  0.974579  2226.00000\n",
      "\n",
      "\n",
      "\n",
      "Set 2:\n",
      "Acc:  0.9690026954177897\n",
      "Precision:  0.8695652173913043\n",
      "Recall:  0.3883495145631068\n",
      "F1:  0.5369127516778524\n",
      "F0.5:  0.8365349792942732\n",
      "------------------------------------------------------------\n",
      "              precision    recall  f1-score      support\n",
      "False          0.971101  0.997174  0.983965  2123.000000\n",
      "True           0.869565  0.388350  0.536913   103.000000\n",
      "accuracy       0.969003  0.969003  0.969003     0.969003\n",
      "macro avg      0.920333  0.692762  0.760439  2226.000000\n",
      "weighted avg   0.966403  0.969003  0.963279  2226.000000\n",
      "\n",
      "\n",
      "\n",
      "Set 3:\n",
      "Acc:  0.9743935309973046\n",
      "Precision:  0.7875\n",
      "Recall:  0.6116504854368932\n",
      "F1:  0.6885245901639344\n",
      "F0.5:  0.864074804909892\n",
      "------------------------------------------------------------\n",
      "              precision    recall  f1-score      support\n",
      "False          0.981361  0.991992  0.986648  2123.000000\n",
      "True           0.787500  0.611650  0.688525   103.000000\n",
      "accuracy       0.974394  0.974394  0.974394     0.974394\n",
      "macro avg      0.884430  0.801821  0.837586  2226.000000\n",
      "weighted avg   0.972390  0.974394  0.972853  2226.000000\n"
     ]
    }
   ],
   "source": [
    "svc =  svm.SVC(probability=True)\n",
    "\n",
    "# Set 1\n",
    "svc.fit(Xs1norm_train, y_train)\n",
    "y_pred_dSVCs1 = svc.predict(Xs1norm_test)\n",
    "y_pred_dSVCs1_scores = svc.predict_proba(Xs1norm_test)\n",
    "print(\"Set 1:\")\n",
    "print(\"Acc: \", accuracy_score(y_test, y_pred_dSVCs1))\n",
    "print(\"Precision: \", precision_score(y_test, y_pred_dSVCs1))\n",
    "print(\"Recall: \", recall_score(y_test, y_pred_dSVCs1))\n",
    "print(\"F1: \", metrics.f1_score(y_test, y_pred_dSVCs1))\n",
    "print(\"F0.5: \", fbeta_score(y_test, y_pred_dSVCs1, average='macro', beta=0.5))\n",
    "print(60*\"-\")\n",
    "df_scores = pd.DataFrame(classification_report(y_test, y_pred_dSVCs1, output_dict=True)).transpose()\n",
    "print(df_scores)\n",
    "print('\\n\\n')\n",
    "\n",
    "# Set 2\n",
    "svc.fit(Xs2norm_train, y_train)\n",
    "y_pred_dSVCs2 = svc.predict(Xs2norm_test)\n",
    "y_pred_dSVCs2_scores = svc.predict_proba(Xs2norm_test)\n",
    "print(\"Set 2:\")\n",
    "print(\"Acc: \", accuracy_score(y_test, y_pred_dSVCs2))\n",
    "print(\"Precision: \", precision_score(y_test, y_pred_dSVCs2))\n",
    "print(\"Recall: \", recall_score(y_test, y_pred_dSVCs2))\n",
    "print(\"F1: \", metrics.f1_score(y_test, y_pred_dSVCs2))\n",
    "print(\"F0.5: \", fbeta_score(y_test, y_pred_dSVCs2, average='macro', beta=0.5))\n",
    "print(60*\"-\")\n",
    "df_scores = pd.DataFrame(classification_report(y_test, y_pred_dSVCs2, output_dict=True)).transpose()\n",
    "print(df_scores)\n",
    "print('\\n\\n')\n",
    "\n",
    "# Set 3\n",
    "svc.fit(Xs3norm_train, y_train)\n",
    "y_pred_dSVCs3 = svc.predict(Xs3norm_test)\n",
    "y_pred_dSVCs3_scores = svc.predict_proba(Xs3norm_test)\n",
    "print(\"Set 3:\")\n",
    "print(\"Acc: \", accuracy_score(y_test, y_pred_dSVCs3))\n",
    "print(\"Precision: \", precision_score(y_test, y_pred_dSVCs3))\n",
    "print(\"Recall: \", recall_score(y_test, y_pred_dSVCs3))\n",
    "print(\"F1: \", metrics.f1_score(y_test, y_pred_dSVCs3))\n",
    "print(\"F0.5: \", fbeta_score(y_test, y_pred_dSVCs3, average='macro', beta=0.5))\n",
    "print(60*\"-\")\n",
    "df_scores = pd.DataFrame(classification_report(y_test, y_pred_dSVCs3, output_dict=True)).transpose()\n",
    "print(df_scores)"
   ]
  },
  {
   "cell_type": "markdown",
   "metadata": {},
   "source": [
    "## XGBoost: Default"
   ]
  },
  {
   "cell_type": "markdown",
   "metadata": {},
   "source": [
    "**Obs:** Doesn't require data normalization."
   ]
  },
  {
   "cell_type": "code",
   "execution_count": 13,
   "metadata": {
    "ExecuteTime": {
     "end_time": "2022-05-23T14:27:45.400383Z",
     "start_time": "2022-05-23T14:27:45.376268Z"
    }
   },
   "outputs": [
    {
     "data": {
      "text/plain": [
       "17.97867803837953"
      ]
     },
     "execution_count": 13,
     "metadata": {},
     "output_type": "execute_result"
    }
   ],
   "source": [
    "estimate = y_train.CBK.value_counts().values[0] / y_train.CBK.value_counts().values[1]\n",
    "estimate"
   ]
  },
  {
   "cell_type": "code",
   "execution_count": 14,
   "metadata": {
    "ExecuteTime": {
     "end_time": "2022-05-23T14:28:05.206239Z",
     "start_time": "2022-05-23T14:28:02.899200Z"
    }
   },
   "outputs": [
    {
     "name": "stdout",
     "output_type": "stream",
     "text": [
      "[11:28:02] WARNING: ../src/learner.cc:1115: Starting in XGBoost 1.3.0, the default evaluation metric used with the objective 'binary:logistic' was changed from 'error' to 'logloss'. Explicitly set eval_metric if you'd like to restore the old behavior.\n",
      "Set 1:\n",
      "Acc:  0.981581311769991\n",
      "Precision:  0.8229166666666666\n",
      "Recall:  0.7669902912621359\n",
      "F1:  0.7939698492462312\n",
      "F0.5:  0.9002354942688227\n",
      "------------------------------------------------------------\n",
      "              precision    recall  f1-score      support\n",
      "False          0.988732  0.991992  0.990360  2123.000000\n",
      "True           0.822917  0.766990  0.793970   103.000000\n",
      "accuracy       0.981581  0.981581  0.981581     0.981581\n",
      "macro avg      0.905825  0.879491  0.892165  2226.000000\n",
      "weighted avg   0.981060  0.981581  0.981273  2226.000000\n",
      "\n",
      "\n",
      "\n",
      "[11:28:03] WARNING: ../src/learner.cc:1115: Starting in XGBoost 1.3.0, the default evaluation metric used with the objective 'binary:logistic' was changed from 'error' to 'logloss'. Explicitly set eval_metric if you'd like to restore the old behavior.\n",
      "Set 2:\n",
      "Acc:  0.9739442946990117\n",
      "Precision:  0.8\n",
      "Recall:  0.5825242718446602\n",
      "F1:  0.6741573033707865\n",
      "F0.5:  0.8634921134282108\n",
      "------------------------------------------------------------\n",
      "              precision    recall  f1-score      support\n",
      "False          0.980009  0.992935  0.986430  2123.000000\n",
      "True           0.800000  0.582524  0.674157   103.000000\n",
      "accuracy       0.973944  0.973944  0.973944     0.973944\n",
      "macro avg      0.890005  0.787729  0.830293  2226.000000\n",
      "weighted avg   0.971680  0.973944  0.971980  2226.000000\n",
      "\n",
      "\n",
      "\n",
      "[11:28:04] WARNING: ../src/learner.cc:1115: Starting in XGBoost 1.3.0, the default evaluation metric used with the objective 'binary:logistic' was changed from 'error' to 'logloss'. Explicitly set eval_metric if you'd like to restore the old behavior.\n",
      "Set 3:\n",
      "Acc:  0.9829290206648698\n",
      "Precision:  0.8651685393258427\n",
      "Recall:  0.7475728155339806\n",
      "F1:  0.8020833333333334\n",
      "F0.5:  0.9139546863008472\n",
      "------------------------------------------------------------\n",
      "              precision    recall  f1-score      support\n",
      "False          0.987833  0.994348  0.991080  2123.000000\n",
      "True           0.865169  0.747573  0.802083   103.000000\n",
      "accuracy       0.982929  0.982929  0.982929     0.982929\n",
      "macro avg      0.926501  0.870960  0.896582  2226.000000\n",
      "weighted avg   0.982158  0.982929  0.982335  2226.000000\n"
     ]
    }
   ],
   "source": [
    "xgbc = xgb.XGBClassifier()#scale_pos_weight=estimate, eval_metric='auc')\n",
    "\n",
    "# Set 1\n",
    "xgbc.fit(Xs1_train, y_train)\n",
    "y_pred_dXGBs1 = xgbc.predict(Xs1_test)\n",
    "y_pred_dXGBs1_scores = xgbc.predict_proba(Xs1_test)\n",
    "print(\"Set 1:\")\n",
    "print(\"Acc: \", accuracy_score(y_test, y_pred_dXGBs1))\n",
    "print(\"Precision: \", precision_score(y_test, y_pred_dXGBs1))\n",
    "print(\"Recall: \", recall_score(y_test, y_pred_dXGBs1))\n",
    "print(\"F1: \", metrics.f1_score(y_test, y_pred_dXGBs1))\n",
    "print(\"F0.5: \", fbeta_score(y_test, y_pred_dXGBs1, average='macro', beta=0.5))\n",
    "print(60*\"-\")\n",
    "df_scores = pd.DataFrame(classification_report(y_test, y_pred_dXGBs1, output_dict=True)).transpose()\n",
    "print(df_scores)\n",
    "print('\\n\\n')\n",
    "\n",
    "# Set 2\n",
    "xgbc.fit(Xs2_train, y_train)\n",
    "y_pred_dXGBs2 = xgbc.predict(Xs2_test)\n",
    "y_pred_dXGBs2_scores = xgbc.predict_proba(Xs2_test)\n",
    "print(\"Set 2:\")\n",
    "print(\"Acc: \", accuracy_score(y_test, y_pred_dXGBs2))\n",
    "print(\"Precision: \", precision_score(y_test, y_pred_dXGBs2))\n",
    "print(\"Recall: \", recall_score(y_test, y_pred_dXGBs2))\n",
    "print(\"F1: \", metrics.f1_score(y_test, y_pred_dXGBs2))\n",
    "print(\"F0.5: \", fbeta_score(y_test, y_pred_dXGBs2, average='macro', beta=0.5))\n",
    "print(60*\"-\")\n",
    "df_scores = pd.DataFrame(classification_report(y_test, y_pred_dXGBs2, output_dict=True)).transpose()\n",
    "print(df_scores)\n",
    "print('\\n\\n')\n",
    "\n",
    "# Set 3\n",
    "xgbc.fit(Xs3_train, y_train)\n",
    "y_pred_dXGBs3 = xgbc.predict(Xs3_test)\n",
    "y_pred_dXGBs3_scores = xgbc.predict_proba(Xs3_test)\n",
    "print(\"Set 3:\")\n",
    "print(\"Acc: \", accuracy_score(y_test, y_pred_dXGBs3))\n",
    "print(\"Precision: \", precision_score(y_test, y_pred_dXGBs3))\n",
    "print(\"Recall: \", recall_score(y_test, y_pred_dXGBs3))\n",
    "print(\"F1: \", metrics.f1_score(y_test, y_pred_dXGBs3))\n",
    "print(\"F0.5: \", fbeta_score(y_test, y_pred_dXGBs3, average='macro', beta=0.5))\n",
    "print(60*\"-\")\n",
    "df_scores = pd.DataFrame(classification_report(y_test, y_pred_dXGBs3, output_dict=True)).transpose()\n",
    "print(df_scores)"
   ]
  },
  {
   "cell_type": "code",
   "execution_count": 15,
   "metadata": {
    "ExecuteTime": {
     "end_time": "2022-05-23T14:28:16.563281Z",
     "start_time": "2022-05-23T14:28:16.497846Z"
    }
   },
   "outputs": [
    {
     "data": {
      "text/html": [
       "<div>\n",
       "<style scoped>\n",
       "    .dataframe tbody tr th:only-of-type {\n",
       "        vertical-align: middle;\n",
       "    }\n",
       "\n",
       "    .dataframe tbody tr th {\n",
       "        vertical-align: top;\n",
       "    }\n",
       "\n",
       "    .dataframe thead th {\n",
       "        text-align: right;\n",
       "    }\n",
       "</style>\n",
       "<table border=\"1\" class=\"dataframe\">\n",
       "  <thead>\n",
       "    <tr style=\"text-align: right;\">\n",
       "      <th></th>\n",
       "      <th></th>\n",
       "      <th>Precision</th>\n",
       "      <th>Recall</th>\n",
       "    </tr>\n",
       "    <tr>\n",
       "      <th>Features</th>\n",
       "      <th>Model</th>\n",
       "      <th></th>\n",
       "      <th></th>\n",
       "    </tr>\n",
       "  </thead>\n",
       "  <tbody>\n",
       "    <tr>\n",
       "      <th rowspan=\"3\" valign=\"top\">Set1</th>\n",
       "      <th>Logistic Regression</th>\n",
       "      <td>0.766234</td>\n",
       "      <td>0.572816</td>\n",
       "    </tr>\n",
       "    <tr>\n",
       "      <th>SVC</th>\n",
       "      <td>0.859155</td>\n",
       "      <td>0.592233</td>\n",
       "    </tr>\n",
       "    <tr>\n",
       "      <th>XGBClassifier</th>\n",
       "      <td>0.822917</td>\n",
       "      <td>0.766990</td>\n",
       "    </tr>\n",
       "    <tr>\n",
       "      <th rowspan=\"3\" valign=\"top\">Set2</th>\n",
       "      <th>Logistic Regression</th>\n",
       "      <td>0.760870</td>\n",
       "      <td>0.339806</td>\n",
       "    </tr>\n",
       "    <tr>\n",
       "      <th>SVC</th>\n",
       "      <td>0.869565</td>\n",
       "      <td>0.388350</td>\n",
       "    </tr>\n",
       "    <tr>\n",
       "      <th>XGBClassifier</th>\n",
       "      <td>0.800000</td>\n",
       "      <td>0.582524</td>\n",
       "    </tr>\n",
       "    <tr>\n",
       "      <th rowspan=\"3\" valign=\"top\">Set3</th>\n",
       "      <th>Logistic Regression</th>\n",
       "      <td>0.770270</td>\n",
       "      <td>0.553398</td>\n",
       "    </tr>\n",
       "    <tr>\n",
       "      <th>SVC</th>\n",
       "      <td>0.787500</td>\n",
       "      <td>0.611650</td>\n",
       "    </tr>\n",
       "    <tr>\n",
       "      <th>XGBClassifier</th>\n",
       "      <td>0.865169</td>\n",
       "      <td>0.747573</td>\n",
       "    </tr>\n",
       "  </tbody>\n",
       "</table>\n",
       "</div>"
      ],
      "text/plain": [
       "                              Precision    Recall\n",
       "Features Model                                   \n",
       "Set1     Logistic Regression   0.766234  0.572816\n",
       "         SVC                   0.859155  0.592233\n",
       "         XGBClassifier         0.822917  0.766990\n",
       "Set2     Logistic Regression   0.760870  0.339806\n",
       "         SVC                   0.869565  0.388350\n",
       "         XGBClassifier         0.800000  0.582524\n",
       "Set3     Logistic Regression   0.770270  0.553398\n",
       "         SVC                   0.787500  0.611650\n",
       "         XGBClassifier         0.865169  0.747573"
      ]
     },
     "execution_count": 15,
     "metadata": {},
     "output_type": "execute_result"
    }
   ],
   "source": [
    "result = pd.DataFrame(data={\n",
    "    'Features':['Set1','Set1','Set1',\n",
    "                'Set2','Set2','Set2',\n",
    "                'Set3','Set3','Set3'],\n",
    "    \"Model\":['Logistic Regression', 'SVC', 'XGBClassifier',\n",
    "             'Logistic Regression', 'SVC', 'XGBClassifier',\n",
    "             'Logistic Regression', 'SVC', 'XGBClassifier',],\n",
    "    \"Precision\":[precision_score(y_test, y_pred_dLRs1), precision_score(y_test, y_pred_dSVCs1), precision_score(y_test, y_pred_dXGBs1),\n",
    "                 precision_score(y_test, y_pred_dLRs2), precision_score(y_test, y_pred_dSVCs2), precision_score(y_test, y_pred_dXGBs2),\n",
    "                 precision_score(y_test, y_pred_dLRs3), precision_score(y_test, y_pred_dSVCs3), precision_score(y_test, y_pred_dXGBs3)],\n",
    "    \"Recall\":[recall_score(y_test, y_pred_dLRs1), recall_score(y_test, y_pred_dSVCs1), recall_score(y_test, y_pred_dXGBs1),\n",
    "              recall_score(y_test, y_pred_dLRs2), recall_score(y_test, y_pred_dSVCs2), recall_score(y_test, y_pred_dXGBs2),\n",
    "              recall_score(y_test, y_pred_dLRs3), recall_score(y_test, y_pred_dSVCs3), recall_score(y_test, y_pred_dXGBs3)] \n",
    "})\n",
    "result.set_index(['Features', 'Model'])"
   ]
  },
  {
   "cell_type": "raw",
   "metadata": {},
   "source": []
  },
  {
   "cell_type": "code",
   "execution_count": 16,
   "metadata": {
    "ExecuteTime": {
     "end_time": "2022-05-23T14:28:18.225875Z",
     "start_time": "2022-05-23T14:28:17.904733Z"
    }
   },
   "outputs": [
    {
     "data": {
      "image/png": "[encoded data removed]",
      "text/plain": [
       "<Figure size 1080x360 with 1 Axes>"
      ]
     },
     "metadata": {},
     "output_type": "display_data"
    }
   ],
   "source": [
    "fig = plt.figure(figsize=(15,5))\n",
    "fig.subplots_adjust(hspace=0.5, wspace=0.2)\n",
    "\n",
    "for i in result.Model[:3]:\n",
    "    plt.plot(\n",
    "        result[result.Model==i]['Features'], \n",
    "        result[result.Model==i]['Recall'], \n",
    "        linestyle= \"-\", \n",
    "        alpha=1., linewidth=2, \n",
    "        label = i\n",
    "    )\n",
    "    \n",
    "    plt.legend()\n",
    "    leg = plt.legend(bbox_to_anchor=(1.0, 1.0), ncol = 1, shadow = False, fancybox = False, frameon = False, numpoints = 1)\n",
    "    leg.get_frame().set_alpha(0.5)\n",
    "    \n",
    "    plt.xlabel(\"Features Sets\")\n",
    "    plt.ylabel(\"Recall\")\n",
    "    plt.title(\"Recall by Model per Set\")"
   ]
  },
  {
   "cell_type": "code",
   "execution_count": 17,
   "metadata": {
    "ExecuteTime": {
     "end_time": "2022-05-23T14:28:19.778791Z",
     "start_time": "2022-05-23T14:28:19.542327Z"
    }
   },
   "outputs": [
    {
     "data": {
      "image/png": "[encoded data removed]",
      "text/plain": [
       "<Figure size 1080x360 with 1 Axes>"
      ]
     },
     "metadata": {},
     "output_type": "display_data"
    }
   ],
   "source": [
    "fig = plt.figure(figsize=(15,5))\n",
    "fig.subplots_adjust(hspace=0.5, wspace=0.2)\n",
    "\n",
    "for i in result.Model[:3]:\n",
    "    plt.plot(\n",
    "        result[result.Model==i]['Features'], \n",
    "        result[result.Model==i]['Precision'], \n",
    "        linestyle= \"-\", \n",
    "        alpha=1., linewidth=2, \n",
    "        label = i\n",
    "    )\n",
    "    \n",
    "    plt.legend()\n",
    "    leg = plt.legend(bbox_to_anchor=(1.0, 1.0), ncol = 1, shadow = False, fancybox = False, frameon = False, numpoints = 1)\n",
    "    leg.get_frame().set_alpha(0.5)\n",
    "    \n",
    "    plt.xlabel(\"Features Sets\")\n",
    "    plt.ylabel(\"Precision\")\n",
    "    plt.title(\"Precision by Model per Set\")"
   ]
  },
  {
   "cell_type": "code",
   "execution_count": 18,
   "metadata": {
    "ExecuteTime": {
     "end_time": "2022-05-23T14:28:21.041212Z",
     "start_time": "2022-05-23T14:28:21.024241Z"
    }
   },
   "outputs": [
    {
     "data": {
      "text/html": [
       "<div>\n",
       "<style scoped>\n",
       "    .dataframe tbody tr th:only-of-type {\n",
       "        vertical-align: middle;\n",
       "    }\n",
       "\n",
       "    .dataframe tbody tr th {\n",
       "        vertical-align: top;\n",
       "    }\n",
       "\n",
       "    .dataframe thead th {\n",
       "        text-align: right;\n",
       "    }\n",
       "</style>\n",
       "<table border=\"1\" class=\"dataframe\">\n",
       "  <thead>\n",
       "    <tr style=\"text-align: right;\">\n",
       "      <th></th>\n",
       "      <th></th>\n",
       "      <th>CBK</th>\n",
       "      <th>pred_lr</th>\n",
       "      <th>pred_svc</th>\n",
       "      <th>pred_XGBoost</th>\n",
       "    </tr>\n",
       "    <tr>\n",
       "      <th>Cartão</th>\n",
       "      <th>Data</th>\n",
       "      <th></th>\n",
       "      <th></th>\n",
       "      <th></th>\n",
       "      <th></th>\n",
       "    </tr>\n",
       "  </thead>\n",
       "  <tbody>\n",
       "    <tr>\n",
       "      <th>540105******7470</th>\n",
       "      <th>2015-05-12 09:31:53</th>\n",
       "      <td>False</td>\n",
       "      <td>False</td>\n",
       "      <td>False</td>\n",
       "      <td>False</td>\n",
       "    </tr>\n",
       "    <tr>\n",
       "      <th>406655******5479</th>\n",
       "      <th>2015-05-04 16:47:58</th>\n",
       "      <td>False</td>\n",
       "      <td>False</td>\n",
       "      <td>False</td>\n",
       "      <td>False</td>\n",
       "    </tr>\n",
       "    <tr>\n",
       "      <th>539039******8155</th>\n",
       "      <th>2015-05-08 22:17:57</th>\n",
       "      <td>False</td>\n",
       "      <td>False</td>\n",
       "      <td>False</td>\n",
       "      <td>False</td>\n",
       "    </tr>\n",
       "    <tr>\n",
       "      <th>515590******0648</th>\n",
       "      <th>2015-05-29 15:52:09</th>\n",
       "      <td>False</td>\n",
       "      <td>False</td>\n",
       "      <td>False</td>\n",
       "      <td>False</td>\n",
       "    </tr>\n",
       "    <tr>\n",
       "      <th>422061******3989</th>\n",
       "      <th>2015-05-29 16:52:54</th>\n",
       "      <td>False</td>\n",
       "      <td>False</td>\n",
       "      <td>False</td>\n",
       "      <td>False</td>\n",
       "    </tr>\n",
       "    <tr>\n",
       "      <th>...</th>\n",
       "      <th>...</th>\n",
       "      <td>...</td>\n",
       "      <td>...</td>\n",
       "      <td>...</td>\n",
       "      <td>...</td>\n",
       "    </tr>\n",
       "    <tr>\n",
       "      <th>439354******8814</th>\n",
       "      <th>2015-05-03 21:10:22</th>\n",
       "      <td>False</td>\n",
       "      <td>False</td>\n",
       "      <td>False</td>\n",
       "      <td>False</td>\n",
       "    </tr>\n",
       "    <tr>\n",
       "      <th>490172******0909</th>\n",
       "      <th>2015-05-07 09:15:23</th>\n",
       "      <td>False</td>\n",
       "      <td>False</td>\n",
       "      <td>False</td>\n",
       "      <td>False</td>\n",
       "    </tr>\n",
       "    <tr>\n",
       "      <th>498442******1862</th>\n",
       "      <th>2015-05-11 22:43:28</th>\n",
       "      <td>False</td>\n",
       "      <td>False</td>\n",
       "      <td>False</td>\n",
       "      <td>False</td>\n",
       "    </tr>\n",
       "    <tr>\n",
       "      <th>490172******7863</th>\n",
       "      <th>2015-05-11 20:28:43</th>\n",
       "      <td>False</td>\n",
       "      <td>False</td>\n",
       "      <td>False</td>\n",
       "      <td>False</td>\n",
       "    </tr>\n",
       "    <tr>\n",
       "      <th>455183******8049</th>\n",
       "      <th>2015-05-06 17:11:30</th>\n",
       "      <td>False</td>\n",
       "      <td>False</td>\n",
       "      <td>False</td>\n",
       "      <td>False</td>\n",
       "    </tr>\n",
       "  </tbody>\n",
       "</table>\n",
       "<p>2226 rows × 4 columns</p>\n",
       "</div>"
      ],
      "text/plain": [
       "                                        CBK  pred_lr  pred_svc  pred_XGBoost\n",
       "Cartão           Data                                                       \n",
       "540105******7470 2015-05-12 09:31:53  False    False     False         False\n",
       "406655******5479 2015-05-04 16:47:58  False    False     False         False\n",
       "539039******8155 2015-05-08 22:17:57  False    False     False         False\n",
       "515590******0648 2015-05-29 15:52:09  False    False     False         False\n",
       "422061******3989 2015-05-29 16:52:54  False    False     False         False\n",
       "...                                     ...      ...       ...           ...\n",
       "439354******8814 2015-05-03 21:10:22  False    False     False         False\n",
       "490172******0909 2015-05-07 09:15:23  False    False     False         False\n",
       "498442******1862 2015-05-11 22:43:28  False    False     False         False\n",
       "490172******7863 2015-05-11 20:28:43  False    False     False         False\n",
       "455183******8049 2015-05-06 17:11:30  False    False     False         False\n",
       "\n",
       "[2226 rows x 4 columns]"
      ]
     },
     "execution_count": 18,
     "metadata": {},
     "output_type": "execute_result"
    }
   ],
   "source": [
    "# Structure\n",
    "\n",
    "df_pred = y_test.copy()\n",
    "df_pred['pred_lr'] = y_pred_dLRs1\n",
    "df_pred['pred_svc'] = y_pred_dSVCs1\n",
    "df_pred['pred_XGBoost'] = y_pred_dXGBs1\n",
    "df_pred"
   ]
  },
  {
   "cell_type": "markdown",
   "metadata": {},
   "source": [
    "# POC: XGBoost Default"
   ]
  },
  {
   "cell_type": "code",
   "execution_count": 19,
   "metadata": {
    "ExecuteTime": {
     "end_time": "2022-05-23T14:28:23.247162Z",
     "start_time": "2022-05-23T14:28:22.400801Z"
    }
   },
   "outputs": [
    {
     "name": "stdout",
     "output_type": "stream",
     "text": [
      "[11:28:22] WARNING: ../src/learner.cc:1115: Starting in XGBoost 1.3.0, the default evaluation metric used with the objective 'binary:logistic' was changed from 'error' to 'logloss'. Explicitly set eval_metric if you'd like to restore the old behavior.\n"
     ]
    }
   ],
   "source": [
    "xgbcs1 = xgb.XGBClassifier()\n",
    "\n",
    "# Set 1\n",
    "xgbcs1.fit(Xs1_train, y_train)\n",
    "y_pred_dXGBs1 = xgbcs1.predict(Xs1_test)\n",
    "y_pred_dXGBs1_scores = xgbcs1.predict_proba(Xs1_test)"
   ]
  },
  {
   "cell_type": "code",
   "execution_count": 20,
   "metadata": {
    "ExecuteTime": {
     "end_time": "2022-05-23T14:28:24.668604Z",
     "start_time": "2022-05-23T14:28:24.626646Z"
    }
   },
   "outputs": [
    {
     "name": "stdout",
     "output_type": "stream",
     "text": [
      "Valor: 0.027644726\n",
      "pure_time: 0.022507897\n",
      "same_day_count: 0.45477846\n",
      "same_day_valor_count: 0.03495558\n",
      "rank_same_day: 0.02217518\n",
      "diff_time: 0.050106976\n",
      "day_name_Friday: 0.031752273\n",
      "day_name_Monday: 0.020054495\n",
      "day_name_Saturday: 0.029177142\n",
      "day_name_Sunday: 0.01431163\n",
      "day_name_Thursday: 0.022390656\n",
      "day_name_Tuesday: 0.05255348\n",
      "day_name_Wednesday: 0.034674007\n",
      "day_of_month_RANGE_1-5: 0.02331111\n",
      "day_of_month_RANGE_11-15: 0.023097953\n",
      "day_of_month_RANGE_16-20: 0.02602198\n",
      "day_of_month_RANGE_21-25: 0.040497813\n",
      "day_of_month_RANGE_6-10: 0.033100154\n",
      "day_of_month_RANGE_>25: 0.03688852\n"
     ]
    }
   ],
   "source": [
    "for i in range(df[features_set1].columns.shape[0]):\n",
    "    print(df[features_set1].columns[i] + \": \" + str(xgbcs1.feature_importances_[i]))"
   ]
  },
  {
   "cell_type": "code",
   "execution_count": 21,
   "metadata": {
    "ExecuteTime": {
     "end_time": "2022-05-23T14:28:26.399193Z",
     "start_time": "2022-05-23T14:28:26.089527Z"
    }
   },
   "outputs": [
    {
     "data": {
      "text/plain": [
       "<BarContainer object of 19 artists>"
      ]
     },
     "execution_count": 21,
     "metadata": {},
     "output_type": "execute_result"
    },
    {
     "data": {
      "image/png": "[encoded data removed]",
      "text/plain": [
       "<Figure size 1080x720 with 1 Axes>"
      ]
     },
     "metadata": {},
     "output_type": "display_data"
    }
   ],
   "source": [
    "fig = plt.figure(figsize=(15,10))\n",
    "plt.barh(Xs1_train.columns, xgbcs1.feature_importances_)"
   ]
  },
  {
   "cell_type": "markdown",
   "metadata": {},
   "source": [
    "# Save Model"
   ]
  },
  {
   "cell_type": "code",
   "execution_count": 25,
   "metadata": {
    "ExecuteTime": {
     "end_time": "2022-05-23T14:35:22.213032Z",
     "start_time": "2022-05-23T14:35:22.185057Z"
    }
   },
   "outputs": [
    {
     "data": {
      "text/plain": [
       "['20220523_set1_poc_XGBClassifier.sav']"
      ]
     },
     "execution_count": 25,
     "metadata": {},
     "output_type": "execute_result"
    }
   ],
   "source": [
    "joblib.dump(xgbcs1, DATE + '_set1_' + 'poc_XGBClassifier.sav')"
   ]
  },
  {
   "cell_type": "code",
   "execution_count": 23,
   "metadata": {
    "ExecuteTime": {
     "end_time": "2022-05-23T14:28:31.076226Z",
     "start_time": "2022-05-23T14:28:31.070861Z"
    }
   },
   "outputs": [
    {
     "data": {
      "text/plain": [
       "False    0.956873\n",
       "True     0.043127\n",
       "Name: pred_XGBoost, dtype: float64"
      ]
     },
     "execution_count": 23,
     "metadata": {},
     "output_type": "execute_result"
    }
   ],
   "source": [
    "df_pred.pred_XGBoost.value_counts(' ')"
   ]
  },
  {
   "cell_type": "code",
   "execution_count": null,
   "metadata": {},
   "outputs": [],
   "source": []
  }
 ],
 "metadata": {
  "hide_input": false,
  "kernelspec": {
   "display_name": "kaggle-stroke-venv",
   "language": "python",
   "name": "kaggle-stroke-venv"
  },
  "language_info": {
   "codemirror_mode": {
    "name": "ipython",
    "version": 3
   },
   "file_extension": ".py",
   "mimetype": "text/x-python",
   "name": "python",
   "nbconvert_exporter": "python",
   "pygments_lexer": "ipython3",
   "version": "3.8.3"
  },
  "varInspector": {
   "cols": {
    "lenName": 16,
    "lenType": 16,
    "lenVar": 40
   },
   "kernels_config": {
    "python": {
     "delete_cmd_postfix": "",
     "delete_cmd_prefix": "del ",
     "library": "var_list.py",
     "varRefreshCmd": "print(var_dic_list())"
    },
    "r": {
     "delete_cmd_postfix": ") ",
     "delete_cmd_prefix": "rm(",
     "library": "var_list.r",
     "varRefreshCmd": "cat(var_dic_list()) "
    }
   },
   "types_to_exclude": [
    "module",
    "function",
    "builtin_function_or_method",
    "instance",
    "_Feature"
   ],
   "window_display": false
  }
 },
 "nbformat": 4,
 "nbformat_minor": 4
}
