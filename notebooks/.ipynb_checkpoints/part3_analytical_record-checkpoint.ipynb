{
 "cells": [
  {
   "cell_type": "markdown",
   "metadata": {},
   "source": [
    "# Cornershop's Data Science Test\n",
    "\n",
    "## Dev: Mateus Broilo\n",
    "mateus.brilo90@gmail.com\n",
    "\n",
    "* Objectives: Load Datasets and perform "
   ]
  },
  {
   "cell_type": "markdown",
   "metadata": {},
   "source": [
    " # Summary\n",
    "\n",
    "* Initials\n",
    "    * Loading Libraries and Packages\n",
    "    * Configurations\n",
    "    * Global Variables\n",
    "    * Function's Definition\n",
    "        * Class of function associated with the bag of dataset's information\n",
    "* Loading data\n",
    "* Analytical Record"
   ]
  },
  {
   "cell_type": "markdown",
   "metadata": {},
   "source": [
    "# Initials\n",
    "* Loading Libraries and Packages\n",
    "* Configuration\n",
    "* Global Variables"
   ]
  },
  {
   "cell_type": "markdown",
   "metadata": {},
   "source": [
    "## Loading Libraries and Packages "
   ]
  },
  {
   "cell_type": "code",
   "execution_count": 2,
   "metadata": {
    "ExecuteTime": {
     "end_time": "2022-05-20T19:04:37.425995Z",
     "start_time": "2022-05-20T19:04:37.212237Z"
    }
   },
   "outputs": [],
   "source": [
    "# general\n",
    "import warnings\n",
    "import time\n",
    "import gc\n",
    "\n",
    "#data\n",
    "import pandas as pd\n",
    "from datetime import (datetime, date)"
   ]
  },
  {
   "cell_type": "code",
   "execution_count": 4,
   "metadata": {
    "ExecuteTime": {
     "end_time": "2022-05-20T19:04:42.612480Z",
     "start_time": "2022-05-20T19:04:42.491552Z"
    }
   },
   "outputs": [
    {
     "name": "stdout",
     "output_type": "stream",
     "text": [
      "total 504\r\n",
      "-rw-rw-r-- 1 broilo broilo 514550 mai 20 15:58 20220520_corrected_sheet1.csv\r\n"
     ]
    }
   ],
   "source": [
    "ls -l ../data/"
   ]
  },
  {
   "cell_type": "markdown",
   "metadata": {},
   "source": [
    "## Configurations"
   ]
  },
  {
   "cell_type": "code",
   "execution_count": 5,
   "metadata": {
    "ExecuteTime": {
     "end_time": "2022-05-20T19:05:05.056712Z",
     "start_time": "2022-05-20T19:05:05.042003Z"
    }
   },
   "outputs": [],
   "source": [
    "warnings.filterwarnings(\"ignore\")\n",
    "pd.set_option('display.max_columns', 10)\n",
    "pd.set_option('display.max_rows', 20)"
   ]
  },
  {
   "cell_type": "markdown",
   "metadata": {},
   "source": [
    "## Global Variables"
   ]
  },
  {
   "cell_type": "code",
   "execution_count": 6,
   "metadata": {
    "ExecuteTime": {
     "end_time": "2022-05-20T19:05:06.619062Z",
     "start_time": "2022-05-20T19:05:06.610675Z"
    }
   },
   "outputs": [],
   "source": [
    "PATH_DATA = \"../data/\"\n",
    "DATA = \"20220520_corrected_sheet1.csv\"\n",
    "DATE = time.strftime(\"%Y%m%d\")"
   ]
  },
  {
   "cell_type": "markdown",
   "metadata": {},
   "source": [
    "## Function's Definition"
   ]
  },
  {
   "cell_type": "markdown",
   "metadata": {},
   "source": [
    "### Class of function associated with the bag of dataset's information"
   ]
  },
  {
   "cell_type": "code",
   "execution_count": 18,
   "metadata": {
    "ExecuteTime": {
     "end_time": "2022-05-20T19:12:13.997813Z",
     "start_time": "2022-05-20T19:12:13.969888Z"
    }
   },
   "outputs": [],
   "source": [
    "class infoTools:\n",
    "    \n",
    "    def list(dataset, listCol):\n",
    "        \"\"\"\n",
    "        This function returns a table containing all the\n",
    "        specific required information about the dataset\n",
    "        and will be used to construct the Analytical Record.\n",
    "        Args:\n",
    "            dataset (object/spreadsheet): The dataset under analysis.\n",
    "            listCol (str list): List containing the columns of the dataset under analysis.\n",
    "        Returns:\n",
    "            table (object/spreadsheet): Analytical Record informations.\n",
    "        \"\"\"\n",
    "\n",
    "        info = []\n",
    "\n",
    "        for i in listCol:\n",
    "            dtypes = dataset[i].dtypes\n",
    "            unique = len(dataset[i].unique())\n",
    "            null = dataset[i].isna().sum()\n",
    "            nonNull = dataset[i].loc[~dataset[i].isna()].count()\n",
    "            tot = null + nonNull\n",
    "            nullPct = round((null / tot)*100, 3)\n",
    "            nonNullPct = round((nonNull / tot)*100, 3)\n",
    "            info.append([i, dtypes, null, nonNull, nullPct, nonNullPct, unique])\n",
    "            \n",
    "        cols = ['COLUMN_NAME', 'COLUMN_DTYPE', '#_NULL', '#_NON_NULL', '%_NULL', '%_NON_NULL', 'UNIQUE_VALUES']\n",
    "        table = pd.DataFrame(info, columns=cols)\n",
    "        return table\n",
    "    \n",
    "    def unique(dataset, listCol):\n",
    "        \"\"\"\n",
    "        This function returns a tabulate-form table containing \n",
    "        all the unique entries related to the columns/features.\n",
    "        Args:\n",
    "            dataset (object/spreadsheet): The dataset under analysis.\n",
    "            listCol (str list): List containing the columns of the dataset under analysis.\n",
    "        Returns:\n",
    "            table (object/spreadsheet): Tabulate with unique entries.\n",
    "        \"\"\"\n",
    "\n",
    "        data = []\n",
    "\n",
    "        for i in listCol:\n",
    "            uniqueLen = dataset[i].unique()\n",
    "            data.append([i, dataset[i].dtypes, uniqueLen])\n",
    "            \n",
    "        cols = ['COLUMN_NAME', 'COLUMN_DTYPE', 'UNIQUE_VALUES']\n",
    "        table = pd.DataFrame(data, columns=cols)\n",
    "        return table"
   ]
  },
  {
   "cell_type": "markdown",
   "metadata": {},
   "source": [
    "# Loading Datasets"
   ]
  },
  {
   "cell_type": "code",
   "execution_count": 9,
   "metadata": {
    "ExecuteTime": {
     "end_time": "2022-05-20T19:06:10.484314Z",
     "start_time": "2022-05-20T19:06:10.429613Z"
    }
   },
   "outputs": [
    {
     "name": "stdout",
     "output_type": "stream",
     "text": [
      "(11128, 5)\n"
     ]
    },
    {
     "data": {
      "text/html": [
       "<div>\n",
       "<style scoped>\n",
       "    .dataframe tbody tr th:only-of-type {\n",
       "        vertical-align: middle;\n",
       "    }\n",
       "\n",
       "    .dataframe tbody tr th {\n",
       "        vertical-align: top;\n",
       "    }\n",
       "\n",
       "    .dataframe thead th {\n",
       "        text-align: right;\n",
       "    }\n",
       "</style>\n",
       "<table border=\"1\" class=\"dataframe\">\n",
       "  <thead>\n",
       "    <tr style=\"text-align: right;\">\n",
       "      <th></th>\n",
       "      <th>Dia</th>\n",
       "      <th>Hora</th>\n",
       "      <th>Valor</th>\n",
       "      <th>Cartão</th>\n",
       "      <th>CBK</th>\n",
       "    </tr>\n",
       "  </thead>\n",
       "  <tbody>\n",
       "    <tr>\n",
       "      <th>0</th>\n",
       "      <td>2015-05-01</td>\n",
       "      <td>00:01:54</td>\n",
       "      <td>36.54</td>\n",
       "      <td>536518******2108</td>\n",
       "      <td>Não</td>\n",
       "    </tr>\n",
       "    <tr>\n",
       "      <th>1</th>\n",
       "      <td>2015-05-01</td>\n",
       "      <td>00:03:46</td>\n",
       "      <td>36.54</td>\n",
       "      <td>536518******2108</td>\n",
       "      <td>Não</td>\n",
       "    </tr>\n",
       "    <tr>\n",
       "      <th>2</th>\n",
       "      <td>2015-05-01</td>\n",
       "      <td>00:08:50</td>\n",
       "      <td>69.00</td>\n",
       "      <td>453211******1239</td>\n",
       "      <td>Não</td>\n",
       "    </tr>\n",
       "    <tr>\n",
       "      <th>3</th>\n",
       "      <td>2015-05-01</td>\n",
       "      <td>00:27:00</td>\n",
       "      <td>193.43</td>\n",
       "      <td>548827******1705</td>\n",
       "      <td>Não</td>\n",
       "    </tr>\n",
       "    <tr>\n",
       "      <th>4</th>\n",
       "      <td>2015-05-01</td>\n",
       "      <td>01:32:46</td>\n",
       "      <td>132.00</td>\n",
       "      <td>531681******9778</td>\n",
       "      <td>Não</td>\n",
       "    </tr>\n",
       "    <tr>\n",
       "      <th>...</th>\n",
       "      <td>...</td>\n",
       "      <td>...</td>\n",
       "      <td>...</td>\n",
       "      <td>...</td>\n",
       "      <td>...</td>\n",
       "    </tr>\n",
       "    <tr>\n",
       "      <th>11123</th>\n",
       "      <td>2015-05-30</td>\n",
       "      <td>23:07:01</td>\n",
       "      <td>53.00</td>\n",
       "      <td>514868******7409</td>\n",
       "      <td>Não</td>\n",
       "    </tr>\n",
       "    <tr>\n",
       "      <th>11124</th>\n",
       "      <td>2015-05-30</td>\n",
       "      <td>23:08:47</td>\n",
       "      <td>15.00</td>\n",
       "      <td>439354******5281</td>\n",
       "      <td>Não</td>\n",
       "    </tr>\n",
       "    <tr>\n",
       "      <th>11125</th>\n",
       "      <td>2015-05-30</td>\n",
       "      <td>23:15:24</td>\n",
       "      <td>20.00</td>\n",
       "      <td>549167******1648</td>\n",
       "      <td>Não</td>\n",
       "    </tr>\n",
       "    <tr>\n",
       "      <th>11126</th>\n",
       "      <td>2015-05-30</td>\n",
       "      <td>23:17:41</td>\n",
       "      <td>70.00</td>\n",
       "      <td>518759******8384</td>\n",
       "      <td>Não</td>\n",
       "    </tr>\n",
       "    <tr>\n",
       "      <th>11127</th>\n",
       "      <td>2015-05-30</td>\n",
       "      <td>23:51:31</td>\n",
       "      <td>20.00</td>\n",
       "      <td>518759******0329</td>\n",
       "      <td>Não</td>\n",
       "    </tr>\n",
       "  </tbody>\n",
       "</table>\n",
       "<p>11128 rows × 5 columns</p>\n",
       "</div>"
      ],
      "text/plain": [
       "              Dia      Hora   Valor            Cartão  CBK\n",
       "0      2015-05-01  00:01:54   36.54  536518******2108  Não\n",
       "1      2015-05-01  00:03:46   36.54  536518******2108  Não\n",
       "2      2015-05-01  00:08:50   69.00  453211******1239  Não\n",
       "3      2015-05-01  00:27:00  193.43  548827******1705  Não\n",
       "4      2015-05-01  01:32:46  132.00  531681******9778  Não\n",
       "...           ...       ...     ...               ...  ...\n",
       "11123  2015-05-30  23:07:01   53.00  514868******7409  Não\n",
       "11124  2015-05-30  23:08:47   15.00  439354******5281  Não\n",
       "11125  2015-05-30  23:15:24   20.00  549167******1648  Não\n",
       "11126  2015-05-30  23:17:41   70.00  518759******8384  Não\n",
       "11127  2015-05-30  23:51:31   20.00  518759******0329  Não\n",
       "\n",
       "[11128 rows x 5 columns]"
      ]
     },
     "execution_count": 9,
     "metadata": {},
     "output_type": "execute_result"
    }
   ],
   "source": [
    "df = pd.read_csv(PATH_DATA + DATA, sep=',')\n",
    "print(df.shape)\n",
    "df"
   ]
  },
  {
   "cell_type": "markdown",
   "metadata": {},
   "source": [
    "# Analytical Record"
   ]
  },
  {
   "cell_type": "code",
   "execution_count": 19,
   "metadata": {
    "ExecuteTime": {
     "end_time": "2022-05-20T19:12:17.570340Z",
     "start_time": "2022-05-20T19:12:17.561662Z"
    }
   },
   "outputs": [
    {
     "name": "stdout",
     "output_type": "stream",
     "text": [
      "infoTools.list:\n",
      "\n",
      "        This function returns a table containing all the\n",
      "        specific required information about the dataset\n",
      "        and will be used to construct the Analytical Record.\n",
      "        Args:\n",
      "            dataset (object/spreadsheet): The dataset under analysis.\n",
      "            listCol (str list): List containing the columns of the dataset under analysis.\n",
      "        Returns:\n",
      "            table (object/spreadsheet): Analytical Record informations.\n",
      "        \n",
      "infoTools.uique:\n",
      "\n",
      "        This function returns a tabulate-form table containing \n",
      "        all the unique entries related to the columns/features.\n",
      "        Args:\n",
      "            dataset (object/spreadsheet): The dataset under analysis.\n",
      "            listCol (str list): List containing the columns of the dataset under analysis.\n",
      "        Returns:\n",
      "            table (object/spreadsheet): Tabulate with unique entries.\n",
      "        \n"
     ]
    }
   ],
   "source": [
    "print(f\"infoTools.list:\\n{infoTools.list.__doc__}\")\n",
    "print(f\"infoTools.uique:\\n{infoTools.unique.__doc__}\")"
   ]
  },
  {
   "cell_type": "code",
   "execution_count": 14,
   "metadata": {
    "ExecuteTime": {
     "end_time": "2022-05-20T19:08:17.387124Z",
     "start_time": "2022-05-20T19:08:17.359257Z"
    }
   },
   "outputs": [
    {
     "data": {
      "text/html": [
       "<div>\n",
       "<style scoped>\n",
       "    .dataframe tbody tr th:only-of-type {\n",
       "        vertical-align: middle;\n",
       "    }\n",
       "\n",
       "    .dataframe tbody tr th {\n",
       "        vertical-align: top;\n",
       "    }\n",
       "\n",
       "    .dataframe thead th {\n",
       "        text-align: right;\n",
       "    }\n",
       "</style>\n",
       "<table border=\"1\" class=\"dataframe\">\n",
       "  <thead>\n",
       "    <tr style=\"text-align: right;\">\n",
       "      <th></th>\n",
       "      <th>count</th>\n",
       "      <th>mean</th>\n",
       "      <th>std</th>\n",
       "      <th>min</th>\n",
       "      <th>25%</th>\n",
       "      <th>50%</th>\n",
       "      <th>75%</th>\n",
       "      <th>max</th>\n",
       "    </tr>\n",
       "  </thead>\n",
       "  <tbody>\n",
       "    <tr>\n",
       "      <th>Valor</th>\n",
       "      <td>11128.0</td>\n",
       "      <td>129.550076</td>\n",
       "      <td>141.420554</td>\n",
       "      <td>1.0</td>\n",
       "      <td>55.0</td>\n",
       "      <td>99.0</td>\n",
       "      <td>154.0</td>\n",
       "      <td>2920.0</td>\n",
       "    </tr>\n",
       "  </tbody>\n",
       "</table>\n",
       "</div>"
      ],
      "text/plain": [
       "         count        mean         std  min   25%   50%    75%     max\n",
       "Valor  11128.0  129.550076  141.420554  1.0  55.0  99.0  154.0  2920.0"
      ]
     },
     "execution_count": 14,
     "metadata": {},
     "output_type": "execute_result"
    }
   ],
   "source": [
    "df.describe().T"
   ]
  },
  {
   "cell_type": "code",
   "execution_count": 16,
   "metadata": {
    "ExecuteTime": {
     "end_time": "2022-05-20T19:09:41.351131Z",
     "start_time": "2022-05-20T19:09:41.317686Z"
    }
   },
   "outputs": [
    {
     "data": {
      "text/html": [
       "<div>\n",
       "<style scoped>\n",
       "    .dataframe tbody tr th:only-of-type {\n",
       "        vertical-align: middle;\n",
       "    }\n",
       "\n",
       "    .dataframe tbody tr th {\n",
       "        vertical-align: top;\n",
       "    }\n",
       "\n",
       "    .dataframe thead th {\n",
       "        text-align: right;\n",
       "    }\n",
       "</style>\n",
       "<table border=\"1\" class=\"dataframe\">\n",
       "  <thead>\n",
       "    <tr style=\"text-align: right;\">\n",
       "      <th></th>\n",
       "      <th>COLUMN_NAME</th>\n",
       "      <th>COLUMN_DTYPE</th>\n",
       "      <th>#_NULL</th>\n",
       "      <th>#_NON_NULL</th>\n",
       "      <th>%_NULL</th>\n",
       "      <th>%_NON_NULL</th>\n",
       "      <th>UNIQUE_VALUES</th>\n",
       "    </tr>\n",
       "  </thead>\n",
       "  <tbody>\n",
       "    <tr>\n",
       "      <th>0</th>\n",
       "      <td>Dia</td>\n",
       "      <td>object</td>\n",
       "      <td>0</td>\n",
       "      <td>11128</td>\n",
       "      <td>0.0</td>\n",
       "      <td>100.0</td>\n",
       "      <td>30</td>\n",
       "    </tr>\n",
       "    <tr>\n",
       "      <th>1</th>\n",
       "      <td>Hora</td>\n",
       "      <td>object</td>\n",
       "      <td>0</td>\n",
       "      <td>11128</td>\n",
       "      <td>0.0</td>\n",
       "      <td>100.0</td>\n",
       "      <td>10044</td>\n",
       "    </tr>\n",
       "    <tr>\n",
       "      <th>2</th>\n",
       "      <td>Valor</td>\n",
       "      <td>float64</td>\n",
       "      <td>0</td>\n",
       "      <td>11128</td>\n",
       "      <td>0.0</td>\n",
       "      <td>100.0</td>\n",
       "      <td>511</td>\n",
       "    </tr>\n",
       "    <tr>\n",
       "      <th>3</th>\n",
       "      <td>Cartão</td>\n",
       "      <td>object</td>\n",
       "      <td>0</td>\n",
       "      <td>11128</td>\n",
       "      <td>0.0</td>\n",
       "      <td>100.0</td>\n",
       "      <td>9260</td>\n",
       "    </tr>\n",
       "    <tr>\n",
       "      <th>4</th>\n",
       "      <td>CBK</td>\n",
       "      <td>object</td>\n",
       "      <td>0</td>\n",
       "      <td>11128</td>\n",
       "      <td>0.0</td>\n",
       "      <td>100.0</td>\n",
       "      <td>2</td>\n",
       "    </tr>\n",
       "  </tbody>\n",
       "</table>\n",
       "</div>"
      ],
      "text/plain": [
       "  COLUMN_NAME COLUMN_DTYPE  #_NULL  #_NON_NULL  %_NULL  %_NON_NULL  \\\n",
       "0         Dia       object       0       11128     0.0       100.0   \n",
       "1        Hora       object       0       11128     0.0       100.0   \n",
       "2       Valor      float64       0       11128     0.0       100.0   \n",
       "3      Cartão       object       0       11128     0.0       100.0   \n",
       "4         CBK       object       0       11128     0.0       100.0   \n",
       "\n",
       "   UNIQUE_VALUES  \n",
       "0             30  \n",
       "1          10044  \n",
       "2            511  \n",
       "3           9260  \n",
       "4              2  "
      ]
     },
     "execution_count": 16,
     "metadata": {},
     "output_type": "execute_result"
    }
   ],
   "source": [
    "tableList = infoTools.list(df, df.columns)\n",
    "tableList"
   ]
  },
  {
   "cell_type": "code",
   "execution_count": 20,
   "metadata": {
    "ExecuteTime": {
     "end_time": "2022-05-20T19:12:22.892662Z",
     "start_time": "2022-05-20T19:12:22.875354Z"
    }
   },
   "outputs": [
    {
     "data": {
      "text/html": [
       "<div>\n",
       "<style scoped>\n",
       "    .dataframe tbody tr th:only-of-type {\n",
       "        vertical-align: middle;\n",
       "    }\n",
       "\n",
       "    .dataframe tbody tr th {\n",
       "        vertical-align: top;\n",
       "    }\n",
       "\n",
       "    .dataframe thead th {\n",
       "        text-align: right;\n",
       "    }\n",
       "</style>\n",
       "<table border=\"1\" class=\"dataframe\">\n",
       "  <thead>\n",
       "    <tr style=\"text-align: right;\">\n",
       "      <th></th>\n",
       "      <th>COLUMN_NAME</th>\n",
       "      <th>COLUMN_DTYPE</th>\n",
       "      <th>UNIQUE_VALUES</th>\n",
       "    </tr>\n",
       "  </thead>\n",
       "  <tbody>\n",
       "    <tr>\n",
       "      <th>0</th>\n",
       "      <td>Dia</td>\n",
       "      <td>object</td>\n",
       "      <td>[2015-05-01, 2015-05-02, 2015-05-03, 2015-05-0...</td>\n",
       "    </tr>\n",
       "    <tr>\n",
       "      <th>1</th>\n",
       "      <td>Hora</td>\n",
       "      <td>object</td>\n",
       "      <td>[00:01:54, 00:03:46, 00:08:50, 00:27:00, 01:32...</td>\n",
       "    </tr>\n",
       "    <tr>\n",
       "      <th>2</th>\n",
       "      <td>Valor</td>\n",
       "      <td>float64</td>\n",
       "      <td>[36.54, 69.0, 193.43, 132.0, 161.0, 110.0, 159...</td>\n",
       "    </tr>\n",
       "    <tr>\n",
       "      <th>3</th>\n",
       "      <td>Cartão</td>\n",
       "      <td>object</td>\n",
       "      <td>[536518******2108, 453211******1239, 548827***...</td>\n",
       "    </tr>\n",
       "    <tr>\n",
       "      <th>4</th>\n",
       "      <td>CBK</td>\n",
       "      <td>object</td>\n",
       "      <td>[Não, Sim]</td>\n",
       "    </tr>\n",
       "  </tbody>\n",
       "</table>\n",
       "</div>"
      ],
      "text/plain": [
       "  COLUMN_NAME COLUMN_DTYPE                                      UNIQUE_VALUES\n",
       "0         Dia       object  [2015-05-01, 2015-05-02, 2015-05-03, 2015-05-0...\n",
       "1        Hora       object  [00:01:54, 00:03:46, 00:08:50, 00:27:00, 01:32...\n",
       "2       Valor      float64  [36.54, 69.0, 193.43, 132.0, 161.0, 110.0, 159...\n",
       "3      Cartão       object  [536518******2108, 453211******1239, 548827***...\n",
       "4         CBK       object                                         [Não, Sim]"
      ]
     },
     "execution_count": 20,
     "metadata": {},
     "output_type": "execute_result"
    }
   ],
   "source": [
    "tableUnique = infoTools.unique(df, df.columns)\n",
    "tableUnique"
   ]
  },
  {
   "cell_type": "code",
   "execution_count": null,
   "metadata": {},
   "outputs": [],
   "source": []
  }
 ],
 "metadata": {
  "hide_input": false,
  "kernelspec": {
   "display_name": "Python 3",
   "language": "python",
   "name": "python3"
  },
  "language_info": {
   "codemirror_mode": {
    "name": "ipython",
    "version": 3
   },
   "file_extension": ".py",
   "mimetype": "text/x-python",
   "name": "python",
   "nbconvert_exporter": "python",
   "pygments_lexer": "ipython3",
   "version": "3.8.3"
  },
  "varInspector": {
   "cols": {
    "lenName": 16,
    "lenType": 16,
    "lenVar": 40
   },
   "kernels_config": {
    "python": {
     "delete_cmd_postfix": "",
     "delete_cmd_prefix": "del ",
     "library": "var_list.py",
     "varRefreshCmd": "print(var_dic_list())"
    },
    "r": {
     "delete_cmd_postfix": ") ",
     "delete_cmd_prefix": "rm(",
     "library": "var_list.r",
     "varRefreshCmd": "cat(var_dic_list()) "
    }
   },
   "types_to_exclude": [
    "module",
    "function",
    "builtin_function_or_method",
    "instance",
    "_Feature"
   ],
   "window_display": false
  }
 },
 "nbformat": 4,
 "nbformat_minor": 4
}
